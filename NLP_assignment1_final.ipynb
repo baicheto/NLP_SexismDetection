{
  "cells": [
    {
      "cell_type": "markdown",
      "metadata": {
        "id": "qE4WC2_4wygJ"
      },
      "source": [
        "# Assignment 1\n",
        "**Credits**: Federico Ruggeri, Eleonora Mancini, Paolo Torroni\n",
        "\n",
        "**Keywords**: Sexism Detection, Multi-class Classification, RNNs, Transformers, Huggingface\n",
        "\n"
      ]
    },
    {
      "cell_type": "markdown",
      "metadata": {
        "id": "fL69zGpmx01k"
      },
      "source": [
        "# Contact\n",
        "For any doubt, question, issue or help, you can always contact us at the following email addresses:\n",
        "\n",
        "Teaching Assistants:\n",
        "\n",
        "- Federico Ruggeri -> federico.ruggeri6@unibo.it\n",
        "- Eleonora Mancini -> e.mancini@unibo.it\n",
        "\n",
        "Professor:\n",
        "- Paolo Torroni -> p.torroni@unibo.it"
      ]
    },
    {
      "cell_type": "markdown",
      "metadata": {
        "id": "55jnW-xKxi-2"
      },
      "source": [
        "# Introduction\n",
        "You are asked to address the [EXIST 2023 Task 1](https://clef2023.clef-initiative.eu/index.php?page=Pages/labs.html#EXIST) on sexism detection."
      ]
    },
    {
      "cell_type": "markdown",
      "metadata": {
        "id": "9HWp5bGwySsb"
      },
      "source": [
        "## Problem Definition\n",
        "The systems have to decide whether or not a given tweet contains or describes sexist expressions or behaviors (i.e., it is sexist itself, describes a sexist situation or criticizes a sexist behavior).\n",
        "\n",
        "### Examples:\n",
        "\n",
        "**Text**: *Can’t go a day without women womening*\n",
        "\n",
        "**Label**: Sexist\n",
        "\n",
        "**Text**: *''Society's set norms! Happy men's day though!#weareequal''*\n",
        "\n",
        "**Label**: Not sexist"
      ]
    },
    {
      "cell_type": "markdown",
      "metadata": {
        "id": "2iu1X4I98M8B"
      },
      "source": [
        "#[Task 1 - 1.0 points] Corpus\n",
        "\n",
        "We have preparared a small version of EXIST dataset in our dedicated [Github repository](https://github.com/lt-nlp-lab-unibo/nlp-course-material/tree/main/2024-2025/Assignment%201/data).\n",
        "\n",
        "Check the `A1/data` folder. It contains 3 `.json` files representing `training`, `validation` and `test` sets.\n",
        "\n",
        "The three sets are slightly unbalanced, with a bias toward the `Non-sexist` class.\n",
        "\n"
      ]
    },
    {
      "cell_type": "markdown",
      "metadata": {
        "id": "AASoMV9XN5l6"
      },
      "source": [
        "### Dataset Description\n",
        "- The dataset contains tweets in both English and Spanish.\n",
        "- There are labels for multiple tasks, but we are focusing on **Task 1**.\n",
        "- For Task 1, soft labels are assigned by six annotators.\n",
        "- The labels for Task 1 represent whether the tweet is sexist (\"YES\") or not (\"NO\").\n",
        "\n",
        "\n",
        "\n",
        "\n"
      ]
    },
    {
      "cell_type": "markdown",
      "metadata": {
        "id": "OFjwB_lCOQKj"
      },
      "source": [
        "\n",
        "### Example\n",
        "\n",
        "\n",
        "    \"203260\": {\n",
        "        \"id_EXIST\": \"203260\",\n",
        "        \"lang\": \"en\",\n",
        "        \"tweet\": \"ik when mandy says “you look like a whore” i look cute as FUCK\",\n",
        "        \"number_annotators\": 6,\n",
        "        \"annotators\": [\"Annotator_473\", \"Annotator_474\", \"Annotator_475\", \"Annotator_476\", \"Annotator_477\", \"Annotator_27\"],\n",
        "        \"gender_annotators\": [\"F\", \"F\", \"M\", \"M\", \"M\", \"F\"],\n",
        "        \"age_annotators\": [\"18-22\", \"23-45\", \"18-22\", \"23-45\", \"46+\", \"46+\"],\n",
        "        \"labels_task1\": [\"YES\", \"YES\", \"YES\", \"NO\", \"YES\", \"YES\"],\n",
        "        \"labels_task2\": [\"DIRECT\", \"DIRECT\", \"REPORTED\", \"-\", \"JUDGEMENTAL\", \"REPORTED\"],\n",
        "        \"labels_task3\": [\n",
        "          [\"STEREOTYPING-DOMINANCE\"],\n",
        "          [\"OBJECTIFICATION\"],\n",
        "          [\"SEXUAL-VIOLENCE\"],\n",
        "          [\"-\"],\n",
        "          [\"STEREOTYPING-DOMINANCE\", \"OBJECTIFICATION\"],\n",
        "          [\"OBJECTIFICATION\"]\n",
        "        ],\n",
        "        \"split\": \"TRAIN_EN\"\n",
        "      }\n",
        "    }"
      ]
    },
    {
      "cell_type": "code",
      "execution_count": 1,
      "metadata": {
        "colab": {
          "base_uri": "https://localhost:8080/",
          "height": 35
        },
        "id": "QEpzIydTT3YA",
        "outputId": "ac92451f-e5d1-45de-d828-3eb406b5f342"
      },
      "outputs": [
        {
          "data": {
            "text/plain": [
              "\"\\n#Commented because I'm not using jupyter\\nfrom notebook.services.config import ConfigManager\\ncm = ConfigManager()\\ncm.update('livereveal', {\\n        'width': 1024,\\n        'height': 768,\\n        'scroll': True,\\n})\\n\""
            ]
          },
          "execution_count": 1,
          "metadata": {},
          "output_type": "execute_result"
        }
      ],
      "source": [
        "#0. IMPORTS\n",
        "# file management\n",
        "import urllib\n",
        "from pathlib import Path\n",
        "\n",
        "#zip file\n",
        "import zipfile\n",
        "\n",
        "# dataframe management\n",
        "import pandas as pd\n",
        "\n",
        "# data manipulation\n",
        "import numpy as np\n",
        "\n",
        "# for readability\n",
        "from typing import Iterable\n",
        "\n",
        "# viz\n",
        "from tqdm import tqdm\n",
        "'''\n",
        "#Commented because I'm not using jupyter\n",
        "from notebook.services.config import ConfigManager\n",
        "cm = ConfigManager()\n",
        "cm.update('livereveal', {\n",
        "        'width': 1024,\n",
        "        'height': 768,\n",
        "        'scroll': True,\n",
        "})\n",
        "'''"
      ]
    },
    {
      "cell_type": "markdown",
      "metadata": {
        "id": "BJ45bvuOOJ7I"
      },
      "source": [
        "### Instructions\n",
        "1. **Download** the `A1/data` folder.\n",
        "2. **Load** the three JSON files and encode them as pandas dataframes.\n",
        "3. **Generate hard labels** for Task 1 using majority voting and store them in a new dataframe column called `hard_label_task1`. Items without a clear majority will be removed from the dataset.\n",
        "4. **Filter the DataFrame** to keep only rows where the `lang` column is `'en'`.\n",
        "5. **Remove unwanted columns**: Keep only `id_EXIST`, `lang`, `tweet`, and `hard_label_task1`.\n",
        "6. **Encode the `hard_label_task1` column**: Use 1 to represent \"YES\" and 0 to represent \"NO\"."
      ]
    },
    {
      "cell_type": "markdown",
      "metadata": {
        "id": "JXsIQAGrTs2i"
      },
      "source": [
        "### 1. Download the folder"
      ]
    },
    {
      "cell_type": "code",
      "execution_count": 2,
      "metadata": {
        "id": "sWsENHaATpP1"
      },
      "outputs": [],
      "source": [
        "class DownloadProgressBar(tqdm):\n",
        "    \"\"\"\n",
        "    A class to represent a download progress bar, extending the tqdm class.\n",
        "    \"\"\"\n",
        "    def update_to(self, b=1, bsize=1, tsize=None):\n",
        "        if tsize is not None:\n",
        "            self.total = tsize\n",
        "        self.update(b * bsize - self.n)\n",
        "\n",
        "def download_url(download_path: Path, url: str):\n",
        "    \"\"\"\n",
        "    Downloads a file from the given URL to the specified download path, displaying a progress bar.\n",
        "    \"\"\"\n",
        "    with DownloadProgressBar(unit='B', unit_scale=True,\n",
        "                             miniters=1, desc=url.split('/')[-1]) as t:\n",
        "        urllib.request.urlretrieve(url, filename=download_path, reporthook=t.update_to)"
      ]
    },
    {
      "cell_type": "code",
      "execution_count": 3,
      "metadata": {
        "id": "b4rZelPCT52F"
      },
      "outputs": [],
      "source": [
        "def download_dataset(download_path: Path, url: str):\n",
        "    \"\"\"\n",
        "    Downloads a dataset from a given URL to a specified download path.\n",
        "    \"\"\"\n",
        "    print(\"Downloading dataset...\")\n",
        "    download_url(url=url, download_path=download_path)\n",
        "    print(\"Download complete!\")\n",
        "\n",
        "\n",
        "def extract_dataset(download_path: Path, extract_path: Path):\n",
        "    \"\"\"\n",
        "    Extracts a dataset from a ZIP file.\n",
        "\n",
        "    This function checks if the specified download path points to a ZIP file.\n",
        "    If it does, the function extracts the contents of the ZIP file to the specified\n",
        "    extraction path. If the file is not a ZIP file, an error message is printed.\n",
        "    \"\"\"\n",
        "    print(\"Extracting dataset... (it may take a while...)\")\n",
        "    # Check if the file is a ZIP file\n",
        "    if zipfile.is_zipfile(download_path):\n",
        "        with zipfile.ZipFile(download_path, 'r') as zip_ref:\n",
        "            zip_ref.extractall(extract_path)\n",
        "        print(\"Extraction completed!\")\n",
        "    else:\n",
        "        print(\"Error: The downloaded file is not a ZIP file.\")"
      ]
    },
    {
      "cell_type": "code",
      "execution_count": 4,
      "metadata": {
        "colab": {
          "base_uri": "https://localhost:8080/"
        },
        "id": "XPTJJ8cnT8DZ",
        "outputId": "37e2f97d-bbc8-43cd-afd0-1cfad73e277e"
      },
      "outputs": [
        {
          "name": "stdout",
          "output_type": "stream",
          "text": [
            "Downloading dataset...\n"
          ]
        },
        {
          "name": "stderr",
          "output_type": "stream",
          "text": [
            "main.zip: 4.58MB [00:02, 1.57MB/s]"
          ]
        },
        {
          "name": "stdout",
          "output_type": "stream",
          "text": [
            "Download complete!\n",
            "Extracting dataset... (it may take a while...)\n",
            "Extraction completed!\n"
          ]
        },
        {
          "name": "stderr",
          "output_type": "stream",
          "text": [
            "\n"
          ]
        }
      ],
      "source": [
        "# Define paths and URL\n",
        "url = \"https://github.com/nlp-unibo/nlp-course-material/archive/refs/heads/main.zip\"\n",
        "dataset_name = \"Exist\"\n",
        "dataset_folder = Path.cwd().joinpath(\"Datasets\")\n",
        "dataset_folder.mkdir(exist_ok=True)  # Create folder if it doesn't exist\n",
        "download_path = dataset_folder.joinpath(f\"{dataset_name}.zip\")\n",
        "\n",
        "# Download and extract\n",
        "download_dataset(download_path, url)\n",
        "extract_dataset(download_path, dataset_folder)\n"
      ]
    },
    {
      "cell_type": "markdown",
      "metadata": {
        "id": "Go31XBMvULGq"
      },
      "source": [
        "### 2. Load the three JSON files and encode them as pandas dataframes."
      ]
    },
    {
      "cell_type": "code",
      "execution_count": 5,
      "metadata": {
        "colab": {
          "base_uri": "https://localhost:8080/"
        },
        "id": "6-4iL6MnUQNz",
        "outputId": "8a176e32-5de0-4573-8458-993ba51649e9"
      },
      "outputs": [
        {
          "name": "stdout",
          "output_type": "stream",
          "text": [
            "training.json loaded successfully as a DataFrame!\n",
            "training.json DataFrame shape: (11, 6920)\n",
            "test.json loaded successfully as a DataFrame!\n",
            "test.json DataFrame shape: (11, 312)\n",
            "validation.json loaded successfully as a DataFrame!\n",
            "validation.json DataFrame shape: (11, 726)\n"
          ]
        }
      ],
      "source": [
        "import pandas as pd\n",
        "from pathlib import Path\n",
        "\n",
        "# Define the path to the data folder and load JSON files as DataFrames\n",
        "data_folder = dataset_folder.joinpath(\"nlp-course-material-main\", \"2024-2025\", \"Assignment 1\", \"data\")\n",
        "\n",
        "# Load each JSON file as a DataFrame\n",
        "training_file = data_folder.joinpath(\"training.json\")\n",
        "test_file = data_folder.joinpath(\"test.json\")\n",
        "validation_file = data_folder.joinpath(\"validation.json\")\n",
        "\"\"\"\n",
        "def load_json_file(file_path: Path) -> pd.DataFrame:\n",
        "    Loads a JSON file as a DataFrame.\n",
        "    \n",
        "    with open(file_path, \"r\") as file:\n",
        "        df = pd.read_json(file)\n",
        "        print(f\"{file_path.name} loaded successfully as a DataFrame!\")\n",
        "        print(f\"{file_path.name} DataFrame shape: {df.shape}\")\n",
        "    return df\n",
        "\"\"\"\n",
        "def load_json_file(file_path: Path) -> pd.DataFrame:\n",
        "    \"\"\"\n",
        "    Loads a JSON file as a DataFrame.\n",
        "    \"\"\"\n",
        "    with open(file_path, \"r\", encoding=\"utf-8\") as file:\n",
        "        df = pd.read_json(file)\n",
        "        print(f\"{file_path.name} loaded successfully as a DataFrame!\")\n",
        "        print(f\"{file_path.name} DataFrame shape: {df.shape}\")\n",
        "    return df\n",
        "\n",
        "\n",
        "\n",
        "training_df = load_json_file(training_file)\n",
        "test_df = load_json_file(test_file)\n",
        "validation_df = load_json_file(validation_file)\n"
      ]
    },
    {
      "cell_type": "code",
      "execution_count": 6,
      "metadata": {
        "colab": {
          "base_uri": "https://localhost:8080/",
          "height": 394
        },
        "id": "ksjLz58AUVnp",
        "outputId": "8c835e10-c9b5-45e5-9649-6e2a222ecef8"
      },
      "outputs": [
        {
          "data": {
            "text/html": [
              "<div>\n",
              "<style scoped>\n",
              "    .dataframe tbody tr th:only-of-type {\n",
              "        vertical-align: middle;\n",
              "    }\n",
              "\n",
              "    .dataframe tbody tr th {\n",
              "        vertical-align: top;\n",
              "    }\n",
              "\n",
              "    .dataframe thead th {\n",
              "        text-align: right;\n",
              "    }\n",
              "</style>\n",
              "<table border=\"1\" class=\"dataframe\">\n",
              "  <thead>\n",
              "    <tr style=\"text-align: right;\">\n",
              "      <th></th>\n",
              "      <th>100001</th>\n",
              "      <th>100002</th>\n",
              "      <th>100003</th>\n",
              "      <th>100004</th>\n",
              "      <th>100005</th>\n",
              "      <th>100006</th>\n",
              "      <th>100007</th>\n",
              "      <th>100008</th>\n",
              "      <th>100009</th>\n",
              "      <th>100010</th>\n",
              "      <th>...</th>\n",
              "      <th>203251</th>\n",
              "      <th>203252</th>\n",
              "      <th>203253</th>\n",
              "      <th>203254</th>\n",
              "      <th>203255</th>\n",
              "      <th>203256</th>\n",
              "      <th>203257</th>\n",
              "      <th>203258</th>\n",
              "      <th>203259</th>\n",
              "      <th>203260</th>\n",
              "    </tr>\n",
              "  </thead>\n",
              "  <tbody>\n",
              "    <tr>\n",
              "      <th>id_EXIST</th>\n",
              "      <td>100001</td>\n",
              "      <td>100002</td>\n",
              "      <td>100003</td>\n",
              "      <td>100004</td>\n",
              "      <td>100005</td>\n",
              "      <td>100006</td>\n",
              "      <td>100007</td>\n",
              "      <td>100008</td>\n",
              "      <td>100009</td>\n",
              "      <td>100010</td>\n",
              "      <td>...</td>\n",
              "      <td>203251</td>\n",
              "      <td>203252</td>\n",
              "      <td>203253</td>\n",
              "      <td>203254</td>\n",
              "      <td>203255</td>\n",
              "      <td>203256</td>\n",
              "      <td>203257</td>\n",
              "      <td>203258</td>\n",
              "      <td>203259</td>\n",
              "      <td>203260</td>\n",
              "    </tr>\n",
              "    <tr>\n",
              "      <th>lang</th>\n",
              "      <td>es</td>\n",
              "      <td>es</td>\n",
              "      <td>es</td>\n",
              "      <td>es</td>\n",
              "      <td>es</td>\n",
              "      <td>es</td>\n",
              "      <td>es</td>\n",
              "      <td>es</td>\n",
              "      <td>es</td>\n",
              "      <td>es</td>\n",
              "      <td>...</td>\n",
              "      <td>en</td>\n",
              "      <td>en</td>\n",
              "      <td>en</td>\n",
              "      <td>en</td>\n",
              "      <td>en</td>\n",
              "      <td>en</td>\n",
              "      <td>en</td>\n",
              "      <td>en</td>\n",
              "      <td>en</td>\n",
              "      <td>en</td>\n",
              "    </tr>\n",
              "    <tr>\n",
              "      <th>tweet</th>\n",
              "      <td>@TheChiflis Ignora al otro, es un capullo.El p...</td>\n",
              "      <td>@ultimonomada_ Si comicsgate se parece en algo...</td>\n",
              "      <td>@Steven2897 Lee sobre Gamergate, y como eso ha...</td>\n",
              "      <td>@Lunariita7 Un retraso social bastante lamenta...</td>\n",
              "      <td>@novadragon21 @icep4ck @TvDannyZ Entonces como...</td>\n",
              "      <td>@yonkykong Aaah sí. Andrew Dobson. El que se d...</td>\n",
              "      <td>@glutamatom @JoaquinAdolfoC Estaba del lado de...</td>\n",
              "      <td>@BestKabest Esta gringa sigue llorando por el ...</td>\n",
              "      <td>.¿Conoces la #DECORACION #estilo #GAMER para #...</td>\n",
              "      <td>CES 2022 ASUS ROG Rise of Gamers Evento de lan...</td>\n",
              "      <td>...</td>\n",
              "      <td>\"you look like a whore\" I'm literally wearing ...</td>\n",
              "      <td>“You look like a whore” if you think I’m cute ...</td>\n",
              "      <td>Who fucking lied to you? You look like a whore...</td>\n",
              "      <td>@ShefVaidya Ma'am if I say that you look like ...</td>\n",
              "      <td>I forgot I have a m*d that changes the drachen...</td>\n",
              "      <td>idk why y’all bitches think having half your a...</td>\n",
              "      <td>This has been a part of an experiment with @Wo...</td>\n",
              "      <td>\"Take me already\" \"Not yet. You gotta be ready...</td>\n",
              "      <td>@clintneedcoffee why do you look like a whore?...</td>\n",
              "      <td>ik when mandy says “you look like a whore” i l...</td>\n",
              "    </tr>\n",
              "    <tr>\n",
              "      <th>number_annotators</th>\n",
              "      <td>6</td>\n",
              "      <td>6</td>\n",
              "      <td>6</td>\n",
              "      <td>6</td>\n",
              "      <td>6</td>\n",
              "      <td>6</td>\n",
              "      <td>6</td>\n",
              "      <td>6</td>\n",
              "      <td>6</td>\n",
              "      <td>6</td>\n",
              "      <td>...</td>\n",
              "      <td>6</td>\n",
              "      <td>6</td>\n",
              "      <td>6</td>\n",
              "      <td>6</td>\n",
              "      <td>6</td>\n",
              "      <td>6</td>\n",
              "      <td>6</td>\n",
              "      <td>6</td>\n",
              "      <td>6</td>\n",
              "      <td>6</td>\n",
              "    </tr>\n",
              "    <tr>\n",
              "      <th>annotators</th>\n",
              "      <td>[Annotator_1, Annotator_2, Annotator_3, Annota...</td>\n",
              "      <td>[Annotator_7, Annotator_8, Annotator_9, Annota...</td>\n",
              "      <td>[Annotator_7, Annotator_8, Annotator_9, Annota...</td>\n",
              "      <td>[Annotator_13, Annotator_14, Annotator_15, Ann...</td>\n",
              "      <td>[Annotator_19, Annotator_20, Annotator_21, Ann...</td>\n",
              "      <td>[Annotator_25, Annotator_26, Annotator_27, Ann...</td>\n",
              "      <td>[Annotator_25, Annotator_26, Annotator_27, Ann...</td>\n",
              "      <td>[Annotator_25, Annotator_26, Annotator_27, Ann...</td>\n",
              "      <td>[Annotator_31, Annotator_32, Annotator_33, Ann...</td>\n",
              "      <td>[Annotator_37, Annotator_38, Annotator_39, Ann...</td>\n",
              "      <td>...</td>\n",
              "      <td>[Annotator_473, Annotator_474, Annotator_475, ...</td>\n",
              "      <td>[Annotator_617, Annotator_618, Annotator_619, ...</td>\n",
              "      <td>[Annotator_617, Annotator_618, Annotator_619, ...</td>\n",
              "      <td>[Annotator_668, Annotator_669, Annotator_670, ...</td>\n",
              "      <td>[Annotator_674, Annotator_675, Annotator_676, ...</td>\n",
              "      <td>[Annotator_478, Annotator_479, Annotator_480, ...</td>\n",
              "      <td>[Annotator_668, Annotator_669, Annotator_670, ...</td>\n",
              "      <td>[Annotator_467, Annotator_468, Annotator_469, ...</td>\n",
              "      <td>[Annotator_674, Annotator_675, Annotator_676, ...</td>\n",
              "      <td>[Annotator_473, Annotator_474, Annotator_475, ...</td>\n",
              "    </tr>\n",
              "  </tbody>\n",
              "</table>\n",
              "<p>5 rows × 6920 columns</p>\n",
              "</div>"
            ],
            "text/plain": [
              "                                                              100001  \\\n",
              "id_EXIST                                                      100001   \n",
              "lang                                                              es   \n",
              "tweet              @TheChiflis Ignora al otro, es un capullo.El p...   \n",
              "number_annotators                                                  6   \n",
              "annotators         [Annotator_1, Annotator_2, Annotator_3, Annota...   \n",
              "\n",
              "                                                              100002  \\\n",
              "id_EXIST                                                      100002   \n",
              "lang                                                              es   \n",
              "tweet              @ultimonomada_ Si comicsgate se parece en algo...   \n",
              "number_annotators                                                  6   \n",
              "annotators         [Annotator_7, Annotator_8, Annotator_9, Annota...   \n",
              "\n",
              "                                                              100003  \\\n",
              "id_EXIST                                                      100003   \n",
              "lang                                                              es   \n",
              "tweet              @Steven2897 Lee sobre Gamergate, y como eso ha...   \n",
              "number_annotators                                                  6   \n",
              "annotators         [Annotator_7, Annotator_8, Annotator_9, Annota...   \n",
              "\n",
              "                                                              100004  \\\n",
              "id_EXIST                                                      100004   \n",
              "lang                                                              es   \n",
              "tweet              @Lunariita7 Un retraso social bastante lamenta...   \n",
              "number_annotators                                                  6   \n",
              "annotators         [Annotator_13, Annotator_14, Annotator_15, Ann...   \n",
              "\n",
              "                                                              100005  \\\n",
              "id_EXIST                                                      100005   \n",
              "lang                                                              es   \n",
              "tweet              @novadragon21 @icep4ck @TvDannyZ Entonces como...   \n",
              "number_annotators                                                  6   \n",
              "annotators         [Annotator_19, Annotator_20, Annotator_21, Ann...   \n",
              "\n",
              "                                                              100006  \\\n",
              "id_EXIST                                                      100006   \n",
              "lang                                                              es   \n",
              "tweet              @yonkykong Aaah sí. Andrew Dobson. El que se d...   \n",
              "number_annotators                                                  6   \n",
              "annotators         [Annotator_25, Annotator_26, Annotator_27, Ann...   \n",
              "\n",
              "                                                              100007  \\\n",
              "id_EXIST                                                      100007   \n",
              "lang                                                              es   \n",
              "tweet              @glutamatom @JoaquinAdolfoC Estaba del lado de...   \n",
              "number_annotators                                                  6   \n",
              "annotators         [Annotator_25, Annotator_26, Annotator_27, Ann...   \n",
              "\n",
              "                                                              100008  \\\n",
              "id_EXIST                                                      100008   \n",
              "lang                                                              es   \n",
              "tweet              @BestKabest Esta gringa sigue llorando por el ...   \n",
              "number_annotators                                                  6   \n",
              "annotators         [Annotator_25, Annotator_26, Annotator_27, Ann...   \n",
              "\n",
              "                                                              100009  \\\n",
              "id_EXIST                                                      100009   \n",
              "lang                                                              es   \n",
              "tweet              .¿Conoces la #DECORACION #estilo #GAMER para #...   \n",
              "number_annotators                                                  6   \n",
              "annotators         [Annotator_31, Annotator_32, Annotator_33, Ann...   \n",
              "\n",
              "                                                              100010  ...  \\\n",
              "id_EXIST                                                      100010  ...   \n",
              "lang                                                              es  ...   \n",
              "tweet              CES 2022 ASUS ROG Rise of Gamers Evento de lan...  ...   \n",
              "number_annotators                                                  6  ...   \n",
              "annotators         [Annotator_37, Annotator_38, Annotator_39, Ann...  ...   \n",
              "\n",
              "                                                              203251  \\\n",
              "id_EXIST                                                      203251   \n",
              "lang                                                              en   \n",
              "tweet              \"you look like a whore\" I'm literally wearing ...   \n",
              "number_annotators                                                  6   \n",
              "annotators         [Annotator_473, Annotator_474, Annotator_475, ...   \n",
              "\n",
              "                                                              203252  \\\n",
              "id_EXIST                                                      203252   \n",
              "lang                                                              en   \n",
              "tweet              “You look like a whore” if you think I’m cute ...   \n",
              "number_annotators                                                  6   \n",
              "annotators         [Annotator_617, Annotator_618, Annotator_619, ...   \n",
              "\n",
              "                                                              203253  \\\n",
              "id_EXIST                                                      203253   \n",
              "lang                                                              en   \n",
              "tweet              Who fucking lied to you? You look like a whore...   \n",
              "number_annotators                                                  6   \n",
              "annotators         [Annotator_617, Annotator_618, Annotator_619, ...   \n",
              "\n",
              "                                                              203254  \\\n",
              "id_EXIST                                                      203254   \n",
              "lang                                                              en   \n",
              "tweet              @ShefVaidya Ma'am if I say that you look like ...   \n",
              "number_annotators                                                  6   \n",
              "annotators         [Annotator_668, Annotator_669, Annotator_670, ...   \n",
              "\n",
              "                                                              203255  \\\n",
              "id_EXIST                                                      203255   \n",
              "lang                                                              en   \n",
              "tweet              I forgot I have a m*d that changes the drachen...   \n",
              "number_annotators                                                  6   \n",
              "annotators         [Annotator_674, Annotator_675, Annotator_676, ...   \n",
              "\n",
              "                                                              203256  \\\n",
              "id_EXIST                                                      203256   \n",
              "lang                                                              en   \n",
              "tweet              idk why y’all bitches think having half your a...   \n",
              "number_annotators                                                  6   \n",
              "annotators         [Annotator_478, Annotator_479, Annotator_480, ...   \n",
              "\n",
              "                                                              203257  \\\n",
              "id_EXIST                                                      203257   \n",
              "lang                                                              en   \n",
              "tweet              This has been a part of an experiment with @Wo...   \n",
              "number_annotators                                                  6   \n",
              "annotators         [Annotator_668, Annotator_669, Annotator_670, ...   \n",
              "\n",
              "                                                              203258  \\\n",
              "id_EXIST                                                      203258   \n",
              "lang                                                              en   \n",
              "tweet              \"Take me already\" \"Not yet. You gotta be ready...   \n",
              "number_annotators                                                  6   \n",
              "annotators         [Annotator_467, Annotator_468, Annotator_469, ...   \n",
              "\n",
              "                                                              203259  \\\n",
              "id_EXIST                                                      203259   \n",
              "lang                                                              en   \n",
              "tweet              @clintneedcoffee why do you look like a whore?...   \n",
              "number_annotators                                                  6   \n",
              "annotators         [Annotator_674, Annotator_675, Annotator_676, ...   \n",
              "\n",
              "                                                              203260  \n",
              "id_EXIST                                                      203260  \n",
              "lang                                                              en  \n",
              "tweet              ik when mandy says “you look like a whore” i l...  \n",
              "number_annotators                                                  6  \n",
              "annotators         [Annotator_473, Annotator_474, Annotator_475, ...  \n",
              "\n",
              "[5 rows x 6920 columns]"
            ]
          },
          "execution_count": 6,
          "metadata": {},
          "output_type": "execute_result"
        }
      ],
      "source": [
        "training_df.head()"
      ]
    },
    {
      "cell_type": "code",
      "execution_count": 7,
      "metadata": {
        "colab": {
          "base_uri": "https://localhost:8080/",
          "height": 377
        },
        "id": "SIzuv3YzKtKM",
        "outputId": "7daa3ac6-1bdb-4504-aa55-100ef688d53b"
      },
      "outputs": [
        {
          "data": {
            "text/html": [
              "<div>\n",
              "<style scoped>\n",
              "    .dataframe tbody tr th:only-of-type {\n",
              "        vertical-align: middle;\n",
              "    }\n",
              "\n",
              "    .dataframe tbody tr th {\n",
              "        vertical-align: top;\n",
              "    }\n",
              "\n",
              "    .dataframe thead th {\n",
              "        text-align: right;\n",
              "    }\n",
              "</style>\n",
              "<table border=\"1\" class=\"dataframe\">\n",
              "  <thead>\n",
              "    <tr style=\"text-align: right;\">\n",
              "      <th></th>\n",
              "      <th>400178</th>\n",
              "      <th>400179</th>\n",
              "      <th>400180</th>\n",
              "      <th>400181</th>\n",
              "      <th>400182</th>\n",
              "      <th>400183</th>\n",
              "      <th>400184</th>\n",
              "      <th>400185</th>\n",
              "      <th>400186</th>\n",
              "      <th>400187</th>\n",
              "      <th>...</th>\n",
              "      <th>400480</th>\n",
              "      <th>400481</th>\n",
              "      <th>400482</th>\n",
              "      <th>400483</th>\n",
              "      <th>400484</th>\n",
              "      <th>400485</th>\n",
              "      <th>400486</th>\n",
              "      <th>400487</th>\n",
              "      <th>400488</th>\n",
              "      <th>400489</th>\n",
              "    </tr>\n",
              "  </thead>\n",
              "  <tbody>\n",
              "    <tr>\n",
              "      <th>id_EXIST</th>\n",
              "      <td>400178</td>\n",
              "      <td>400179</td>\n",
              "      <td>400180</td>\n",
              "      <td>400181</td>\n",
              "      <td>400182</td>\n",
              "      <td>400183</td>\n",
              "      <td>400184</td>\n",
              "      <td>400185</td>\n",
              "      <td>400186</td>\n",
              "      <td>400187</td>\n",
              "      <td>...</td>\n",
              "      <td>400480</td>\n",
              "      <td>400481</td>\n",
              "      <td>400482</td>\n",
              "      <td>400483</td>\n",
              "      <td>400484</td>\n",
              "      <td>400485</td>\n",
              "      <td>400486</td>\n",
              "      <td>400487</td>\n",
              "      <td>400488</td>\n",
              "      <td>400489</td>\n",
              "    </tr>\n",
              "    <tr>\n",
              "      <th>lang</th>\n",
              "      <td>en</td>\n",
              "      <td>en</td>\n",
              "      <td>en</td>\n",
              "      <td>en</td>\n",
              "      <td>en</td>\n",
              "      <td>en</td>\n",
              "      <td>en</td>\n",
              "      <td>en</td>\n",
              "      <td>en</td>\n",
              "      <td>en</td>\n",
              "      <td>...</td>\n",
              "      <td>en</td>\n",
              "      <td>en</td>\n",
              "      <td>en</td>\n",
              "      <td>en</td>\n",
              "      <td>en</td>\n",
              "      <td>en</td>\n",
              "      <td>en</td>\n",
              "      <td>en</td>\n",
              "      <td>en</td>\n",
              "      <td>en</td>\n",
              "    </tr>\n",
              "    <tr>\n",
              "      <th>tweet</th>\n",
              "      <td>1st day at the pool on a beautiful Sunday in N...</td>\n",
              "      <td>“I like your outfit too except when i dress up...</td>\n",
              "      <td>@KNasFanFic 🥺💖 same, though!!! the angst just ...</td>\n",
              "      <td>@themaxburns @GOP Fuck that cunt. Tried to vot...</td>\n",
              "      <td>@ultshunnie u gotta say some shit like “i’ll f...</td>\n",
              "      <td>@FernsLewds “Mmm, fuck that cunt is hungry for...</td>\n",
              "      <td>Suika gets gangbanged to death https://t.co/vn...</td>\n",
              "      <td>“I mean I do, but… wouldn’t it be fun to get g...</td>\n",
              "      <td>@Fox_x_Gods Maybe something involving her gett...</td>\n",
              "      <td>@LogicalFallac18 @LBC Sex* as in 'gender' hara...</td>\n",
              "      <td>...</td>\n",
              "      <td>i hate liars😂. specifically those who lie bc t...</td>\n",
              "      <td>Uh, they're allowed to? calling this out makes...</td>\n",
              "      <td>This genration are no more then selfish cunts....</td>\n",
              "      <td>@JetCelestial @polgara28951124 @CharlotteEmmaU...</td>\n",
              "      <td>@TheRealLyna Bitch your boyfriend Anthony flim...</td>\n",
              "      <td>@YesReallyAngel “Don’t wear a black bra with a...</td>\n",
              "      <td>\" get changed , you look like a prostitute . \"...</td>\n",
              "      <td>made this top and my mom gave me the “you look...</td>\n",
              "      <td>@DawnAnd91320913 I haven't seen anything that ...</td>\n",
              "      <td>@ElDukemane You look like a whore in ur new pi...</td>\n",
              "    </tr>\n",
              "    <tr>\n",
              "      <th>number_annotators</th>\n",
              "      <td>6</td>\n",
              "      <td>6</td>\n",
              "      <td>6</td>\n",
              "      <td>6</td>\n",
              "      <td>6</td>\n",
              "      <td>6</td>\n",
              "      <td>6</td>\n",
              "      <td>6</td>\n",
              "      <td>6</td>\n",
              "      <td>6</td>\n",
              "      <td>...</td>\n",
              "      <td>6</td>\n",
              "      <td>6</td>\n",
              "      <td>6</td>\n",
              "      <td>6</td>\n",
              "      <td>6</td>\n",
              "      <td>6</td>\n",
              "      <td>6</td>\n",
              "      <td>6</td>\n",
              "      <td>6</td>\n",
              "      <td>6</td>\n",
              "    </tr>\n",
              "    <tr>\n",
              "      <th>annotators</th>\n",
              "      <td>[Annotator_764, Annotator_765, Annotator_766, ...</td>\n",
              "      <td>[Annotator_805, Annotator_426, Annotator_806, ...</td>\n",
              "      <td>[Annotator_795, Annotator_796, Annotator_797, ...</td>\n",
              "      <td>[Annotator_795, Annotator_796, Annotator_797, ...</td>\n",
              "      <td>[Annotator_770, Annotator_771, Annotator_772, ...</td>\n",
              "      <td>[Annotator_776, Annotator_777, Annotator_195, ...</td>\n",
              "      <td>[Annotator_780, Annotator_781, Annotator_782, ...</td>\n",
              "      <td>[Annotator_785, Annotator_786, Annotator_787, ...</td>\n",
              "      <td>[Annotator_770, Annotator_771, Annotator_772, ...</td>\n",
              "      <td>[Annotator_791, Annotator_122, Annotator_396, ...</td>\n",
              "      <td>...</td>\n",
              "      <td>[Annotator_776, Annotator_777, Annotator_195, ...</td>\n",
              "      <td>[Annotator_805, Annotator_426, Annotator_806, ...</td>\n",
              "      <td>[Annotator_776, Annotator_777, Annotator_195, ...</td>\n",
              "      <td>[Annotator_801, Annotator_182, Annotator_802, ...</td>\n",
              "      <td>[Annotator_801, Annotator_182, Annotator_802, ...</td>\n",
              "      <td>[Annotator_801, Annotator_182, Annotator_802, ...</td>\n",
              "      <td>[Annotator_801, Annotator_182, Annotator_802, ...</td>\n",
              "      <td>[Annotator_795, Annotator_796, Annotator_797, ...</td>\n",
              "      <td>[Annotator_776, Annotator_777, Annotator_195, ...</td>\n",
              "      <td>[Annotator_776, Annotator_777, Annotator_195, ...</td>\n",
              "    </tr>\n",
              "  </tbody>\n",
              "</table>\n",
              "<p>5 rows × 312 columns</p>\n",
              "</div>"
            ],
            "text/plain": [
              "                                                              400178  \\\n",
              "id_EXIST                                                      400178   \n",
              "lang                                                              en   \n",
              "tweet              1st day at the pool on a beautiful Sunday in N...   \n",
              "number_annotators                                                  6   \n",
              "annotators         [Annotator_764, Annotator_765, Annotator_766, ...   \n",
              "\n",
              "                                                              400179  \\\n",
              "id_EXIST                                                      400179   \n",
              "lang                                                              en   \n",
              "tweet              “I like your outfit too except when i dress up...   \n",
              "number_annotators                                                  6   \n",
              "annotators         [Annotator_805, Annotator_426, Annotator_806, ...   \n",
              "\n",
              "                                                              400180  \\\n",
              "id_EXIST                                                      400180   \n",
              "lang                                                              en   \n",
              "tweet              @KNasFanFic 🥺💖 same, though!!! the angst just ...   \n",
              "number_annotators                                                  6   \n",
              "annotators         [Annotator_795, Annotator_796, Annotator_797, ...   \n",
              "\n",
              "                                                              400181  \\\n",
              "id_EXIST                                                      400181   \n",
              "lang                                                              en   \n",
              "tweet              @themaxburns @GOP Fuck that cunt. Tried to vot...   \n",
              "number_annotators                                                  6   \n",
              "annotators         [Annotator_795, Annotator_796, Annotator_797, ...   \n",
              "\n",
              "                                                              400182  \\\n",
              "id_EXIST                                                      400182   \n",
              "lang                                                              en   \n",
              "tweet              @ultshunnie u gotta say some shit like “i’ll f...   \n",
              "number_annotators                                                  6   \n",
              "annotators         [Annotator_770, Annotator_771, Annotator_772, ...   \n",
              "\n",
              "                                                              400183  \\\n",
              "id_EXIST                                                      400183   \n",
              "lang                                                              en   \n",
              "tweet              @FernsLewds “Mmm, fuck that cunt is hungry for...   \n",
              "number_annotators                                                  6   \n",
              "annotators         [Annotator_776, Annotator_777, Annotator_195, ...   \n",
              "\n",
              "                                                              400184  \\\n",
              "id_EXIST                                                      400184   \n",
              "lang                                                              en   \n",
              "tweet              Suika gets gangbanged to death https://t.co/vn...   \n",
              "number_annotators                                                  6   \n",
              "annotators         [Annotator_780, Annotator_781, Annotator_782, ...   \n",
              "\n",
              "                                                              400185  \\\n",
              "id_EXIST                                                      400185   \n",
              "lang                                                              en   \n",
              "tweet              “I mean I do, but… wouldn’t it be fun to get g...   \n",
              "number_annotators                                                  6   \n",
              "annotators         [Annotator_785, Annotator_786, Annotator_787, ...   \n",
              "\n",
              "                                                              400186  \\\n",
              "id_EXIST                                                      400186   \n",
              "lang                                                              en   \n",
              "tweet              @Fox_x_Gods Maybe something involving her gett...   \n",
              "number_annotators                                                  6   \n",
              "annotators         [Annotator_770, Annotator_771, Annotator_772, ...   \n",
              "\n",
              "                                                              400187  ...  \\\n",
              "id_EXIST                                                      400187  ...   \n",
              "lang                                                              en  ...   \n",
              "tweet              @LogicalFallac18 @LBC Sex* as in 'gender' hara...  ...   \n",
              "number_annotators                                                  6  ...   \n",
              "annotators         [Annotator_791, Annotator_122, Annotator_396, ...  ...   \n",
              "\n",
              "                                                              400480  \\\n",
              "id_EXIST                                                      400480   \n",
              "lang                                                              en   \n",
              "tweet              i hate liars😂. specifically those who lie bc t...   \n",
              "number_annotators                                                  6   \n",
              "annotators         [Annotator_776, Annotator_777, Annotator_195, ...   \n",
              "\n",
              "                                                              400481  \\\n",
              "id_EXIST                                                      400481   \n",
              "lang                                                              en   \n",
              "tweet              Uh, they're allowed to? calling this out makes...   \n",
              "number_annotators                                                  6   \n",
              "annotators         [Annotator_805, Annotator_426, Annotator_806, ...   \n",
              "\n",
              "                                                              400482  \\\n",
              "id_EXIST                                                      400482   \n",
              "lang                                                              en   \n",
              "tweet              This genration are no more then selfish cunts....   \n",
              "number_annotators                                                  6   \n",
              "annotators         [Annotator_776, Annotator_777, Annotator_195, ...   \n",
              "\n",
              "                                                              400483  \\\n",
              "id_EXIST                                                      400483   \n",
              "lang                                                              en   \n",
              "tweet              @JetCelestial @polgara28951124 @CharlotteEmmaU...   \n",
              "number_annotators                                                  6   \n",
              "annotators         [Annotator_801, Annotator_182, Annotator_802, ...   \n",
              "\n",
              "                                                              400484  \\\n",
              "id_EXIST                                                      400484   \n",
              "lang                                                              en   \n",
              "tweet              @TheRealLyna Bitch your boyfriend Anthony flim...   \n",
              "number_annotators                                                  6   \n",
              "annotators         [Annotator_801, Annotator_182, Annotator_802, ...   \n",
              "\n",
              "                                                              400485  \\\n",
              "id_EXIST                                                      400485   \n",
              "lang                                                              en   \n",
              "tweet              @YesReallyAngel “Don’t wear a black bra with a...   \n",
              "number_annotators                                                  6   \n",
              "annotators         [Annotator_801, Annotator_182, Annotator_802, ...   \n",
              "\n",
              "                                                              400486  \\\n",
              "id_EXIST                                                      400486   \n",
              "lang                                                              en   \n",
              "tweet              \" get changed , you look like a prostitute . \"...   \n",
              "number_annotators                                                  6   \n",
              "annotators         [Annotator_801, Annotator_182, Annotator_802, ...   \n",
              "\n",
              "                                                              400487  \\\n",
              "id_EXIST                                                      400487   \n",
              "lang                                                              en   \n",
              "tweet              made this top and my mom gave me the “you look...   \n",
              "number_annotators                                                  6   \n",
              "annotators         [Annotator_795, Annotator_796, Annotator_797, ...   \n",
              "\n",
              "                                                              400488  \\\n",
              "id_EXIST                                                      400488   \n",
              "lang                                                              en   \n",
              "tweet              @DawnAnd91320913 I haven't seen anything that ...   \n",
              "number_annotators                                                  6   \n",
              "annotators         [Annotator_776, Annotator_777, Annotator_195, ...   \n",
              "\n",
              "                                                              400489  \n",
              "id_EXIST                                                      400489  \n",
              "lang                                                              en  \n",
              "tweet              @ElDukemane You look like a whore in ur new pi...  \n",
              "number_annotators                                                  6  \n",
              "annotators         [Annotator_776, Annotator_777, Annotator_195, ...  \n",
              "\n",
              "[5 rows x 312 columns]"
            ]
          },
          "execution_count": 7,
          "metadata": {},
          "output_type": "execute_result"
        }
      ],
      "source": [
        "test_df.head()"
      ]
    },
    {
      "cell_type": "code",
      "execution_count": 8,
      "metadata": {
        "colab": {
          "base_uri": "https://localhost:8080/",
          "height": 377
        },
        "id": "CbGMaitUK8S-",
        "outputId": "a97020a7-ca10-48e6-8b4b-b2b74f2bf05a"
      },
      "outputs": [
        {
          "data": {
            "text/html": [
              "<div>\n",
              "<style scoped>\n",
              "    .dataframe tbody tr th:only-of-type {\n",
              "        vertical-align: middle;\n",
              "    }\n",
              "\n",
              "    .dataframe tbody tr th {\n",
              "        vertical-align: top;\n",
              "    }\n",
              "\n",
              "    .dataframe thead th {\n",
              "        text-align: right;\n",
              "    }\n",
              "</style>\n",
              "<table border=\"1\" class=\"dataframe\">\n",
              "  <thead>\n",
              "    <tr style=\"text-align: right;\">\n",
              "      <th></th>\n",
              "      <th>300001</th>\n",
              "      <th>300002</th>\n",
              "      <th>300003</th>\n",
              "      <th>300004</th>\n",
              "      <th>300005</th>\n",
              "      <th>300006</th>\n",
              "      <th>300007</th>\n",
              "      <th>300008</th>\n",
              "      <th>300009</th>\n",
              "      <th>300010</th>\n",
              "      <th>...</th>\n",
              "      <th>400168</th>\n",
              "      <th>400169</th>\n",
              "      <th>400170</th>\n",
              "      <th>400171</th>\n",
              "      <th>400172</th>\n",
              "      <th>400173</th>\n",
              "      <th>400174</th>\n",
              "      <th>400175</th>\n",
              "      <th>400176</th>\n",
              "      <th>400177</th>\n",
              "    </tr>\n",
              "  </thead>\n",
              "  <tbody>\n",
              "    <tr>\n",
              "      <th>id_EXIST</th>\n",
              "      <td>300001</td>\n",
              "      <td>300002</td>\n",
              "      <td>300003</td>\n",
              "      <td>300004</td>\n",
              "      <td>300005</td>\n",
              "      <td>300006</td>\n",
              "      <td>300007</td>\n",
              "      <td>300008</td>\n",
              "      <td>300009</td>\n",
              "      <td>300010</td>\n",
              "      <td>...</td>\n",
              "      <td>400168</td>\n",
              "      <td>400169</td>\n",
              "      <td>400170</td>\n",
              "      <td>400171</td>\n",
              "      <td>400172</td>\n",
              "      <td>400173</td>\n",
              "      <td>400174</td>\n",
              "      <td>400175</td>\n",
              "      <td>400176</td>\n",
              "      <td>400177</td>\n",
              "    </tr>\n",
              "    <tr>\n",
              "      <th>lang</th>\n",
              "      <td>es</td>\n",
              "      <td>es</td>\n",
              "      <td>es</td>\n",
              "      <td>es</td>\n",
              "      <td>es</td>\n",
              "      <td>es</td>\n",
              "      <td>es</td>\n",
              "      <td>es</td>\n",
              "      <td>es</td>\n",
              "      <td>es</td>\n",
              "      <td>...</td>\n",
              "      <td>en</td>\n",
              "      <td>en</td>\n",
              "      <td>en</td>\n",
              "      <td>en</td>\n",
              "      <td>en</td>\n",
              "      <td>en</td>\n",
              "      <td>en</td>\n",
              "      <td>en</td>\n",
              "      <td>en</td>\n",
              "      <td>en</td>\n",
              "    </tr>\n",
              "    <tr>\n",
              "      <th>tweet</th>\n",
              "      <td>@Fichinescu La comunidad gamer es un antro de ...</td>\n",
              "      <td>@anacaotica88 @MordorLivin No me acuerdo de lo...</td>\n",
              "      <td>@cosmicJunkBot lo digo cada pocos dias y lo re...</td>\n",
              "      <td>Also mientras les decia eso la señalaba y deci...</td>\n",
              "      <td>And all people killed,  attacked, harassed by ...</td>\n",
              "      <td>On this #WorldPressFreedomDay I’m thinking of ...</td>\n",
              "      <td>@DavidGR18 @pppbernat @abc_es @agarzon @IreneM...</td>\n",
              "      <td>@DavidArranzVox @AnabelAlonso_of Uyyy a q huel...</td>\n",
              "      <td>Con 25 Leones🦁 y 500 más en las gradas🗣!!#EkoF...</td>\n",
              "      <td>@kokreto84 @Play87834898 @venusoncrack Me gust...</td>\n",
              "      <td>...</td>\n",
              "      <td>I'm debating doing a \"feminization\" clip serie...</td>\n",
              "      <td>I'm looking for a girl I spoke to the day befo...</td>\n",
              "      <td>@parker__farquer Three for a girl.You're going...</td>\n",
              "      <td>Foreigner - Waiting for a Girl Like You [Lyric...</td>\n",
              "      <td>@leesu44 @elishabroadway @markbann57 @SeaeyesT...</td>\n",
              "      <td>Amazing that the GOP is trying to take away ou...</td>\n",
              "      <td>It is is impossible for a man to become a woma...</td>\n",
              "      <td>If Gaga decided to sing 18 versions of Free Wo...</td>\n",
              "      <td>This is your reminder that you can be child-fr...</td>\n",
              "      <td>just completed my last final, i’m officially a...</td>\n",
              "    </tr>\n",
              "    <tr>\n",
              "      <th>number_annotators</th>\n",
              "      <td>6</td>\n",
              "      <td>6</td>\n",
              "      <td>6</td>\n",
              "      <td>6</td>\n",
              "      <td>6</td>\n",
              "      <td>6</td>\n",
              "      <td>6</td>\n",
              "      <td>6</td>\n",
              "      <td>6</td>\n",
              "      <td>6</td>\n",
              "      <td>...</td>\n",
              "      <td>6</td>\n",
              "      <td>6</td>\n",
              "      <td>6</td>\n",
              "      <td>6</td>\n",
              "      <td>6</td>\n",
              "      <td>6</td>\n",
              "      <td>6</td>\n",
              "      <td>6</td>\n",
              "      <td>6</td>\n",
              "      <td>6</td>\n",
              "    </tr>\n",
              "    <tr>\n",
              "      <th>annotators</th>\n",
              "      <td>[Annotator_726, Annotator_727, Annotator_357, ...</td>\n",
              "      <td>[Annotator_731, Annotator_732, Annotator_315, ...</td>\n",
              "      <td>[Annotator_735, Annotator_736, Annotator_345, ...</td>\n",
              "      <td>[Annotator_259, Annotator_739, Annotator_291, ...</td>\n",
              "      <td>[Annotator_731, Annotator_732, Annotator_315, ...</td>\n",
              "      <td>[Annotator_735, Annotator_736, Annotator_345, ...</td>\n",
              "      <td>[Annotator_731, Annotator_732, Annotator_315, ...</td>\n",
              "      <td>[Annotator_742, Annotator_743, Annotator_195, ...</td>\n",
              "      <td>[Annotator_742, Annotator_743, Annotator_195, ...</td>\n",
              "      <td>[Annotator_744, Annotator_745, Annotator_746, ...</td>\n",
              "      <td>...</td>\n",
              "      <td>[Annotator_805, Annotator_426, Annotator_806, ...</td>\n",
              "      <td>[Annotator_780, Annotator_781, Annotator_782, ...</td>\n",
              "      <td>[Annotator_785, Annotator_786, Annotator_787, ...</td>\n",
              "      <td>[Annotator_764, Annotator_765, Annotator_766, ...</td>\n",
              "      <td>[Annotator_780, Annotator_781, Annotator_782, ...</td>\n",
              "      <td>[Annotator_805, Annotator_426, Annotator_806, ...</td>\n",
              "      <td>[Annotator_770, Annotator_771, Annotator_772, ...</td>\n",
              "      <td>[Annotator_764, Annotator_765, Annotator_766, ...</td>\n",
              "      <td>[Annotator_795, Annotator_796, Annotator_797, ...</td>\n",
              "      <td>[Annotator_770, Annotator_771, Annotator_772, ...</td>\n",
              "    </tr>\n",
              "  </tbody>\n",
              "</table>\n",
              "<p>5 rows × 726 columns</p>\n",
              "</div>"
            ],
            "text/plain": [
              "                                                              300001  \\\n",
              "id_EXIST                                                      300001   \n",
              "lang                                                              es   \n",
              "tweet              @Fichinescu La comunidad gamer es un antro de ...   \n",
              "number_annotators                                                  6   \n",
              "annotators         [Annotator_726, Annotator_727, Annotator_357, ...   \n",
              "\n",
              "                                                              300002  \\\n",
              "id_EXIST                                                      300002   \n",
              "lang                                                              es   \n",
              "tweet              @anacaotica88 @MordorLivin No me acuerdo de lo...   \n",
              "number_annotators                                                  6   \n",
              "annotators         [Annotator_731, Annotator_732, Annotator_315, ...   \n",
              "\n",
              "                                                              300003  \\\n",
              "id_EXIST                                                      300003   \n",
              "lang                                                              es   \n",
              "tweet              @cosmicJunkBot lo digo cada pocos dias y lo re...   \n",
              "number_annotators                                                  6   \n",
              "annotators         [Annotator_735, Annotator_736, Annotator_345, ...   \n",
              "\n",
              "                                                              300004  \\\n",
              "id_EXIST                                                      300004   \n",
              "lang                                                              es   \n",
              "tweet              Also mientras les decia eso la señalaba y deci...   \n",
              "number_annotators                                                  6   \n",
              "annotators         [Annotator_259, Annotator_739, Annotator_291, ...   \n",
              "\n",
              "                                                              300005  \\\n",
              "id_EXIST                                                      300005   \n",
              "lang                                                              es   \n",
              "tweet              And all people killed,  attacked, harassed by ...   \n",
              "number_annotators                                                  6   \n",
              "annotators         [Annotator_731, Annotator_732, Annotator_315, ...   \n",
              "\n",
              "                                                              300006  \\\n",
              "id_EXIST                                                      300006   \n",
              "lang                                                              es   \n",
              "tweet              On this #WorldPressFreedomDay I’m thinking of ...   \n",
              "number_annotators                                                  6   \n",
              "annotators         [Annotator_735, Annotator_736, Annotator_345, ...   \n",
              "\n",
              "                                                              300007  \\\n",
              "id_EXIST                                                      300007   \n",
              "lang                                                              es   \n",
              "tweet              @DavidGR18 @pppbernat @abc_es @agarzon @IreneM...   \n",
              "number_annotators                                                  6   \n",
              "annotators         [Annotator_731, Annotator_732, Annotator_315, ...   \n",
              "\n",
              "                                                              300008  \\\n",
              "id_EXIST                                                      300008   \n",
              "lang                                                              es   \n",
              "tweet              @DavidArranzVox @AnabelAlonso_of Uyyy a q huel...   \n",
              "number_annotators                                                  6   \n",
              "annotators         [Annotator_742, Annotator_743, Annotator_195, ...   \n",
              "\n",
              "                                                              300009  \\\n",
              "id_EXIST                                                      300009   \n",
              "lang                                                              es   \n",
              "tweet              Con 25 Leones🦁 y 500 más en las gradas🗣!!#EkoF...   \n",
              "number_annotators                                                  6   \n",
              "annotators         [Annotator_742, Annotator_743, Annotator_195, ...   \n",
              "\n",
              "                                                              300010  ...  \\\n",
              "id_EXIST                                                      300010  ...   \n",
              "lang                                                              es  ...   \n",
              "tweet              @kokreto84 @Play87834898 @venusoncrack Me gust...  ...   \n",
              "number_annotators                                                  6  ...   \n",
              "annotators         [Annotator_744, Annotator_745, Annotator_746, ...  ...   \n",
              "\n",
              "                                                              400168  \\\n",
              "id_EXIST                                                      400168   \n",
              "lang                                                              en   \n",
              "tweet              I'm debating doing a \"feminization\" clip serie...   \n",
              "number_annotators                                                  6   \n",
              "annotators         [Annotator_805, Annotator_426, Annotator_806, ...   \n",
              "\n",
              "                                                              400169  \\\n",
              "id_EXIST                                                      400169   \n",
              "lang                                                              en   \n",
              "tweet              I'm looking for a girl I spoke to the day befo...   \n",
              "number_annotators                                                  6   \n",
              "annotators         [Annotator_780, Annotator_781, Annotator_782, ...   \n",
              "\n",
              "                                                              400170  \\\n",
              "id_EXIST                                                      400170   \n",
              "lang                                                              en   \n",
              "tweet              @parker__farquer Three for a girl.You're going...   \n",
              "number_annotators                                                  6   \n",
              "annotators         [Annotator_785, Annotator_786, Annotator_787, ...   \n",
              "\n",
              "                                                              400171  \\\n",
              "id_EXIST                                                      400171   \n",
              "lang                                                              en   \n",
              "tweet              Foreigner - Waiting for a Girl Like You [Lyric...   \n",
              "number_annotators                                                  6   \n",
              "annotators         [Annotator_764, Annotator_765, Annotator_766, ...   \n",
              "\n",
              "                                                              400172  \\\n",
              "id_EXIST                                                      400172   \n",
              "lang                                                              en   \n",
              "tweet              @leesu44 @elishabroadway @markbann57 @SeaeyesT...   \n",
              "number_annotators                                                  6   \n",
              "annotators         [Annotator_780, Annotator_781, Annotator_782, ...   \n",
              "\n",
              "                                                              400173  \\\n",
              "id_EXIST                                                      400173   \n",
              "lang                                                              en   \n",
              "tweet              Amazing that the GOP is trying to take away ou...   \n",
              "number_annotators                                                  6   \n",
              "annotators         [Annotator_805, Annotator_426, Annotator_806, ...   \n",
              "\n",
              "                                                              400174  \\\n",
              "id_EXIST                                                      400174   \n",
              "lang                                                              en   \n",
              "tweet              It is is impossible for a man to become a woma...   \n",
              "number_annotators                                                  6   \n",
              "annotators         [Annotator_770, Annotator_771, Annotator_772, ...   \n",
              "\n",
              "                                                              400175  \\\n",
              "id_EXIST                                                      400175   \n",
              "lang                                                              en   \n",
              "tweet              If Gaga decided to sing 18 versions of Free Wo...   \n",
              "number_annotators                                                  6   \n",
              "annotators         [Annotator_764, Annotator_765, Annotator_766, ...   \n",
              "\n",
              "                                                              400176  \\\n",
              "id_EXIST                                                      400176   \n",
              "lang                                                              en   \n",
              "tweet              This is your reminder that you can be child-fr...   \n",
              "number_annotators                                                  6   \n",
              "annotators         [Annotator_795, Annotator_796, Annotator_797, ...   \n",
              "\n",
              "                                                              400177  \n",
              "id_EXIST                                                      400177  \n",
              "lang                                                              en  \n",
              "tweet              just completed my last final, i’m officially a...  \n",
              "number_annotators                                                  6  \n",
              "annotators         [Annotator_770, Annotator_771, Annotator_772, ...  \n",
              "\n",
              "[5 rows x 726 columns]"
            ]
          },
          "execution_count": 8,
          "metadata": {},
          "output_type": "execute_result"
        }
      ],
      "source": [
        "validation_df.head()"
      ]
    },
    {
      "cell_type": "code",
      "execution_count": 9,
      "metadata": {
        "id": "BRg9ErqIUZnf"
      },
      "outputs": [],
      "source": [
        "training_df = training_df.transpose().set_index(\"id_EXIST\")\n",
        "test_df = test_df.transpose().set_index(\"id_EXIST\")\n",
        "validation_df = validation_df.transpose().set_index(\"id_EXIST\")"
      ]
    },
    {
      "cell_type": "code",
      "execution_count": 10,
      "metadata": {
        "colab": {
          "base_uri": "https://localhost:8080/",
          "height": 324
        },
        "id": "hK7cPTCGUau3",
        "outputId": "34851d27-d322-49ce-f88b-ec6c5183247a"
      },
      "outputs": [
        {
          "data": {
            "text/html": [
              "<div>\n",
              "<style scoped>\n",
              "    .dataframe tbody tr th:only-of-type {\n",
              "        vertical-align: middle;\n",
              "    }\n",
              "\n",
              "    .dataframe tbody tr th {\n",
              "        vertical-align: top;\n",
              "    }\n",
              "\n",
              "    .dataframe thead th {\n",
              "        text-align: right;\n",
              "    }\n",
              "</style>\n",
              "<table border=\"1\" class=\"dataframe\">\n",
              "  <thead>\n",
              "    <tr style=\"text-align: right;\">\n",
              "      <th></th>\n",
              "      <th>lang</th>\n",
              "      <th>tweet</th>\n",
              "      <th>number_annotators</th>\n",
              "      <th>annotators</th>\n",
              "      <th>gender_annotators</th>\n",
              "      <th>age_annotators</th>\n",
              "      <th>labels_task1</th>\n",
              "      <th>labels_task2</th>\n",
              "      <th>labels_task3</th>\n",
              "      <th>split</th>\n",
              "    </tr>\n",
              "    <tr>\n",
              "      <th>id_EXIST</th>\n",
              "      <th></th>\n",
              "      <th></th>\n",
              "      <th></th>\n",
              "      <th></th>\n",
              "      <th></th>\n",
              "      <th></th>\n",
              "      <th></th>\n",
              "      <th></th>\n",
              "      <th></th>\n",
              "      <th></th>\n",
              "    </tr>\n",
              "  </thead>\n",
              "  <tbody>\n",
              "    <tr>\n",
              "      <th>100001</th>\n",
              "      <td>es</td>\n",
              "      <td>@TheChiflis Ignora al otro, es un capullo.El p...</td>\n",
              "      <td>6</td>\n",
              "      <td>[Annotator_1, Annotator_2, Annotator_3, Annota...</td>\n",
              "      <td>[F, F, F, M, M, M]</td>\n",
              "      <td>[18-22, 23-45, 46+, 46+, 23-45, 18-22]</td>\n",
              "      <td>[YES, YES, NO, YES, YES, YES]</td>\n",
              "      <td>[REPORTED, JUDGEMENTAL, -, REPORTED, JUDGEMENT...</td>\n",
              "      <td>[[OBJECTIFICATION], [OBJECTIFICATION, SEXUAL-V...</td>\n",
              "      <td>TRAIN_ES</td>\n",
              "    </tr>\n",
              "    <tr>\n",
              "      <th>100002</th>\n",
              "      <td>es</td>\n",
              "      <td>@ultimonomada_ Si comicsgate se parece en algo...</td>\n",
              "      <td>6</td>\n",
              "      <td>[Annotator_7, Annotator_8, Annotator_9, Annota...</td>\n",
              "      <td>[F, F, F, M, M, M]</td>\n",
              "      <td>[18-22, 23-45, 46+, 46+, 23-45, 18-22]</td>\n",
              "      <td>[NO, NO, NO, NO, YES, NO]</td>\n",
              "      <td>[-, -, -, -, DIRECT, -]</td>\n",
              "      <td>[[-], [-], [-], [-], [OBJECTIFICATION], [-]]</td>\n",
              "      <td>TRAIN_ES</td>\n",
              "    </tr>\n",
              "    <tr>\n",
              "      <th>100003</th>\n",
              "      <td>es</td>\n",
              "      <td>@Steven2897 Lee sobre Gamergate, y como eso ha...</td>\n",
              "      <td>6</td>\n",
              "      <td>[Annotator_7, Annotator_8, Annotator_9, Annota...</td>\n",
              "      <td>[F, F, F, M, M, M]</td>\n",
              "      <td>[18-22, 23-45, 46+, 46+, 23-45, 18-22]</td>\n",
              "      <td>[NO, NO, NO, NO, NO, NO]</td>\n",
              "      <td>[-, -, -, -, -, -]</td>\n",
              "      <td>[[-], [-], [-], [-], [-], [-]]</td>\n",
              "      <td>TRAIN_ES</td>\n",
              "    </tr>\n",
              "    <tr>\n",
              "      <th>100004</th>\n",
              "      <td>es</td>\n",
              "      <td>@Lunariita7 Un retraso social bastante lamenta...</td>\n",
              "      <td>6</td>\n",
              "      <td>[Annotator_13, Annotator_14, Annotator_15, Ann...</td>\n",
              "      <td>[F, F, F, M, M, M]</td>\n",
              "      <td>[18-22, 23-45, 46+, 46+, 23-45, 18-22]</td>\n",
              "      <td>[NO, NO, YES, NO, YES, YES]</td>\n",
              "      <td>[-, -, DIRECT, -, REPORTED, REPORTED]</td>\n",
              "      <td>[[-], [-], [IDEOLOGICAL-INEQUALITY], [-], [IDE...</td>\n",
              "      <td>TRAIN_ES</td>\n",
              "    </tr>\n",
              "    <tr>\n",
              "      <th>100005</th>\n",
              "      <td>es</td>\n",
              "      <td>@novadragon21 @icep4ck @TvDannyZ Entonces como...</td>\n",
              "      <td>6</td>\n",
              "      <td>[Annotator_19, Annotator_20, Annotator_21, Ann...</td>\n",
              "      <td>[F, F, F, M, M, M]</td>\n",
              "      <td>[18-22, 23-45, 46+, 46+, 23-45, 18-22]</td>\n",
              "      <td>[YES, NO, YES, NO, YES, YES]</td>\n",
              "      <td>[REPORTED, -, JUDGEMENTAL, -, JUDGEMENTAL, DIR...</td>\n",
              "      <td>[[STEREOTYPING-DOMINANCE, OBJECTIFICATION], [-...</td>\n",
              "      <td>TRAIN_ES</td>\n",
              "    </tr>\n",
              "  </tbody>\n",
              "</table>\n",
              "</div>"
            ],
            "text/plain": [
              "         lang                                              tweet  \\\n",
              "id_EXIST                                                           \n",
              "100001     es  @TheChiflis Ignora al otro, es un capullo.El p...   \n",
              "100002     es  @ultimonomada_ Si comicsgate se parece en algo...   \n",
              "100003     es  @Steven2897 Lee sobre Gamergate, y como eso ha...   \n",
              "100004     es  @Lunariita7 Un retraso social bastante lamenta...   \n",
              "100005     es  @novadragon21 @icep4ck @TvDannyZ Entonces como...   \n",
              "\n",
              "         number_annotators                                         annotators  \\\n",
              "id_EXIST                                                                        \n",
              "100001                   6  [Annotator_1, Annotator_2, Annotator_3, Annota...   \n",
              "100002                   6  [Annotator_7, Annotator_8, Annotator_9, Annota...   \n",
              "100003                   6  [Annotator_7, Annotator_8, Annotator_9, Annota...   \n",
              "100004                   6  [Annotator_13, Annotator_14, Annotator_15, Ann...   \n",
              "100005                   6  [Annotator_19, Annotator_20, Annotator_21, Ann...   \n",
              "\n",
              "           gender_annotators                          age_annotators  \\\n",
              "id_EXIST                                                               \n",
              "100001    [F, F, F, M, M, M]  [18-22, 23-45, 46+, 46+, 23-45, 18-22]   \n",
              "100002    [F, F, F, M, M, M]  [18-22, 23-45, 46+, 46+, 23-45, 18-22]   \n",
              "100003    [F, F, F, M, M, M]  [18-22, 23-45, 46+, 46+, 23-45, 18-22]   \n",
              "100004    [F, F, F, M, M, M]  [18-22, 23-45, 46+, 46+, 23-45, 18-22]   \n",
              "100005    [F, F, F, M, M, M]  [18-22, 23-45, 46+, 46+, 23-45, 18-22]   \n",
              "\n",
              "                           labels_task1  \\\n",
              "id_EXIST                                  \n",
              "100001    [YES, YES, NO, YES, YES, YES]   \n",
              "100002        [NO, NO, NO, NO, YES, NO]   \n",
              "100003         [NO, NO, NO, NO, NO, NO]   \n",
              "100004      [NO, NO, YES, NO, YES, YES]   \n",
              "100005     [YES, NO, YES, NO, YES, YES]   \n",
              "\n",
              "                                               labels_task2  \\\n",
              "id_EXIST                                                      \n",
              "100001    [REPORTED, JUDGEMENTAL, -, REPORTED, JUDGEMENT...   \n",
              "100002                              [-, -, -, -, DIRECT, -]   \n",
              "100003                                   [-, -, -, -, -, -]   \n",
              "100004                [-, -, DIRECT, -, REPORTED, REPORTED]   \n",
              "100005    [REPORTED, -, JUDGEMENTAL, -, JUDGEMENTAL, DIR...   \n",
              "\n",
              "                                               labels_task3     split  \n",
              "id_EXIST                                                               \n",
              "100001    [[OBJECTIFICATION], [OBJECTIFICATION, SEXUAL-V...  TRAIN_ES  \n",
              "100002         [[-], [-], [-], [-], [OBJECTIFICATION], [-]]  TRAIN_ES  \n",
              "100003                       [[-], [-], [-], [-], [-], [-]]  TRAIN_ES  \n",
              "100004    [[-], [-], [IDEOLOGICAL-INEQUALITY], [-], [IDE...  TRAIN_ES  \n",
              "100005    [[STEREOTYPING-DOMINANCE, OBJECTIFICATION], [-...  TRAIN_ES  "
            ]
          },
          "execution_count": 10,
          "metadata": {},
          "output_type": "execute_result"
        }
      ],
      "source": [
        "training_df.head()"
      ]
    },
    {
      "cell_type": "code",
      "execution_count": 11,
      "metadata": {
        "colab": {
          "base_uri": "https://localhost:8080/",
          "height": 411
        },
        "id": "CUyCWFtOK1Fb",
        "outputId": "538c73ff-dfae-4801-e2d2-e1e2b795a410"
      },
      "outputs": [
        {
          "data": {
            "text/html": [
              "<div>\n",
              "<style scoped>\n",
              "    .dataframe tbody tr th:only-of-type {\n",
              "        vertical-align: middle;\n",
              "    }\n",
              "\n",
              "    .dataframe tbody tr th {\n",
              "        vertical-align: top;\n",
              "    }\n",
              "\n",
              "    .dataframe thead th {\n",
              "        text-align: right;\n",
              "    }\n",
              "</style>\n",
              "<table border=\"1\" class=\"dataframe\">\n",
              "  <thead>\n",
              "    <tr style=\"text-align: right;\">\n",
              "      <th></th>\n",
              "      <th>lang</th>\n",
              "      <th>tweet</th>\n",
              "      <th>number_annotators</th>\n",
              "      <th>annotators</th>\n",
              "      <th>gender_annotators</th>\n",
              "      <th>age_annotators</th>\n",
              "      <th>labels_task1</th>\n",
              "      <th>labels_task2</th>\n",
              "      <th>labels_task3</th>\n",
              "      <th>split</th>\n",
              "    </tr>\n",
              "    <tr>\n",
              "      <th>id_EXIST</th>\n",
              "      <th></th>\n",
              "      <th></th>\n",
              "      <th></th>\n",
              "      <th></th>\n",
              "      <th></th>\n",
              "      <th></th>\n",
              "      <th></th>\n",
              "      <th></th>\n",
              "      <th></th>\n",
              "      <th></th>\n",
              "    </tr>\n",
              "  </thead>\n",
              "  <tbody>\n",
              "    <tr>\n",
              "      <th>400178</th>\n",
              "      <td>en</td>\n",
              "      <td>1st day at the pool on a beautiful Sunday in N...</td>\n",
              "      <td>6</td>\n",
              "      <td>[Annotator_764, Annotator_765, Annotator_766, ...</td>\n",
              "      <td>[F, F, F, M, M, M]</td>\n",
              "      <td>[18-22, 23-45, 46+, 18-22, 23-45, 46+]</td>\n",
              "      <td>[NO, NO, NO, NO, NO, NO]</td>\n",
              "      <td>[-, -, -, -, -, -]</td>\n",
              "      <td>[[-], [-], [-], [-], [-], [-]]</td>\n",
              "      <td>DEV_EN</td>\n",
              "    </tr>\n",
              "    <tr>\n",
              "      <th>400179</th>\n",
              "      <td>en</td>\n",
              "      <td>“I like your outfit too except when i dress up...</td>\n",
              "      <td>6</td>\n",
              "      <td>[Annotator_805, Annotator_426, Annotator_806, ...</td>\n",
              "      <td>[F, F, F, M, M, M]</td>\n",
              "      <td>[18-22, 23-45, 46+, 18-22, 23-45, 46+]</td>\n",
              "      <td>[YES, YES, YES, YES, YES, NO]</td>\n",
              "      <td>[JUDGEMENTAL, DIRECT, REPORTED, DIRECT, REPORT...</td>\n",
              "      <td>[[OBJECTIFICATION], [OBJECTIFICATION, MISOGYNY...</td>\n",
              "      <td>DEV_EN</td>\n",
              "    </tr>\n",
              "    <tr>\n",
              "      <th>400180</th>\n",
              "      <td>en</td>\n",
              "      <td>@KNasFanFic 🥺💖 same, though!!! the angst just ...</td>\n",
              "      <td>6</td>\n",
              "      <td>[Annotator_795, Annotator_796, Annotator_797, ...</td>\n",
              "      <td>[F, F, F, M, M, M]</td>\n",
              "      <td>[18-22, 23-45, 46+, 18-22, 23-45, 46+]</td>\n",
              "      <td>[NO, NO, NO, NO, NO, NO]</td>\n",
              "      <td>[-, -, -, -, -, -]</td>\n",
              "      <td>[[-], [-], [-], [-], [-], [-]]</td>\n",
              "      <td>DEV_EN</td>\n",
              "    </tr>\n",
              "    <tr>\n",
              "      <th>400181</th>\n",
              "      <td>en</td>\n",
              "      <td>@themaxburns @GOP Fuck that cunt. Tried to vot...</td>\n",
              "      <td>6</td>\n",
              "      <td>[Annotator_795, Annotator_796, Annotator_797, ...</td>\n",
              "      <td>[F, F, F, M, M, M]</td>\n",
              "      <td>[18-22, 23-45, 46+, 18-22, 23-45, 46+]</td>\n",
              "      <td>[NO, YES, YES, YES, YES, YES]</td>\n",
              "      <td>[-, DIRECT, JUDGEMENTAL, DIRECT, DIRECT, DIRECT]</td>\n",
              "      <td>[[-], [IDEOLOGICAL-INEQUALITY, MISOGYNY-NON-SE...</td>\n",
              "      <td>DEV_EN</td>\n",
              "    </tr>\n",
              "    <tr>\n",
              "      <th>400182</th>\n",
              "      <td>en</td>\n",
              "      <td>@ultshunnie u gotta say some shit like “i’ll f...</td>\n",
              "      <td>6</td>\n",
              "      <td>[Annotator_770, Annotator_771, Annotator_772, ...</td>\n",
              "      <td>[F, F, F, M, M, M]</td>\n",
              "      <td>[18-22, 23-45, 46+, 18-22, 23-45, 46+]</td>\n",
              "      <td>[YES, YES, YES, YES, YES, YES]</td>\n",
              "      <td>[DIRECT, REPORTED, DIRECT, DIRECT, JUDGEMENTAL...</td>\n",
              "      <td>[[OBJECTIFICATION, SEXUAL-VIOLENCE], [SEXUAL-V...</td>\n",
              "      <td>DEV_EN</td>\n",
              "    </tr>\n",
              "  </tbody>\n",
              "</table>\n",
              "</div>"
            ],
            "text/plain": [
              "         lang                                              tweet  \\\n",
              "id_EXIST                                                           \n",
              "400178     en  1st day at the pool on a beautiful Sunday in N...   \n",
              "400179     en  “I like your outfit too except when i dress up...   \n",
              "400180     en  @KNasFanFic 🥺💖 same, though!!! the angst just ...   \n",
              "400181     en  @themaxburns @GOP Fuck that cunt. Tried to vot...   \n",
              "400182     en  @ultshunnie u gotta say some shit like “i’ll f...   \n",
              "\n",
              "         number_annotators                                         annotators  \\\n",
              "id_EXIST                                                                        \n",
              "400178                   6  [Annotator_764, Annotator_765, Annotator_766, ...   \n",
              "400179                   6  [Annotator_805, Annotator_426, Annotator_806, ...   \n",
              "400180                   6  [Annotator_795, Annotator_796, Annotator_797, ...   \n",
              "400181                   6  [Annotator_795, Annotator_796, Annotator_797, ...   \n",
              "400182                   6  [Annotator_770, Annotator_771, Annotator_772, ...   \n",
              "\n",
              "           gender_annotators                          age_annotators  \\\n",
              "id_EXIST                                                               \n",
              "400178    [F, F, F, M, M, M]  [18-22, 23-45, 46+, 18-22, 23-45, 46+]   \n",
              "400179    [F, F, F, M, M, M]  [18-22, 23-45, 46+, 18-22, 23-45, 46+]   \n",
              "400180    [F, F, F, M, M, M]  [18-22, 23-45, 46+, 18-22, 23-45, 46+]   \n",
              "400181    [F, F, F, M, M, M]  [18-22, 23-45, 46+, 18-22, 23-45, 46+]   \n",
              "400182    [F, F, F, M, M, M]  [18-22, 23-45, 46+, 18-22, 23-45, 46+]   \n",
              "\n",
              "                            labels_task1  \\\n",
              "id_EXIST                                   \n",
              "400178          [NO, NO, NO, NO, NO, NO]   \n",
              "400179     [YES, YES, YES, YES, YES, NO]   \n",
              "400180          [NO, NO, NO, NO, NO, NO]   \n",
              "400181     [NO, YES, YES, YES, YES, YES]   \n",
              "400182    [YES, YES, YES, YES, YES, YES]   \n",
              "\n",
              "                                               labels_task2  \\\n",
              "id_EXIST                                                      \n",
              "400178                                   [-, -, -, -, -, -]   \n",
              "400179    [JUDGEMENTAL, DIRECT, REPORTED, DIRECT, REPORT...   \n",
              "400180                                   [-, -, -, -, -, -]   \n",
              "400181     [-, DIRECT, JUDGEMENTAL, DIRECT, DIRECT, DIRECT]   \n",
              "400182    [DIRECT, REPORTED, DIRECT, DIRECT, JUDGEMENTAL...   \n",
              "\n",
              "                                               labels_task3   split  \n",
              "id_EXIST                                                             \n",
              "400178                       [[-], [-], [-], [-], [-], [-]]  DEV_EN  \n",
              "400179    [[OBJECTIFICATION], [OBJECTIFICATION, MISOGYNY...  DEV_EN  \n",
              "400180                       [[-], [-], [-], [-], [-], [-]]  DEV_EN  \n",
              "400181    [[-], [IDEOLOGICAL-INEQUALITY, MISOGYNY-NON-SE...  DEV_EN  \n",
              "400182    [[OBJECTIFICATION, SEXUAL-VIOLENCE], [SEXUAL-V...  DEV_EN  "
            ]
          },
          "execution_count": 11,
          "metadata": {},
          "output_type": "execute_result"
        }
      ],
      "source": [
        "test_df.head()"
      ]
    },
    {
      "cell_type": "code",
      "execution_count": 12,
      "metadata": {
        "colab": {
          "base_uri": "https://localhost:8080/",
          "height": 411
        },
        "id": "f2EUuh1qLA1U",
        "outputId": "397a7b5e-53d9-4a0e-cab6-a0e17f6057d6"
      },
      "outputs": [
        {
          "data": {
            "text/html": [
              "<div>\n",
              "<style scoped>\n",
              "    .dataframe tbody tr th:only-of-type {\n",
              "        vertical-align: middle;\n",
              "    }\n",
              "\n",
              "    .dataframe tbody tr th {\n",
              "        vertical-align: top;\n",
              "    }\n",
              "\n",
              "    .dataframe thead th {\n",
              "        text-align: right;\n",
              "    }\n",
              "</style>\n",
              "<table border=\"1\" class=\"dataframe\">\n",
              "  <thead>\n",
              "    <tr style=\"text-align: right;\">\n",
              "      <th></th>\n",
              "      <th>lang</th>\n",
              "      <th>tweet</th>\n",
              "      <th>number_annotators</th>\n",
              "      <th>annotators</th>\n",
              "      <th>gender_annotators</th>\n",
              "      <th>age_annotators</th>\n",
              "      <th>labels_task1</th>\n",
              "      <th>labels_task2</th>\n",
              "      <th>labels_task3</th>\n",
              "      <th>split</th>\n",
              "    </tr>\n",
              "    <tr>\n",
              "      <th>id_EXIST</th>\n",
              "      <th></th>\n",
              "      <th></th>\n",
              "      <th></th>\n",
              "      <th></th>\n",
              "      <th></th>\n",
              "      <th></th>\n",
              "      <th></th>\n",
              "      <th></th>\n",
              "      <th></th>\n",
              "      <th></th>\n",
              "    </tr>\n",
              "  </thead>\n",
              "  <tbody>\n",
              "    <tr>\n",
              "      <th>300001</th>\n",
              "      <td>es</td>\n",
              "      <td>@Fichinescu La comunidad gamer es un antro de ...</td>\n",
              "      <td>6</td>\n",
              "      <td>[Annotator_726, Annotator_727, Annotator_357, ...</td>\n",
              "      <td>[F, F, F, M, M, M]</td>\n",
              "      <td>[18-22, 23-45, 46+, 18-22, 23-45, 46+]</td>\n",
              "      <td>[NO, YES, YES, NO, YES, NO]</td>\n",
              "      <td>[-, JUDGEMENTAL, JUDGEMENTAL, -, REPORTED, -]</td>\n",
              "      <td>[[-], [MISOGYNY-NON-SEXUAL-VIOLENCE], [MISOGYN...</td>\n",
              "      <td>DEV_ES</td>\n",
              "    </tr>\n",
              "    <tr>\n",
              "      <th>300002</th>\n",
              "      <td>es</td>\n",
              "      <td>@anacaotica88 @MordorLivin No me acuerdo de lo...</td>\n",
              "      <td>6</td>\n",
              "      <td>[Annotator_731, Annotator_732, Annotator_315, ...</td>\n",
              "      <td>[F, F, F, M, M, M]</td>\n",
              "      <td>[18-22, 23-45, 46+, 18-22, 23-45, 46+]</td>\n",
              "      <td>[YES, YES, NO, YES, YES, YES]</td>\n",
              "      <td>[JUDGEMENTAL, REPORTED, -, JUDGEMENTAL, JUDGEM...</td>\n",
              "      <td>[[IDEOLOGICAL-INEQUALITY, STEREOTYPING-DOMINAN...</td>\n",
              "      <td>DEV_ES</td>\n",
              "    </tr>\n",
              "    <tr>\n",
              "      <th>300003</th>\n",
              "      <td>es</td>\n",
              "      <td>@cosmicJunkBot lo digo cada pocos dias y lo re...</td>\n",
              "      <td>6</td>\n",
              "      <td>[Annotator_735, Annotator_736, Annotator_345, ...</td>\n",
              "      <td>[F, F, F, M, M, M]</td>\n",
              "      <td>[18-22, 23-45, 46+, 18-22, 23-45, 46+]</td>\n",
              "      <td>[NO, NO, NO, NO, NO, NO]</td>\n",
              "      <td>[-, -, -, -, -, -]</td>\n",
              "      <td>[[-], [-], [-], [-], [-], [-]]</td>\n",
              "      <td>DEV_ES</td>\n",
              "    </tr>\n",
              "    <tr>\n",
              "      <th>300004</th>\n",
              "      <td>es</td>\n",
              "      <td>Also mientras les decia eso la señalaba y deci...</td>\n",
              "      <td>6</td>\n",
              "      <td>[Annotator_259, Annotator_739, Annotator_291, ...</td>\n",
              "      <td>[F, F, F, M, M, M]</td>\n",
              "      <td>[18-22, 23-45, 46+, 18-22, 23-45, 46+]</td>\n",
              "      <td>[NO, YES, YES, YES, YES, YES]</td>\n",
              "      <td>[-, REPORTED, REPORTED, REPORTED, JUDGEMENTAL,...</td>\n",
              "      <td>[[-], [SEXUAL-VIOLENCE], [SEXUAL-VIOLENCE], [S...</td>\n",
              "      <td>DEV_ES</td>\n",
              "    </tr>\n",
              "    <tr>\n",
              "      <th>300005</th>\n",
              "      <td>es</td>\n",
              "      <td>And all people killed,  attacked, harassed by ...</td>\n",
              "      <td>6</td>\n",
              "      <td>[Annotator_731, Annotator_732, Annotator_315, ...</td>\n",
              "      <td>[F, F, F, M, M, M]</td>\n",
              "      <td>[18-22, 23-45, 46+, 18-22, 23-45, 46+]</td>\n",
              "      <td>[NO, YES, NO, NO, NO, NO]</td>\n",
              "      <td>[-, DIRECT, -, -, -, -]</td>\n",
              "      <td>[[-], [STEREOTYPING-DOMINANCE], [-], [-], [-],...</td>\n",
              "      <td>DEV_ES</td>\n",
              "    </tr>\n",
              "  </tbody>\n",
              "</table>\n",
              "</div>"
            ],
            "text/plain": [
              "         lang                                              tweet  \\\n",
              "id_EXIST                                                           \n",
              "300001     es  @Fichinescu La comunidad gamer es un antro de ...   \n",
              "300002     es  @anacaotica88 @MordorLivin No me acuerdo de lo...   \n",
              "300003     es  @cosmicJunkBot lo digo cada pocos dias y lo re...   \n",
              "300004     es  Also mientras les decia eso la señalaba y deci...   \n",
              "300005     es  And all people killed,  attacked, harassed by ...   \n",
              "\n",
              "         number_annotators                                         annotators  \\\n",
              "id_EXIST                                                                        \n",
              "300001                   6  [Annotator_726, Annotator_727, Annotator_357, ...   \n",
              "300002                   6  [Annotator_731, Annotator_732, Annotator_315, ...   \n",
              "300003                   6  [Annotator_735, Annotator_736, Annotator_345, ...   \n",
              "300004                   6  [Annotator_259, Annotator_739, Annotator_291, ...   \n",
              "300005                   6  [Annotator_731, Annotator_732, Annotator_315, ...   \n",
              "\n",
              "           gender_annotators                          age_annotators  \\\n",
              "id_EXIST                                                               \n",
              "300001    [F, F, F, M, M, M]  [18-22, 23-45, 46+, 18-22, 23-45, 46+]   \n",
              "300002    [F, F, F, M, M, M]  [18-22, 23-45, 46+, 18-22, 23-45, 46+]   \n",
              "300003    [F, F, F, M, M, M]  [18-22, 23-45, 46+, 18-22, 23-45, 46+]   \n",
              "300004    [F, F, F, M, M, M]  [18-22, 23-45, 46+, 18-22, 23-45, 46+]   \n",
              "300005    [F, F, F, M, M, M]  [18-22, 23-45, 46+, 18-22, 23-45, 46+]   \n",
              "\n",
              "                           labels_task1  \\\n",
              "id_EXIST                                  \n",
              "300001      [NO, YES, YES, NO, YES, NO]   \n",
              "300002    [YES, YES, NO, YES, YES, YES]   \n",
              "300003         [NO, NO, NO, NO, NO, NO]   \n",
              "300004    [NO, YES, YES, YES, YES, YES]   \n",
              "300005        [NO, YES, NO, NO, NO, NO]   \n",
              "\n",
              "                                               labels_task2  \\\n",
              "id_EXIST                                                      \n",
              "300001        [-, JUDGEMENTAL, JUDGEMENTAL, -, REPORTED, -]   \n",
              "300002    [JUDGEMENTAL, REPORTED, -, JUDGEMENTAL, JUDGEM...   \n",
              "300003                                   [-, -, -, -, -, -]   \n",
              "300004    [-, REPORTED, REPORTED, REPORTED, JUDGEMENTAL,...   \n",
              "300005                              [-, DIRECT, -, -, -, -]   \n",
              "\n",
              "                                               labels_task3   split  \n",
              "id_EXIST                                                             \n",
              "300001    [[-], [MISOGYNY-NON-SEXUAL-VIOLENCE], [MISOGYN...  DEV_ES  \n",
              "300002    [[IDEOLOGICAL-INEQUALITY, STEREOTYPING-DOMINAN...  DEV_ES  \n",
              "300003                       [[-], [-], [-], [-], [-], [-]]  DEV_ES  \n",
              "300004    [[-], [SEXUAL-VIOLENCE], [SEXUAL-VIOLENCE], [S...  DEV_ES  \n",
              "300005    [[-], [STEREOTYPING-DOMINANCE], [-], [-], [-],...  DEV_ES  "
            ]
          },
          "execution_count": 12,
          "metadata": {},
          "output_type": "execute_result"
        }
      ],
      "source": [
        "validation_df.head()"
      ]
    },
    {
      "cell_type": "markdown",
      "metadata": {
        "id": "VN8umkIkUfaE"
      },
      "source": [
        "### 3. Generate hard labels for Task 1 using majority voting and store them in a new dataframe column called hard_label_task1. Items without a clear majority will be removed from the dataset."
      ]
    },
    {
      "cell_type": "code",
      "execution_count": 13,
      "metadata": {
        "colab": {
          "base_uri": "https://localhost:8080/",
          "height": 411
        },
        "id": "HA9xRI2IUk_2",
        "outputId": "c3739ce5-f9dc-4bbc-98cb-efa749806a6b"
      },
      "outputs": [
        {
          "data": {
            "text/html": [
              "<div>\n",
              "<style scoped>\n",
              "    .dataframe tbody tr th:only-of-type {\n",
              "        vertical-align: middle;\n",
              "    }\n",
              "\n",
              "    .dataframe tbody tr th {\n",
              "        vertical-align: top;\n",
              "    }\n",
              "\n",
              "    .dataframe thead th {\n",
              "        text-align: right;\n",
              "    }\n",
              "</style>\n",
              "<table border=\"1\" class=\"dataframe\">\n",
              "  <thead>\n",
              "    <tr style=\"text-align: right;\">\n",
              "      <th></th>\n",
              "      <th>lang</th>\n",
              "      <th>tweet</th>\n",
              "      <th>number_annotators</th>\n",
              "      <th>annotators</th>\n",
              "      <th>gender_annotators</th>\n",
              "      <th>age_annotators</th>\n",
              "      <th>labels_task1</th>\n",
              "      <th>labels_task2</th>\n",
              "      <th>labels_task3</th>\n",
              "      <th>split</th>\n",
              "      <th>hard_label_task1</th>\n",
              "    </tr>\n",
              "    <tr>\n",
              "      <th>id_EXIST</th>\n",
              "      <th></th>\n",
              "      <th></th>\n",
              "      <th></th>\n",
              "      <th></th>\n",
              "      <th></th>\n",
              "      <th></th>\n",
              "      <th></th>\n",
              "      <th></th>\n",
              "      <th></th>\n",
              "      <th></th>\n",
              "      <th></th>\n",
              "    </tr>\n",
              "  </thead>\n",
              "  <tbody>\n",
              "    <tr>\n",
              "      <th>100001</th>\n",
              "      <td>es</td>\n",
              "      <td>@TheChiflis Ignora al otro, es un capullo.El p...</td>\n",
              "      <td>6</td>\n",
              "      <td>[Annotator_1, Annotator_2, Annotator_3, Annota...</td>\n",
              "      <td>[F, F, F, M, M, M]</td>\n",
              "      <td>[18-22, 23-45, 46+, 46+, 23-45, 18-22]</td>\n",
              "      <td>[YES, YES, NO, YES, YES, YES]</td>\n",
              "      <td>[REPORTED, JUDGEMENTAL, -, REPORTED, JUDGEMENT...</td>\n",
              "      <td>[[OBJECTIFICATION], [OBJECTIFICATION, SEXUAL-V...</td>\n",
              "      <td>TRAIN_ES</td>\n",
              "      <td>YES</td>\n",
              "    </tr>\n",
              "    <tr>\n",
              "      <th>100002</th>\n",
              "      <td>es</td>\n",
              "      <td>@ultimonomada_ Si comicsgate se parece en algo...</td>\n",
              "      <td>6</td>\n",
              "      <td>[Annotator_7, Annotator_8, Annotator_9, Annota...</td>\n",
              "      <td>[F, F, F, M, M, M]</td>\n",
              "      <td>[18-22, 23-45, 46+, 46+, 23-45, 18-22]</td>\n",
              "      <td>[NO, NO, NO, NO, YES, NO]</td>\n",
              "      <td>[-, -, -, -, DIRECT, -]</td>\n",
              "      <td>[[-], [-], [-], [-], [OBJECTIFICATION], [-]]</td>\n",
              "      <td>TRAIN_ES</td>\n",
              "      <td>NO</td>\n",
              "    </tr>\n",
              "    <tr>\n",
              "      <th>100003</th>\n",
              "      <td>es</td>\n",
              "      <td>@Steven2897 Lee sobre Gamergate, y como eso ha...</td>\n",
              "      <td>6</td>\n",
              "      <td>[Annotator_7, Annotator_8, Annotator_9, Annota...</td>\n",
              "      <td>[F, F, F, M, M, M]</td>\n",
              "      <td>[18-22, 23-45, 46+, 46+, 23-45, 18-22]</td>\n",
              "      <td>[NO, NO, NO, NO, NO, NO]</td>\n",
              "      <td>[-, -, -, -, -, -]</td>\n",
              "      <td>[[-], [-], [-], [-], [-], [-]]</td>\n",
              "      <td>TRAIN_ES</td>\n",
              "      <td>NO</td>\n",
              "    </tr>\n",
              "    <tr>\n",
              "      <th>100004</th>\n",
              "      <td>es</td>\n",
              "      <td>@Lunariita7 Un retraso social bastante lamenta...</td>\n",
              "      <td>6</td>\n",
              "      <td>[Annotator_13, Annotator_14, Annotator_15, Ann...</td>\n",
              "      <td>[F, F, F, M, M, M]</td>\n",
              "      <td>[18-22, 23-45, 46+, 46+, 23-45, 18-22]</td>\n",
              "      <td>[NO, NO, YES, NO, YES, YES]</td>\n",
              "      <td>[-, -, DIRECT, -, REPORTED, REPORTED]</td>\n",
              "      <td>[[-], [-], [IDEOLOGICAL-INEQUALITY], [-], [IDE...</td>\n",
              "      <td>TRAIN_ES</td>\n",
              "      <td>None</td>\n",
              "    </tr>\n",
              "    <tr>\n",
              "      <th>100005</th>\n",
              "      <td>es</td>\n",
              "      <td>@novadragon21 @icep4ck @TvDannyZ Entonces como...</td>\n",
              "      <td>6</td>\n",
              "      <td>[Annotator_19, Annotator_20, Annotator_21, Ann...</td>\n",
              "      <td>[F, F, F, M, M, M]</td>\n",
              "      <td>[18-22, 23-45, 46+, 46+, 23-45, 18-22]</td>\n",
              "      <td>[YES, NO, YES, NO, YES, YES]</td>\n",
              "      <td>[REPORTED, -, JUDGEMENTAL, -, JUDGEMENTAL, DIR...</td>\n",
              "      <td>[[STEREOTYPING-DOMINANCE, OBJECTIFICATION], [-...</td>\n",
              "      <td>TRAIN_ES</td>\n",
              "      <td>YES</td>\n",
              "    </tr>\n",
              "  </tbody>\n",
              "</table>\n",
              "</div>"
            ],
            "text/plain": [
              "         lang                                              tweet  \\\n",
              "id_EXIST                                                           \n",
              "100001     es  @TheChiflis Ignora al otro, es un capullo.El p...   \n",
              "100002     es  @ultimonomada_ Si comicsgate se parece en algo...   \n",
              "100003     es  @Steven2897 Lee sobre Gamergate, y como eso ha...   \n",
              "100004     es  @Lunariita7 Un retraso social bastante lamenta...   \n",
              "100005     es  @novadragon21 @icep4ck @TvDannyZ Entonces como...   \n",
              "\n",
              "         number_annotators                                         annotators  \\\n",
              "id_EXIST                                                                        \n",
              "100001                   6  [Annotator_1, Annotator_2, Annotator_3, Annota...   \n",
              "100002                   6  [Annotator_7, Annotator_8, Annotator_9, Annota...   \n",
              "100003                   6  [Annotator_7, Annotator_8, Annotator_9, Annota...   \n",
              "100004                   6  [Annotator_13, Annotator_14, Annotator_15, Ann...   \n",
              "100005                   6  [Annotator_19, Annotator_20, Annotator_21, Ann...   \n",
              "\n",
              "           gender_annotators                          age_annotators  \\\n",
              "id_EXIST                                                               \n",
              "100001    [F, F, F, M, M, M]  [18-22, 23-45, 46+, 46+, 23-45, 18-22]   \n",
              "100002    [F, F, F, M, M, M]  [18-22, 23-45, 46+, 46+, 23-45, 18-22]   \n",
              "100003    [F, F, F, M, M, M]  [18-22, 23-45, 46+, 46+, 23-45, 18-22]   \n",
              "100004    [F, F, F, M, M, M]  [18-22, 23-45, 46+, 46+, 23-45, 18-22]   \n",
              "100005    [F, F, F, M, M, M]  [18-22, 23-45, 46+, 46+, 23-45, 18-22]   \n",
              "\n",
              "                           labels_task1  \\\n",
              "id_EXIST                                  \n",
              "100001    [YES, YES, NO, YES, YES, YES]   \n",
              "100002        [NO, NO, NO, NO, YES, NO]   \n",
              "100003         [NO, NO, NO, NO, NO, NO]   \n",
              "100004      [NO, NO, YES, NO, YES, YES]   \n",
              "100005     [YES, NO, YES, NO, YES, YES]   \n",
              "\n",
              "                                               labels_task2  \\\n",
              "id_EXIST                                                      \n",
              "100001    [REPORTED, JUDGEMENTAL, -, REPORTED, JUDGEMENT...   \n",
              "100002                              [-, -, -, -, DIRECT, -]   \n",
              "100003                                   [-, -, -, -, -, -]   \n",
              "100004                [-, -, DIRECT, -, REPORTED, REPORTED]   \n",
              "100005    [REPORTED, -, JUDGEMENTAL, -, JUDGEMENTAL, DIR...   \n",
              "\n",
              "                                               labels_task3     split  \\\n",
              "id_EXIST                                                                \n",
              "100001    [[OBJECTIFICATION], [OBJECTIFICATION, SEXUAL-V...  TRAIN_ES   \n",
              "100002         [[-], [-], [-], [-], [OBJECTIFICATION], [-]]  TRAIN_ES   \n",
              "100003                       [[-], [-], [-], [-], [-], [-]]  TRAIN_ES   \n",
              "100004    [[-], [-], [IDEOLOGICAL-INEQUALITY], [-], [IDE...  TRAIN_ES   \n",
              "100005    [[STEREOTYPING-DOMINANCE, OBJECTIFICATION], [-...  TRAIN_ES   \n",
              "\n",
              "         hard_label_task1  \n",
              "id_EXIST                   \n",
              "100001                YES  \n",
              "100002                 NO  \n",
              "100003                 NO  \n",
              "100004               None  \n",
              "100005                YES  "
            ]
          },
          "execution_count": 13,
          "metadata": {},
          "output_type": "execute_result"
        }
      ],
      "source": [
        "def majority_vote(labels):\n",
        "    \"\"\"\n",
        "    Determines the majority vote from a list of labels.\n",
        "    \"\"\"\n",
        "    yes_count = labels.count('YES')\n",
        "    no_count = labels.count('NO')\n",
        "    if yes_count > no_count:\n",
        "        return 'YES'\n",
        "    elif no_count > yes_count:\n",
        "        return 'NO'\n",
        "    else:\n",
        "        return None\n",
        "\n",
        "# Apply the majority_vote function to the 'labels_task1' column\n",
        "for df in [training_df, test_df, validation_df]:\n",
        "    df['hard_label_task1'] = df['labels_task1'].apply(majority_vote)\n",
        "\n",
        "# Display the result for the training DataFrame\n",
        "training_df.head()"
      ]
    },
    {
      "cell_type": "code",
      "execution_count": 14,
      "metadata": {
        "colab": {
          "base_uri": "https://localhost:8080/"
        },
        "id": "X79adW4KUqlA",
        "outputId": "c5b5025f-9972-43be-f592-89795c81c87c"
      },
      "outputs": [
        {
          "name": "stdout",
          "output_type": "stream",
          "text": [
            "### Before dropping missing values ###\n",
            "Training DataFrame shape before dropping missing values: (6920, 11)\n",
            "Test DataFrame shape before dropping missing values: (312, 11)\n",
            "Validation DataFrame shape before dropping missing values: (726, 11)\n",
            "### After dropping missing values ###\n",
            "Training DataFrame shape after dropping missing values: (6064, 11)\n",
            "Test DataFrame shape after dropping missing values: (286, 11)\n",
            "Validation DataFrame shape after dropping missing values: (648, 11)\n"
          ]
        }
      ],
      "source": [
        "# Drop rows with missing values (for no majority vote case)\n",
        "print(\"### Before dropping missing values ###\")\n",
        "print(f\"Training DataFrame shape before dropping missing values: {training_df.shape}\")\n",
        "print(f\"Test DataFrame shape before dropping missing values: {test_df.shape}\")\n",
        "print(f\"Validation DataFrame shape before dropping missing values: {validation_df.shape}\")\n",
        "\n",
        "training_df = training_df.dropna()\n",
        "test_df = test_df.dropna()\n",
        "validation_df = validation_df.dropna()\n",
        "\n",
        "print(\"### After dropping missing values ###\")\n",
        "print(f\"Training DataFrame shape after dropping missing values: {training_df.shape}\")\n",
        "print(f\"Test DataFrame shape after dropping missing values: {test_df.shape}\")\n",
        "print(f\"Validation DataFrame shape after dropping missing values: {validation_df.shape}\")"
      ]
    },
    {
      "cell_type": "markdown",
      "metadata": {
        "id": "p1VN-1QjVnB2"
      },
      "source": [
        "### 4. Keep only 'en' language"
      ]
    },
    {
      "cell_type": "code",
      "execution_count": 15,
      "metadata": {
        "colab": {
          "base_uri": "https://localhost:8080/"
        },
        "id": "NKlLRSblVn89",
        "outputId": "a8bbad70-fda6-4436-b95f-c05ae9f38fe9"
      },
      "outputs": [
        {
          "name": "stdout",
          "output_type": "stream",
          "text": [
            "### Before filtering by language ###\n",
            "Training DataFrame shape before filtering by language: (6064, 11)\n",
            "Test DataFrame shape before filtering by language: (286, 11)\n",
            "Validation DataFrame shape before filtering by language: (648, 11)\n",
            "### After filtering by language ###\n",
            "Training DataFrame shape after filtering by language: (2870, 11)\n",
            "Test DataFrame shape after filtering by language: (286, 11)\n",
            "Validation DataFrame shape after filtering by language: (158, 11)\n"
          ]
        }
      ],
      "source": [
        "print(\"### Before filtering by language ###\")\n",
        "print(f\"Training DataFrame shape before filtering by language: {training_df.shape}\")\n",
        "print(f\"Test DataFrame shape before filtering by language: {test_df.shape}\")\n",
        "print(f\"Validation DataFrame shape before filtering by language: {validation_df.shape}\")\n",
        "\n",
        "training_df = training_df[training_df['lang'] == 'en']\n",
        "test_df = test_df[test_df['lang'] == 'en']\n",
        "validation_df = validation_df[validation_df['lang'] == 'en']\n",
        "\n",
        "print(\"### After filtering by language ###\")\n",
        "print(f\"Training DataFrame shape after filtering by language: {training_df.shape}\")\n",
        "print(f\"Test DataFrame shape after filtering by language: {test_df.shape}\")\n",
        "print(f\"Validation DataFrame shape after filtering by language: {validation_df.shape}\")"
      ]
    },
    {
      "cell_type": "markdown",
      "metadata": {
        "id": "bBsax4wgU9zh"
      },
      "source": [
        "### 5. Keep only relevant columns"
      ]
    },
    {
      "cell_type": "code",
      "execution_count": 16,
      "metadata": {
        "colab": {
          "base_uri": "https://localhost:8080/",
          "height": 238
        },
        "id": "OWlsFk1MU78y",
        "outputId": "0960af07-fcd0-41e3-c884-f0e4a2c3309a"
      },
      "outputs": [
        {
          "data": {
            "text/html": [
              "<div>\n",
              "<style scoped>\n",
              "    .dataframe tbody tr th:only-of-type {\n",
              "        vertical-align: middle;\n",
              "    }\n",
              "\n",
              "    .dataframe tbody tr th {\n",
              "        vertical-align: top;\n",
              "    }\n",
              "\n",
              "    .dataframe thead th {\n",
              "        text-align: right;\n",
              "    }\n",
              "</style>\n",
              "<table border=\"1\" class=\"dataframe\">\n",
              "  <thead>\n",
              "    <tr style=\"text-align: right;\">\n",
              "      <th></th>\n",
              "      <th>lang</th>\n",
              "      <th>tweet</th>\n",
              "      <th>hard_label_task1</th>\n",
              "    </tr>\n",
              "    <tr>\n",
              "      <th>id_EXIST</th>\n",
              "      <th></th>\n",
              "      <th></th>\n",
              "      <th></th>\n",
              "    </tr>\n",
              "  </thead>\n",
              "  <tbody>\n",
              "    <tr>\n",
              "      <th>200002</th>\n",
              "      <td>en</td>\n",
              "      <td>Writing a uni essay in my local pub with a cof...</td>\n",
              "      <td>YES</td>\n",
              "    </tr>\n",
              "    <tr>\n",
              "      <th>200003</th>\n",
              "      <td>en</td>\n",
              "      <td>@UniversalORL it is 2021 not 1921. I dont appr...</td>\n",
              "      <td>YES</td>\n",
              "    </tr>\n",
              "    <tr>\n",
              "      <th>200006</th>\n",
              "      <td>en</td>\n",
              "      <td>According to a customer I have plenty of time ...</td>\n",
              "      <td>YES</td>\n",
              "    </tr>\n",
              "    <tr>\n",
              "      <th>200007</th>\n",
              "      <td>en</td>\n",
              "      <td>So only 'blokes' drink beer? Sorry, but if you...</td>\n",
              "      <td>YES</td>\n",
              "    </tr>\n",
              "    <tr>\n",
              "      <th>200008</th>\n",
              "      <td>en</td>\n",
              "      <td>New to the shelves this week - looking forward...</td>\n",
              "      <td>NO</td>\n",
              "    </tr>\n",
              "  </tbody>\n",
              "</table>\n",
              "</div>"
            ],
            "text/plain": [
              "         lang                                              tweet  \\\n",
              "id_EXIST                                                           \n",
              "200002     en  Writing a uni essay in my local pub with a cof...   \n",
              "200003     en  @UniversalORL it is 2021 not 1921. I dont appr...   \n",
              "200006     en  According to a customer I have plenty of time ...   \n",
              "200007     en  So only 'blokes' drink beer? Sorry, but if you...   \n",
              "200008     en  New to the shelves this week - looking forward...   \n",
              "\n",
              "         hard_label_task1  \n",
              "id_EXIST                   \n",
              "200002                YES  \n",
              "200003                YES  \n",
              "200006                YES  \n",
              "200007                YES  \n",
              "200008                 NO  "
            ]
          },
          "execution_count": 16,
          "metadata": {},
          "output_type": "execute_result"
        }
      ],
      "source": [
        "training_df = training_df.drop(columns=['number_annotators',\t'annotators',\t'gender_annotators',\t'age_annotators',\t'labels_task1',\t'labels_task2',\t'labels_task3',\t'split'])\n",
        "test_df = test_df.drop(columns=['number_annotators',\t'annotators',\t'gender_annotators',\t'age_annotators',\t'labels_task1',\t'labels_task2',\t'labels_task3',\t'split'])\n",
        "validation_df = validation_df.drop(columns=['number_annotators',\t'annotators',\t'gender_annotators',\t'age_annotators',\t'labels_task1',\t'labels_task2',\t'labels_task3',\t'split'])\n",
        "\n",
        "training_df.head()"
      ]
    },
    {
      "cell_type": "markdown",
      "metadata": {
        "id": "CL8-pyk7VDs6"
      },
      "source": [
        "### 6. YES = 1, NO = 0"
      ]
    },
    {
      "cell_type": "code",
      "execution_count": 17,
      "metadata": {
        "colab": {
          "base_uri": "https://localhost:8080/",
          "height": 238
        },
        "id": "9jJmxhlSVDYQ",
        "outputId": "b0886505-4c9b-4ce5-d754-1abfe58508b1"
      },
      "outputs": [
        {
          "data": {
            "text/html": [
              "<div>\n",
              "<style scoped>\n",
              "    .dataframe tbody tr th:only-of-type {\n",
              "        vertical-align: middle;\n",
              "    }\n",
              "\n",
              "    .dataframe tbody tr th {\n",
              "        vertical-align: top;\n",
              "    }\n",
              "\n",
              "    .dataframe thead th {\n",
              "        text-align: right;\n",
              "    }\n",
              "</style>\n",
              "<table border=\"1\" class=\"dataframe\">\n",
              "  <thead>\n",
              "    <tr style=\"text-align: right;\">\n",
              "      <th></th>\n",
              "      <th>lang</th>\n",
              "      <th>tweet</th>\n",
              "      <th>hard_label_task1</th>\n",
              "    </tr>\n",
              "    <tr>\n",
              "      <th>id_EXIST</th>\n",
              "      <th></th>\n",
              "      <th></th>\n",
              "      <th></th>\n",
              "    </tr>\n",
              "  </thead>\n",
              "  <tbody>\n",
              "    <tr>\n",
              "      <th>200002</th>\n",
              "      <td>en</td>\n",
              "      <td>Writing a uni essay in my local pub with a cof...</td>\n",
              "      <td>1</td>\n",
              "    </tr>\n",
              "    <tr>\n",
              "      <th>200003</th>\n",
              "      <td>en</td>\n",
              "      <td>@UniversalORL it is 2021 not 1921. I dont appr...</td>\n",
              "      <td>1</td>\n",
              "    </tr>\n",
              "    <tr>\n",
              "      <th>200006</th>\n",
              "      <td>en</td>\n",
              "      <td>According to a customer I have plenty of time ...</td>\n",
              "      <td>1</td>\n",
              "    </tr>\n",
              "    <tr>\n",
              "      <th>200007</th>\n",
              "      <td>en</td>\n",
              "      <td>So only 'blokes' drink beer? Sorry, but if you...</td>\n",
              "      <td>1</td>\n",
              "    </tr>\n",
              "    <tr>\n",
              "      <th>200008</th>\n",
              "      <td>en</td>\n",
              "      <td>New to the shelves this week - looking forward...</td>\n",
              "      <td>0</td>\n",
              "    </tr>\n",
              "  </tbody>\n",
              "</table>\n",
              "</div>"
            ],
            "text/plain": [
              "         lang                                              tweet  \\\n",
              "id_EXIST                                                           \n",
              "200002     en  Writing a uni essay in my local pub with a cof...   \n",
              "200003     en  @UniversalORL it is 2021 not 1921. I dont appr...   \n",
              "200006     en  According to a customer I have plenty of time ...   \n",
              "200007     en  So only 'blokes' drink beer? Sorry, but if you...   \n",
              "200008     en  New to the shelves this week - looking forward...   \n",
              "\n",
              "          hard_label_task1  \n",
              "id_EXIST                    \n",
              "200002                   1  \n",
              "200003                   1  \n",
              "200006                   1  \n",
              "200007                   1  \n",
              "200008                   0  "
            ]
          },
          "execution_count": 17,
          "metadata": {},
          "output_type": "execute_result"
        }
      ],
      "source": [
        "for df in [training_df, test_df, validation_df]:\n",
        "    df['hard_label_task1'] = df['hard_label_task1'].map({'YES': 1, 'NO': 0})\n",
        "\n",
        "training_df.head()"
      ]
    },
    {
      "cell_type": "markdown",
      "metadata": {
        "collapsed": false,
        "id": "Q-ED7XGFThSr"
      },
      "source": [
        "# [Task2 - 0.5 points] Data Cleaning\n",
        "In the context of tweets, we have noisy and informal data that often includes unnecessary elements like emojis, hashtags, mentions, and URLs. These elements may interfere with the text analysis.\n"
      ]
    },
    {
      "cell_type": "markdown",
      "metadata": {
        "collapsed": false,
        "id": "-YizhRa3ThSr"
      },
      "source": [
        "\n",
        "### Instructions\n",
        "- **Remove emojis** from the tweets.\n",
        "- **Remove hashtags** (e.g., `#example`).\n",
        "- **Remove mentions** such as `@user`.\n",
        "- **Remove URLs** from the tweets.\n",
        "- **Remove special characters and symbols**.\n",
        "- **Remove specific quote characters** (e.g., curly quotes).\n",
        "- **Perform lemmatization** to reduce words to their base form."
      ]
    },
    {
      "cell_type": "markdown",
      "metadata": {
        "id": "z8omiF2i3cWH"
      },
      "source": [
        "### 0. Adjust the stop symbols (this was not requested but I added it anyway because it was done in class)"
      ]
    },
    {
      "cell_type": "code",
      "execution_count": 18,
      "metadata": {
        "colab": {
          "base_uri": "https://localhost:8080/"
        },
        "id": "0KVCYvkd3k7U",
        "outputId": "24ca363b-9635-4039-d8bd-42129780699c"
      },
      "outputs": [],
      "source": [
        "import re\n",
        "from functools import reduce\n",
        "import nltk\n",
        "from nltk.corpus import stopwords\n",
        "\n",
        "REPLACE_BY_SPACE_RE = re.compile('[/(){}\\[\\]\\|@,;]')\n",
        "GOOD_SYMBOLS_RE = re.compile('[^0-9a-z #+_]')\n",
        "try:\n",
        "    STOPWORDS = set(stopwords.words('english'))\n",
        "except LookupError:\n",
        "    nltk.download('stopwords')\n",
        "    STOPWORDS = set(stopwords.words('english'))"
      ]
    },
    {
      "cell_type": "markdown",
      "metadata": {
        "id": "9qsRa-KctJlS"
      },
      "source": [
        "### 1. Remove emojis\n",
        "\n",
        "In order to complete this task we need to import the regex. Of course this is taken from the internet because where the fuck was I able to get the fucking regex of the emojis, I don't know shit about this."
      ]
    },
    {
      "cell_type": "code",
      "execution_count": 19,
      "metadata": {
        "id": "e5y8_gVi4k93"
      },
      "outputs": [],
      "source": [
        "def lower(text: str) -> str:\n",
        "    \"\"\"\n",
        "    Transforms given text to lower case.\n",
        "    \"\"\"\n",
        "    return text.lower()"
      ]
    },
    {
      "cell_type": "code",
      "execution_count": 20,
      "metadata": {
        "colab": {
          "base_uri": "https://localhost:8080/",
          "height": 238
        },
        "id": "A_aLUigv6n99",
        "outputId": "71d3691f-b11a-4984-c7ad-0123a0472753"
      },
      "outputs": [
        {
          "data": {
            "text/html": [
              "<div>\n",
              "<style scoped>\n",
              "    .dataframe tbody tr th:only-of-type {\n",
              "        vertical-align: middle;\n",
              "    }\n",
              "\n",
              "    .dataframe tbody tr th {\n",
              "        vertical-align: top;\n",
              "    }\n",
              "\n",
              "    .dataframe thead th {\n",
              "        text-align: right;\n",
              "    }\n",
              "</style>\n",
              "<table border=\"1\" class=\"dataframe\">\n",
              "  <thead>\n",
              "    <tr style=\"text-align: right;\">\n",
              "      <th></th>\n",
              "      <th>lang</th>\n",
              "      <th>tweet</th>\n",
              "      <th>hard_label_task1</th>\n",
              "    </tr>\n",
              "    <tr>\n",
              "      <th>id_EXIST</th>\n",
              "      <th></th>\n",
              "      <th></th>\n",
              "      <th></th>\n",
              "    </tr>\n",
              "  </thead>\n",
              "  <tbody>\n",
              "    <tr>\n",
              "      <th>400178</th>\n",
              "      <td>en</td>\n",
              "      <td>1st day at the pool on a beautiful Sunday in N...</td>\n",
              "      <td>0</td>\n",
              "    </tr>\n",
              "    <tr>\n",
              "      <th>400179</th>\n",
              "      <td>en</td>\n",
              "      <td>“I like your outfit too except when i dress up...</td>\n",
              "      <td>1</td>\n",
              "    </tr>\n",
              "    <tr>\n",
              "      <th>400180</th>\n",
              "      <td>en</td>\n",
              "      <td>@KNasFanFic 🥺💖 same, though!!! the angst just ...</td>\n",
              "      <td>0</td>\n",
              "    </tr>\n",
              "    <tr>\n",
              "      <th>400181</th>\n",
              "      <td>en</td>\n",
              "      <td>@themaxburns @GOP Fuck that cunt. Tried to vot...</td>\n",
              "      <td>1</td>\n",
              "    </tr>\n",
              "    <tr>\n",
              "      <th>400182</th>\n",
              "      <td>en</td>\n",
              "      <td>@ultshunnie u gotta say some shit like “i’ll f...</td>\n",
              "      <td>1</td>\n",
              "    </tr>\n",
              "  </tbody>\n",
              "</table>\n",
              "</div>"
            ],
            "text/plain": [
              "         lang                                              tweet  \\\n",
              "id_EXIST                                                           \n",
              "400178     en  1st day at the pool on a beautiful Sunday in N...   \n",
              "400179     en  “I like your outfit too except when i dress up...   \n",
              "400180     en  @KNasFanFic 🥺💖 same, though!!! the angst just ...   \n",
              "400181     en  @themaxburns @GOP Fuck that cunt. Tried to vot...   \n",
              "400182     en  @ultshunnie u gotta say some shit like “i’ll f...   \n",
              "\n",
              "          hard_label_task1  \n",
              "id_EXIST                    \n",
              "400178                   0  \n",
              "400179                   1  \n",
              "400180                   0  \n",
              "400181                   1  \n",
              "400182                   1  "
            ]
          },
          "execution_count": 20,
          "metadata": {},
          "output_type": "execute_result"
        }
      ],
      "source": [
        "test_df.head()"
      ]
    },
    {
      "cell_type": "code",
      "execution_count": 21,
      "metadata": {
        "id": "3cPygsyAtMdc"
      },
      "outputs": [],
      "source": [
        "import re\n",
        "\n",
        "def remove_emojis(text):\n",
        "    # By encoding in 'ascii', emojis are removed\n",
        "    return text.encode('ascii', 'ignore').decode('ascii')"
      ]
    },
    {
      "cell_type": "markdown",
      "metadata": {
        "id": "sObTCR8a4v0q"
      },
      "source": [
        "### 2. Remove hashtags"
      ]
    },
    {
      "cell_type": "code",
      "execution_count": 22,
      "metadata": {
        "id": "fTdapHQu4x7D"
      },
      "outputs": [],
      "source": [
        "def remove_hashtags(text):\n",
        "    # Regex pattern to match hashtags\n",
        "    hashtag_pattern = r'#\\w+'  # Matches words starting with # followed by any alphanumeric characters or underscores\n",
        "\n",
        "    # Substitute hashtags with an empty string\n",
        "    return re.sub(hashtag_pattern, '', text)"
      ]
    },
    {
      "cell_type": "markdown",
      "metadata": {
        "id": "dtc48h9R5B7b"
      },
      "source": [
        "### 3. Remove mentions"
      ]
    },
    {
      "cell_type": "code",
      "execution_count": 23,
      "metadata": {
        "id": "YBpp2w-95Dqr"
      },
      "outputs": [],
      "source": [
        "def remove_mentions(text):\n",
        "    # Regex pattern to match Twitter mentions (e.g., @username)\n",
        "    mention_pattern = r'@\\w+'  # Matches @ followed by any alphanumeric characters or underscores\n",
        "\n",
        "    # Substitute mentions with an empty string\n",
        "    return re.sub(mention_pattern, '', text)"
      ]
    },
    {
      "cell_type": "markdown",
      "metadata": {
        "id": "ss5aF1ha6T23"
      },
      "source": [
        "### 4. Remove urls"
      ]
    },
    {
      "cell_type": "code",
      "execution_count": 24,
      "metadata": {
        "id": "qU5s-USe6V24"
      },
      "outputs": [],
      "source": [
        "def remove_urls(text):\n",
        "    # Regex pattern to match URLs (http://, https://, ftp://, etc.)\n",
        "    url_pattern = r'http[s]?://\\S+'  # Matches URLs starting with http:// or https:// and followed by non-whitespace characters\n",
        "\n",
        "    # Substitute URLs with an empty string\n",
        "    return re.sub(url_pattern, '', text)"
      ]
    },
    {
      "cell_type": "markdown",
      "metadata": {
        "id": "rdV1p9G-4Yo-"
      },
      "source": [
        "### 5. Remove special characters"
      ]
    },
    {
      "cell_type": "code",
      "execution_count": 25,
      "metadata": {
        "id": "lfWh5nwr4bnK"
      },
      "outputs": [],
      "source": [
        "def replace_special_characters(text: str) -> str:\n",
        "    \"\"\"\n",
        "    Replaces special characters, such as paranthesis, with spacing character\n",
        "    \"\"\"\n",
        "    return REPLACE_BY_SPACE_RE.sub(' ', text)"
      ]
    },
    {
      "cell_type": "markdown",
      "metadata": {
        "id": "sqmZZAvI6fC2"
      },
      "source": [
        "### 6. Remove quotations characters"
      ]
    },
    {
      "cell_type": "code",
      "execution_count": 26,
      "metadata": {
        "id": "WEJxw_jc6pJG"
      },
      "outputs": [],
      "source": [
        "def remove_quotations(text):\n",
        "    # Regex pattern to match single and double quotes\n",
        "    quote_pattern = r\"[\\\"'‘’“”]\"  # Matches either single quotes (') or double quotes (\")\n",
        "\n",
        "    # Substitute quotation marks with an empty string\n",
        "    return re.sub(quote_pattern, '', text)"
      ]
    },
    {
      "cell_type": "markdown",
      "metadata": {
        "id": "4I5poHHG6uBT"
      },
      "source": [
        "Before going ahead with lemmatization I want to perform this to the whole column containing the tweets"
      ]
    },
    {
      "cell_type": "code",
      "execution_count": 27,
      "metadata": {
        "id": "Eb4eIfyU6zhy"
      },
      "outputs": [],
      "source": [
        "# typing\n",
        "from typing import List, Callable, Dict\n",
        "from collections import OrderedDict\n",
        "\n",
        "PREPROCESSING_PIPELINE = [\n",
        "                          lower,\n",
        "                          remove_emojis,\n",
        "                          remove_hashtags,\n",
        "                          remove_mentions,\n",
        "                          remove_urls,\n",
        "                          replace_special_characters,\n",
        "                          remove_quotations\n",
        "                          ]\n",
        "\n",
        "def text_prepare(text: str,\n",
        "                 filter_methods: List[Callable[[str], str]] = None) -> str:\n",
        "    \"\"\"\n",
        "    Applies a list of pre-processing functions in sequence (reduce).\n",
        "    Note that the order is important here!\n",
        "    \"\"\"\n",
        "    filter_methods = filter_methods if filter_methods is not None else PREPROCESSING_PIPELINE\n",
        "    return reduce(lambda txt, f: f(txt), filter_methods, text)"
      ]
    },
    {
      "cell_type": "code",
      "execution_count": 28,
      "metadata": {
        "colab": {
          "base_uri": "https://localhost:8080/"
        },
        "id": "ZHz1A9Z-7Xpp",
        "outputId": "4a83fc1a-790c-4c14-887f-2829f91b301d"
      },
      "outputs": [
        {
          "name": "stdout",
          "output_type": "stream",
          "text": [
            "Pre-processing text...\n",
            "\n",
            "[Debug train] Before:\n",
            "@LibertyAnders I get it.. kind of. 80% of women are going after about 20% of men and ignoring the rest according to statistics of 3 dating apps. so that’s a pain point for some men, but Is hating women really a main component to being an incel? And what’s the difference between MGTOW and Incel?\n",
            "[Debug test] Before:\n",
            "@HTFCirno2000 I have an old receipt printer thing but I have no idea how to use it. I would like to fuck with it like you did. https://t.co/UpXFySfBwB\n",
            "[Debug validation] Before:\n",
            "@motahedoon Alrubaye bint moawad Good luck 💜💜💜💜🤍🤍#motahedoon_challeng\n",
            "\n",
            "[Debug train] After:\n",
            " i get it.. kind of. 80% of women are going after about 20% of men and ignoring the rest according to statistics of 3 dating apps. so thats a pain point for some men  but is hating women really a main component to being an incel? and whats the difference between mgtow and incel?\n",
            "[Debug test] After:\n",
            " i have an old receipt printer thing but i have no idea how to use it. i would like to fuck with it like you did. \n",
            "[Debug validation] After:\n",
            " alrubaye bint moawad good luck \n",
            "\n",
            "Pre-processing completed!\n"
          ]
        }
      ],
      "source": [
        "print('Pre-processing text...')\n",
        "\n",
        "print()\n",
        "print(f'[Debug train] Before:\\n{training_df.tweet.values[50]}')\n",
        "print(f'[Debug test] Before:\\n{test_df.tweet.values[50]}')\n",
        "print(f'[Debug validation] Before:\\n{validation_df.tweet.values[50]}')\n",
        "print()\n",
        "\n",
        "# Replace each sentence with its pre-processed version\n",
        "training_df['tweet'] = training_df['tweet'].apply(lambda txt: text_prepare(txt))\n",
        "test_df['tweet'] = test_df['tweet'].apply(lambda txt: text_prepare(txt))\n",
        "validation_df['tweet'] = validation_df['tweet'].apply(lambda txt: text_prepare(txt))\n",
        "\n",
        "\n",
        "print(f'[Debug train] After:\\n{training_df.tweet.values[50]}')\n",
        "print(f'[Debug test] After:\\n{test_df.tweet.values[50]}')\n",
        "print(f'[Debug validation] After:\\n{validation_df.tweet.values[50]}')\n",
        "print()\n",
        "\n",
        "print(\"Pre-processing completed!\")"
      ]
    },
    {
      "cell_type": "markdown",
      "metadata": {
        "id": "S8pMrdK86qk-"
      },
      "source": [
        "### 7. Perform lemmatization"
      ]
    },
    {
      "cell_type": "code",
      "execution_count": 29,
      "metadata": {
        "colab": {
          "base_uri": "https://localhost:8080/"
        },
        "id": "pniRR2yK8b74",
        "outputId": "c3c26c66-c65c-4ad7-8449-8d56189c0c6a"
      },
      "outputs": [
        {
          "name": "stderr",
          "output_type": "stream",
          "text": [
            "[nltk_data] Downloading package omw-1.4 to\n",
            "[nltk_data]     C:\\Users\\WIN11\\AppData\\Roaming\\nltk_data...\n",
            "[nltk_data]   Package omw-1.4 is already up-to-date!\n",
            "[nltk_data] Downloading package wordnet to\n",
            "[nltk_data]     C:\\Users\\WIN11\\AppData\\Roaming\\nltk_data...\n",
            "[nltk_data]   Package wordnet is already up-to-date!\n",
            "[nltk_data] Downloading package averaged_perceptron_tagger to\n",
            "[nltk_data]     C:\\Users\\WIN11\\AppData\\Roaming\\nltk_data...\n",
            "[nltk_data]   Package averaged_perceptron_tagger is already up-to-\n",
            "[nltk_data]       date!\n",
            "[nltk_data] Downloading package averaged_perceptron_tagger_eng to\n",
            "[nltk_data]     C:\\Users\\WIN11\\AppData\\Roaming\\nltk_data...\n",
            "[nltk_data]   Package averaged_perceptron_tagger_eng is already up-to-\n",
            "[nltk_data]       date!\n"
          ]
        }
      ],
      "source": [
        "#creating lemmatizer object\n",
        "import nltk\n",
        "from nltk.corpus import wordnet\n",
        "\n",
        "tokenizer = nltk.tokenize.WhitespaceTokenizer()\n",
        "\n",
        "nltk.download('omw-1.4')\n",
        "nltk.download('wordnet')\n",
        "nltk.download('averaged_perceptron_tagger')\n",
        "nltk.download('averaged_perceptron_tagger_eng')\n",
        "\n",
        "lemmatizer = nltk.WordNetLemmatizer()"
      ]
    },
    {
      "cell_type": "code",
      "execution_count": 30,
      "metadata": {
        "colab": {
          "base_uri": "https://localhost:8080/"
        },
        "id": "hgEtRZzw8gAM",
        "outputId": "5af20242-5196-408e-e64b-bb28d6b2db1c"
      },
      "outputs": [
        {
          "name": "stderr",
          "output_type": "stream",
          "text": [
            "100%|██████████| 2870/2870 [00:02<00:00, 1158.93it/s]\n",
            "100%|██████████| 286/286 [00:00<00:00, 2748.28it/s]\n",
            "100%|██████████| 158/158 [00:00<00:00, 2368.35it/s]\n"
          ]
        }
      ],
      "source": [
        "def get_wordnet_key(pos_tag):\n",
        "    if pos_tag.startswith('J'):\n",
        "        return wordnet.ADJ\n",
        "    elif pos_tag.startswith('V'):\n",
        "        return wordnet.VERB\n",
        "    elif pos_tag.startswith('N'):\n",
        "        return wordnet.NOUN\n",
        "    elif pos_tag.startswith('R'):\n",
        "        return wordnet.ADV\n",
        "    else:\n",
        "        return 'n'\n",
        "\n",
        "def lem_text(text: str):\n",
        "    tokens = tokenizer.tokenize(text)\n",
        "    tagged = nltk.pos_tag(tokens)\n",
        "    words = [lemmatizer.lemmatize(word, get_wordnet_key(tag)) for word, tag in tagged]\n",
        "    return \" \".join(words)\n",
        "\n",
        "training_df['tweet'] = [lem_text(text) for text in tqdm(training_df['tweet'], leave=True, position=0)]\n",
        "test_df['tweet'] = [lem_text(text) for text in tqdm(test_df['tweet'], leave=True, position=0)]\n",
        "validation_df['tweet'] = [lem_text(text) for text in tqdm(validation_df['tweet'], leave=True, position=0)]\n"
      ]
    },
    {
      "cell_type": "code",
      "execution_count": 31,
      "metadata": {
        "id": "RwczWZN885vG"
      },
      "outputs": [
        {
          "data": {
            "text/html": [
              "<div>\n",
              "<style scoped>\n",
              "    .dataframe tbody tr th:only-of-type {\n",
              "        vertical-align: middle;\n",
              "    }\n",
              "\n",
              "    .dataframe tbody tr th {\n",
              "        vertical-align: top;\n",
              "    }\n",
              "\n",
              "    .dataframe thead th {\n",
              "        text-align: right;\n",
              "    }\n",
              "</style>\n",
              "<table border=\"1\" class=\"dataframe\">\n",
              "  <thead>\n",
              "    <tr style=\"text-align: right;\">\n",
              "      <th></th>\n",
              "      <th>lang</th>\n",
              "      <th>tweet</th>\n",
              "      <th>hard_label_task1</th>\n",
              "    </tr>\n",
              "    <tr>\n",
              "      <th>id_EXIST</th>\n",
              "      <th></th>\n",
              "      <th></th>\n",
              "      <th></th>\n",
              "    </tr>\n",
              "  </thead>\n",
              "  <tbody>\n",
              "    <tr>\n",
              "      <th>200002</th>\n",
              "      <td>en</td>\n",
              "      <td>write a uni essay in my local pub with a coffe...</td>\n",
              "      <td>1</td>\n",
              "    </tr>\n",
              "    <tr>\n",
              "      <th>200003</th>\n",
              "      <td>en</td>\n",
              "      <td>it be 2021 not 1921. i dont appreciate that on...</td>\n",
              "      <td>1</td>\n",
              "    </tr>\n",
              "    <tr>\n",
              "      <th>200006</th>\n",
              "      <td>en</td>\n",
              "      <td>accord to a customer i have plenty of time to ...</td>\n",
              "      <td>1</td>\n",
              "    </tr>\n",
              "    <tr>\n",
              "      <th>200007</th>\n",
              "      <td>en</td>\n",
              "      <td>so only blokes drink beer? sorry but if you ar...</td>\n",
              "      <td>1</td>\n",
              "    </tr>\n",
              "    <tr>\n",
              "      <th>200008</th>\n",
              "      <td>en</td>\n",
              "      <td>new to the shelf this week - look forward to r...</td>\n",
              "      <td>0</td>\n",
              "    </tr>\n",
              "  </tbody>\n",
              "</table>\n",
              "</div>"
            ],
            "text/plain": [
              "         lang                                              tweet  \\\n",
              "id_EXIST                                                           \n",
              "200002     en  write a uni essay in my local pub with a coffe...   \n",
              "200003     en  it be 2021 not 1921. i dont appreciate that on...   \n",
              "200006     en  accord to a customer i have plenty of time to ...   \n",
              "200007     en  so only blokes drink beer? sorry but if you ar...   \n",
              "200008     en  new to the shelf this week - look forward to r...   \n",
              "\n",
              "          hard_label_task1  \n",
              "id_EXIST                    \n",
              "200002                   1  \n",
              "200003                   1  \n",
              "200006                   1  \n",
              "200007                   1  \n",
              "200008                   0  "
            ]
          },
          "execution_count": 31,
          "metadata": {},
          "output_type": "execute_result"
        }
      ],
      "source": [
        "training_df.head()"
      ]
    },
    {
      "cell_type": "code",
      "execution_count": 32,
      "metadata": {
        "id": "fkGDxYXV9ISg"
      },
      "outputs": [
        {
          "name": "stdout",
          "output_type": "stream",
          "text": [
            "[Debug] After:\n",
            "i get it.. kind of. 80% of woman be go after about 20% of men and ignore the rest accord to statistic of 3 date apps. so thats a pain point for some men but be hat woman really a main component to be an incel? and whats the difference between mgtow and incel?\n",
            "\n"
          ]
        }
      ],
      "source": [
        "print(f'[Debug] After:\\n{training_df.tweet.values[50]}')\n",
        "print()"
      ]
    },
    {
      "cell_type": "markdown",
      "metadata": {
        "id": "s3KylLHNl0bE"
      },
      "source": [
        "# [Task 3 - 0.5 points] Text Encoding\n",
        "To train a neural sexism classifier, you first need to encode text into numerical format.\n",
        "\n",
        "\n"
      ]
    },
    {
      "cell_type": "markdown",
      "metadata": {
        "id": "hr1lTHUVOXff"
      },
      "source": [
        "### Instructions\n",
        "\n",
        "* Embed words using **GloVe embeddings**.\n",
        "* You are **free** to pick any embedding dimension.\n",
        "\n",
        "\n",
        "\n"
      ]
    },
    {
      "cell_type": "markdown",
      "metadata": {
        "id": "r6NNMEjWOZQr"
      },
      "source": [
        "### Note : What about OOV tokens?\n",
        "   * All the tokens in the **training** set that are not in GloVe **must** be added to the vocabulary.\n",
        "   * For the remaining tokens (i.e., OOV in the validation and test sets), you have to assign them a **special token** (e.g., [UNK]) and a **static** embedding.\n",
        "   * You are **free** to define the static embedding using any strategy (e.g., random, neighbourhood, etc...)\n",
        "\n"
      ]
    },
    {
      "cell_type": "markdown",
      "metadata": {
        "id": "90UztlGUObXk"
      },
      "source": [
        "### More about OOV\n",
        "\n",
        "For a given token:\n",
        "\n",
        "* **If in train set**: add to vocabulary and assign an embedding (use GloVe if token in GloVe, custom embedding otherwise).\n",
        "* **If in val/test set**: assign special token if not in vocabulary and assign custom embedding.\n",
        "\n",
        "Your vocabulary **should**:\n",
        "\n",
        "* Contain all tokens in train set; or\n",
        "* Union of tokens in train set and in GloVe $\\rightarrow$ we make use of existing knowledge!"
      ]
    },
    {
      "cell_type": "code",
      "execution_count": 33,
      "metadata": {
        "id": "nAgr9-dS6n9_"
      },
      "outputs": [],
      "source": [
        "import gensim\n",
        "import gensim.downloader as gloader\n",
        "import gzip\n",
        "\n",
        "def load_embedding_model(model_type: str,\n",
        "                         return_path: bool,\n",
        "                         embedding_dimension: int = 50) -> gensim.models.keyedvectors.KeyedVectors:\n",
        "    \"\"\"\n",
        "    Loads a pre-trained word embedding model via gensim library.\n",
        "\n",
        "    :param model_type: name of the word embedding model to load.\n",
        "    :param embedding_dimension: size of the embedding space to consider\n",
        "\n",
        "    :return\n",
        "        - pre-trained word embedding model (gensim KeyedVectors object)\n",
        "    \"\"\"\n",
        "    download_path = \"\"\n",
        "    if model_type.strip().lower() == 'glove-twitter':\n",
        "        download_path = \"glove-twitter-{}\".format(embedding_dimension)\n",
        "\n",
        "    elif model_type.strip().lower() == 'glove-wiki-gigaword':\n",
        "        download_path = \"glove-wiki-gigaword-{}\".format(embedding_dimension)\n",
        "    else:\n",
        "        raise AttributeError(\"Unsupported embedding model type! Available ones: glove-wiki-gigaword, glove-twitter\")\n",
        "\n",
        "    try:\n",
        "        emb_model = gloader.load(download_path,return_path)\n",
        "    except ValueError as e:\n",
        "        print(\"Invalid embedding model name! Check the embedding dimension:\")\n",
        "        print(\"glove-twitter: 25, 50, 100, 200\")\n",
        "        print(\"glove-wiki-gigaword: 50, 100, 200, 300\")\n",
        "        raise e\n",
        "\n",
        "    return emb_model\n",
        "\n",
        "import gzip\n",
        "\n",
        "def from_txt_to_dictionary(glove_file_path):\n",
        "    embeddings = {}\n",
        "\n",
        "    with gzip.open(glove_file_path, 'rt', encoding='utf-8') as f:\n",
        "        for line in f:\n",
        "            # Split each line into word and its embedding\n",
        "            values = line.split()\n",
        "            word = values[0]\n",
        "            vector = list(map(float, values[1:]))\n",
        "            embeddings[word] = vector\n",
        "\n",
        "    return embeddings"
      ]
    },
    {
      "cell_type": "markdown",
      "metadata": {
        "id": "zflQ2UAfZ8Lb"
      },
      "source": [
        "Now we need to define the functions to build the vocabulary"
      ]
    },
    {
      "cell_type": "code",
      "execution_count": 34,
      "metadata": {
        "id": "bjAzyQhnaAKs"
      },
      "outputs": [],
      "source": [
        "# Initialize vocabulary with GloVe and custom embeddings\n",
        "def build_vocabulary(train_tokens, glove_embeddings, embedding_dim=50):\n",
        "    vocabulary = {}\n",
        "    for token in set(train_tokens):\n",
        "        if token in glove_embeddings:\n",
        "            vocabulary[token] = glove_embeddings[token]\n",
        "        else:\n",
        "            # Assign random vector for OOV tokens in the train set\n",
        "            vocabulary[token] = np.random.uniform(-0.5, 0.5, embedding_dim)\n",
        "    return vocabulary\n"
      ]
    },
    {
      "cell_type": "markdown",
      "metadata": {
        "id": "8oAfbGhnaGny"
      },
      "source": [
        "Then the embeddings from the text and the OOV case"
      ]
    },
    {
      "cell_type": "code",
      "execution_count": 35,
      "metadata": {
        "id": "QYWixyezaJhm"
      },
      "outputs": [],
      "source": [
        "# Define the [UNK] embedding as the average of all embeddings\n",
        "def define_unk_embedding(vocabulary):\n",
        "    return np.mean(list(vocabulary.values()), axis=0)\n",
        "\n",
        "# Convert tokens in text to embeddings\n",
        "def text_to_embeddings(text, vocabulary, unk_embedding):\n",
        "    embeddings = []\n",
        "    for token in text.split():\n",
        "        token = token.lower()\n",
        "        if token in vocabulary:\n",
        "            embeddings.append(vocabulary[token])\n",
        "        else:\n",
        "            embeddings.append(unk_embedding)  # Use [UNK] embedding for unknown tokens\n",
        "    return np.array(embeddings)"
      ]
    },
    {
      "cell_type": "code",
      "execution_count": 36,
      "metadata": {
        "id": "HWUe1cE-WoZU"
      },
      "outputs": [],
      "source": [
        "embedding_dim = 200\n",
        "glove_file_path=load_embedding_model('glove-twitter', return_path=True, embedding_dimension=embedding_dim)\n",
        "glove_embeddings=from_txt_to_dictionary(glove_file_path)"
      ]
    },
    {
      "cell_type": "code",
      "execution_count": 37,
      "metadata": {
        "id": "-qqNvkq7aVZI"
      },
      "outputs": [],
      "source": [
        "# Step 2: Tokenize and build vocabulary using only training tokens\n",
        "train_tokens = [word.lower() for tweet in training_df['tweet'] for word in tweet.split()]\n",
        "vocabulary = build_vocabulary(train_tokens, glove_embeddings, embedding_dim)\n",
        "\n",
        "# Step 3: Define [UNK] embedding\n",
        "unk_embedding = define_unk_embedding(vocabulary)\n",
        "\n",
        "# Step 4: Embed the 'tweet' column in each dataframe\n",
        "def embed_tweets(df, vocabulary, unk_embedding):\n",
        "    df['tweet_embedding'] = df['tweet'].apply(lambda tweet: text_to_embeddings(tweet, vocabulary, unk_embedding))\n",
        "    return df\n",
        "\n",
        "# Apply to each dataframe\n",
        "training_df = embed_tweets(training_df, vocabulary, unk_embedding)\n",
        "test_df = embed_tweets(test_df, vocabulary, unk_embedding)\n",
        "validation_df = embed_tweets(validation_df, vocabulary, unk_embedding)"
      ]
    },
    {
      "cell_type": "code",
      "execution_count": 38,
      "metadata": {
        "id": "rprLyOOHWtPN"
      },
      "outputs": [
        {
          "data": {
            "text/html": [
              "<div>\n",
              "<style scoped>\n",
              "    .dataframe tbody tr th:only-of-type {\n",
              "        vertical-align: middle;\n",
              "    }\n",
              "\n",
              "    .dataframe tbody tr th {\n",
              "        vertical-align: top;\n",
              "    }\n",
              "\n",
              "    .dataframe thead th {\n",
              "        text-align: right;\n",
              "    }\n",
              "</style>\n",
              "<table border=\"1\" class=\"dataframe\">\n",
              "  <thead>\n",
              "    <tr style=\"text-align: right;\">\n",
              "      <th></th>\n",
              "      <th>lang</th>\n",
              "      <th>tweet</th>\n",
              "      <th>hard_label_task1</th>\n",
              "      <th>tweet_embedding</th>\n",
              "    </tr>\n",
              "    <tr>\n",
              "      <th>id_EXIST</th>\n",
              "      <th></th>\n",
              "      <th></th>\n",
              "      <th></th>\n",
              "      <th></th>\n",
              "    </tr>\n",
              "  </thead>\n",
              "  <tbody>\n",
              "    <tr>\n",
              "      <th>200002</th>\n",
              "      <td>en</td>\n",
              "      <td>write a uni essay in my local pub with a coffe...</td>\n",
              "      <td>1</td>\n",
              "      <td>[[0.23606, 0.46571, 0.0091574, -0.022217, -0.4...</td>\n",
              "    </tr>\n",
              "    <tr>\n",
              "      <th>200003</th>\n",
              "      <td>en</td>\n",
              "      <td>it be 2021 not 1921. i dont appreciate that on...</td>\n",
              "      <td>1</td>\n",
              "      <td>[[-0.20397, 0.45338, -0.1684, 0.14302, -0.0948...</td>\n",
              "    </tr>\n",
              "    <tr>\n",
              "      <th>200006</th>\n",
              "      <td>en</td>\n",
              "      <td>accord to a customer i have plenty of time to ...</td>\n",
              "      <td>1</td>\n",
              "      <td>[[-0.078828, -0.13376, -0.50952, 0.46567, 0.04...</td>\n",
              "    </tr>\n",
              "    <tr>\n",
              "      <th>200007</th>\n",
              "      <td>en</td>\n",
              "      <td>so only blokes drink beer? sorry but if you ar...</td>\n",
              "      <td>1</td>\n",
              "      <td>[[0.12018, 0.038966, 0.027403, 0.16089, 0.1336...</td>\n",
              "    </tr>\n",
              "    <tr>\n",
              "      <th>200008</th>\n",
              "      <td>en</td>\n",
              "      <td>new to the shelf this week - look forward to r...</td>\n",
              "      <td>0</td>\n",
              "      <td>[[0.27554, 0.15505, -0.39506, 0.35, 0.018967, ...</td>\n",
              "    </tr>\n",
              "  </tbody>\n",
              "</table>\n",
              "</div>"
            ],
            "text/plain": [
              "         lang                                              tweet  \\\n",
              "id_EXIST                                                           \n",
              "200002     en  write a uni essay in my local pub with a coffe...   \n",
              "200003     en  it be 2021 not 1921. i dont appreciate that on...   \n",
              "200006     en  accord to a customer i have plenty of time to ...   \n",
              "200007     en  so only blokes drink beer? sorry but if you ar...   \n",
              "200008     en  new to the shelf this week - look forward to r...   \n",
              "\n",
              "          hard_label_task1                                    tweet_embedding  \n",
              "id_EXIST                                                                       \n",
              "200002                   1  [[0.23606, 0.46571, 0.0091574, -0.022217, -0.4...  \n",
              "200003                   1  [[-0.20397, 0.45338, -0.1684, 0.14302, -0.0948...  \n",
              "200006                   1  [[-0.078828, -0.13376, -0.50952, 0.46567, 0.04...  \n",
              "200007                   1  [[0.12018, 0.038966, 0.027403, 0.16089, 0.1336...  \n",
              "200008                   0  [[0.27554, 0.15505, -0.39506, 0.35, 0.018967, ...  "
            ]
          },
          "execution_count": 38,
          "metadata": {},
          "output_type": "execute_result"
        }
      ],
      "source": [
        "training_df.head()"
      ]
    },
    {
      "cell_type": "code",
      "execution_count": 39,
      "metadata": {
        "id": "IysrEkS1WttI"
      },
      "outputs": [
        {
          "data": {
            "text/html": [
              "<div>\n",
              "<style scoped>\n",
              "    .dataframe tbody tr th:only-of-type {\n",
              "        vertical-align: middle;\n",
              "    }\n",
              "\n",
              "    .dataframe tbody tr th {\n",
              "        vertical-align: top;\n",
              "    }\n",
              "\n",
              "    .dataframe thead th {\n",
              "        text-align: right;\n",
              "    }\n",
              "</style>\n",
              "<table border=\"1\" class=\"dataframe\">\n",
              "  <thead>\n",
              "    <tr style=\"text-align: right;\">\n",
              "      <th></th>\n",
              "      <th>lang</th>\n",
              "      <th>tweet</th>\n",
              "      <th>hard_label_task1</th>\n",
              "      <th>tweet_embedding</th>\n",
              "    </tr>\n",
              "    <tr>\n",
              "      <th>id_EXIST</th>\n",
              "      <th></th>\n",
              "      <th></th>\n",
              "      <th></th>\n",
              "      <th></th>\n",
              "    </tr>\n",
              "  </thead>\n",
              "  <tbody>\n",
              "    <tr>\n",
              "      <th>400001</th>\n",
              "      <td>en</td>\n",
              "      <td>you should smile more love. just pretend youre...</td>\n",
              "      <td>0</td>\n",
              "      <td>[[0.1964, 0.67153, 0.0062976, 0.25359, -0.4209...</td>\n",
              "    </tr>\n",
              "    <tr>\n",
              "      <th>400002</th>\n",
              "      <td>en</td>\n",
              "      <td>she be right but the push be all in the opposi...</td>\n",
              "      <td>1</td>\n",
              "      <td>[[-0.18295, 0.28614, 0.11604, 0.36726, 0.17055...</td>\n",
              "    </tr>\n",
              "    <tr>\n",
              "      <th>400003</th>\n",
              "      <td>en</td>\n",
              "      <td>some man move my suitcase in the overhead lugg...</td>\n",
              "      <td>1</td>\n",
              "      <td>[[0.00096193, -0.1576, -0.15985, 0.037884, 0.1...</td>\n",
              "    </tr>\n",
              "    <tr>\n",
              "      <th>400004</th>\n",
              "      <td>en</td>\n",
              "      <td>lol gamergate the go to boogieman maybe if the...</td>\n",
              "      <td>0</td>\n",
              "      <td>[[0.3043, -0.047127, 0.0067446, -0.070278, -0....</td>\n",
              "    </tr>\n",
              "    <tr>\n",
              "      <th>400005</th>\n",
              "      <td>en</td>\n",
              "      <td>to me this have the same negativity a gamergat...</td>\n",
              "      <td>0</td>\n",
              "      <td>[[0.61774, 0.21046, 0.52698, 0.20467, 0.257, -...</td>\n",
              "    </tr>\n",
              "  </tbody>\n",
              "</table>\n",
              "</div>"
            ],
            "text/plain": [
              "         lang                                              tweet  \\\n",
              "id_EXIST                                                           \n",
              "400001     en  you should smile more love. just pretend youre...   \n",
              "400002     en  she be right but the push be all in the opposi...   \n",
              "400003     en  some man move my suitcase in the overhead lugg...   \n",
              "400004     en  lol gamergate the go to boogieman maybe if the...   \n",
              "400005     en  to me this have the same negativity a gamergat...   \n",
              "\n",
              "          hard_label_task1                                    tweet_embedding  \n",
              "id_EXIST                                                                       \n",
              "400001                   0  [[0.1964, 0.67153, 0.0062976, 0.25359, -0.4209...  \n",
              "400002                   1  [[-0.18295, 0.28614, 0.11604, 0.36726, 0.17055...  \n",
              "400003                   1  [[0.00096193, -0.1576, -0.15985, 0.037884, 0.1...  \n",
              "400004                   0  [[0.3043, -0.047127, 0.0067446, -0.070278, -0....  \n",
              "400005                   0  [[0.61774, 0.21046, 0.52698, 0.20467, 0.257, -...  "
            ]
          },
          "execution_count": 39,
          "metadata": {},
          "output_type": "execute_result"
        }
      ],
      "source": [
        "validation_df.head()"
      ]
    },
    {
      "cell_type": "code",
      "execution_count": 40,
      "metadata": {
        "id": "LFJ-_m_TbJRa"
      },
      "outputs": [
        {
          "data": {
            "text/html": [
              "<div>\n",
              "<style scoped>\n",
              "    .dataframe tbody tr th:only-of-type {\n",
              "        vertical-align: middle;\n",
              "    }\n",
              "\n",
              "    .dataframe tbody tr th {\n",
              "        vertical-align: top;\n",
              "    }\n",
              "\n",
              "    .dataframe thead th {\n",
              "        text-align: right;\n",
              "    }\n",
              "</style>\n",
              "<table border=\"1\" class=\"dataframe\">\n",
              "  <thead>\n",
              "    <tr style=\"text-align: right;\">\n",
              "      <th></th>\n",
              "      <th>lang</th>\n",
              "      <th>tweet</th>\n",
              "      <th>hard_label_task1</th>\n",
              "      <th>tweet_embedding</th>\n",
              "    </tr>\n",
              "    <tr>\n",
              "      <th>id_EXIST</th>\n",
              "      <th></th>\n",
              "      <th></th>\n",
              "      <th></th>\n",
              "      <th></th>\n",
              "    </tr>\n",
              "  </thead>\n",
              "  <tbody>\n",
              "    <tr>\n",
              "      <th>400178</th>\n",
              "      <td>en</td>\n",
              "      <td>1st day at the pool on a beautiful sunday in n...</td>\n",
              "      <td>0</td>\n",
              "      <td>[[0.21283810643880363, -0.1415987484103488, 0....</td>\n",
              "    </tr>\n",
              "    <tr>\n",
              "      <th>400179</th>\n",
              "      <td>en</td>\n",
              "      <td>i like your outfit too except when i dress up ...</td>\n",
              "      <td>1</td>\n",
              "      <td>[[0.056404, 0.49536, 0.18439, 0.054535, -0.517...</td>\n",
              "    </tr>\n",
              "    <tr>\n",
              "      <th>400180</th>\n",
              "      <td>en</td>\n",
              "      <td>same though!!! the angst just come and goes. l...</td>\n",
              "      <td>0</td>\n",
              "      <td>[[0.48162, -0.080498, 0.089994, 0.794, 0.15886...</td>\n",
              "    </tr>\n",
              "    <tr>\n",
              "      <th>400181</th>\n",
              "      <td>en</td>\n",
              "      <td>fuck that cunt. try to vote her out multiple time</td>\n",
              "      <td>1</td>\n",
              "      <td>[[-0.20878, 0.16733, -0.0078498, 0.11349, -0.6...</td>\n",
              "    </tr>\n",
              "    <tr>\n",
              "      <th>400182</th>\n",
              "      <td>en</td>\n",
              "      <td>u gotta say some shit like ill fuck that cunt ...</td>\n",
              "      <td>1</td>\n",
              "      <td>[[0.38137, 0.36436, 0.25135, 0.13976, 0.026781...</td>\n",
              "    </tr>\n",
              "  </tbody>\n",
              "</table>\n",
              "</div>"
            ],
            "text/plain": [
              "         lang                                              tweet  \\\n",
              "id_EXIST                                                           \n",
              "400178     en  1st day at the pool on a beautiful sunday in n...   \n",
              "400179     en  i like your outfit too except when i dress up ...   \n",
              "400180     en  same though!!! the angst just come and goes. l...   \n",
              "400181     en  fuck that cunt. try to vote her out multiple time   \n",
              "400182     en  u gotta say some shit like ill fuck that cunt ...   \n",
              "\n",
              "          hard_label_task1                                    tweet_embedding  \n",
              "id_EXIST                                                                       \n",
              "400178                   0  [[0.21283810643880363, -0.1415987484103488, 0....  \n",
              "400179                   1  [[0.056404, 0.49536, 0.18439, 0.054535, -0.517...  \n",
              "400180                   0  [[0.48162, -0.080498, 0.089994, 0.794, 0.15886...  \n",
              "400181                   1  [[-0.20878, 0.16733, -0.0078498, 0.11349, -0.6...  \n",
              "400182                   1  [[0.38137, 0.36436, 0.25135, 0.13976, 0.026781...  "
            ]
          },
          "execution_count": 40,
          "metadata": {},
          "output_type": "execute_result"
        }
      ],
      "source": [
        "test_df.head()"
      ]
    },
    {
      "cell_type": "markdown",
      "metadata": {
        "id": "6JLnuLGHGAUT"
      },
      "source": [
        "# [Task 4 - 1.0 points] Model definition\n",
        "\n",
        "You are now tasked to define your sexism classifier.\n",
        "\n",
        "\n"
      ]
    },
    {
      "cell_type": "markdown",
      "metadata": {
        "id": "iQFI9J-JOfXD"
      },
      "source": [
        "### Instructions\n",
        "\n",
        "* **Baseline**: implement a Bidirectional LSTM with a Dense layer on top.\n",
        "* You are **free** to experiment with hyper-parameters to define the baseline model.\n",
        "\n",
        "* **Model 1**: add an additional LSTM layer to the Baseline model."
      ]
    },
    {
      "cell_type": "markdown",
      "metadata": {
        "id": "4jALc_qYGS2E"
      },
      "source": [
        "### Token to embedding mapping\n",
        "\n",
        "You can follow two approaches for encoding tokens in your classifier.\n",
        "\n",
        "### Work directly with embeddings\n",
        "\n",
        "- Compute the embedding of each input token\n",
        "- Feed the mini-batches of shape (batch_size, # tokens, embedding_dim) to your model\n",
        "\n",
        "### Work with Embedding layer\n",
        "\n",
        "- Encode input tokens to token ids\n",
        "- Define a Embedding layer as the first layer of your model\n",
        "- Compute the embedding matrix of all known tokens (i.e., tokens in your vocabulary)\n",
        "- Initialize the Embedding layer with the computed embedding matrix\n",
        "- You are **free** to set the Embedding layer trainable or not"
      ]
    },
    {
      "cell_type": "code",
      "execution_count": 41,
      "metadata": {
        "id": "zGUXH2_8gZlE"
      },
      "outputs": [],
      "source": [
        "import tensorflow as tf"
      ]
    },
    {
      "cell_type": "code",
      "execution_count": 42,
      "metadata": {
        "id": "Z44PckrNGfTv"
      },
      "outputs": [],
      "source": [
        "vocab_size = len(vocabulary)\n",
        "embedding_dimension = embedding_dim\n",
        "embedding_matrix = embedding_matrix = np.array(list(vocabulary.values()))\n",
        "embedding = tf.keras.layers.Embedding(input_dim=vocab_size,\n",
        "                                      output_dim=embedding_dimension,\n",
        "                                      weights=[embedding_matrix],\n",
        "                                      mask_zero=True,                   # automatically masks padding tokens\n",
        "                                      name='encoder_embedding')"
      ]
    },
    {
      "cell_type": "markdown",
      "metadata": {
        "id": "GEQTPu6eGgGv"
      },
      "source": [
        "### Padding\n",
        "\n",
        "Pay attention to padding tokens!\n",
        "\n",
        "Your model **should not** be penalized on those tokens.\n",
        "\n",
        "#### How to?\n",
        "\n",
        "There are two main ways.\n",
        "\n",
        "However, their implementation depends on the neural library you are using.\n",
        "\n",
        "- Embedding layer\n",
        "- Custom loss to compute average cross-entropy on non-padding tokens only\n",
        "\n",
        "**Note**: This is a **recommendation**, but we **do not penalize** for missing workarounds."
      ]
    },
    {
      "cell_type": "code",
      "execution_count": 43,
      "metadata": {
        "id": "KJf7rKTdqZeC"
      },
      "outputs": [],
      "source": [
        "from tensorflow.keras.preprocessing.sequence import pad_sequences\n",
        "import numpy as np\n",
        "\n",
        "# Ensure that each tweet embedding is padded to a consistent length\n",
        "sequence_length = 100  # Define based on your needs or average embedding length in data\n",
        "\n",
        "# Apply padding directly on the tweet_embedding column\n",
        "X_train = pad_sequences(training_df['tweet_embedding'].tolist(), maxlen=sequence_length, dtype='float32', padding='post', truncating='post')\n",
        "X_val = pad_sequences(validation_df['tweet_embedding'].tolist(), maxlen=sequence_length, dtype='float32', padding='post', truncating='post')\n",
        "\n",
        "# Convert labels to numpy arrays\n",
        "y_train = training_df['hard_label_task1'].values\n",
        "y_val = validation_df['hard_label_task1'].values\n"
      ]
    },
    {
      "cell_type": "code",
      "execution_count": 44,
      "metadata": {
        "id": "JR3dt9-nqwmM"
      },
      "outputs": [],
      "source": [
        "from tensorflow.keras.models import Sequential\n",
        "from tensorflow.keras.layers import LSTM, Dense, Bidirectional, TimeDistributed\n",
        "\n",
        "'''\n",
        "REMEMBER: YOU SHOULD WRAP THE DENSE LAYER WITH TIMEDISTRIBUTED BUT I'M NOT FIGURING OUT HOW TO FIX THE SHAPE PROBLEMS DHN\n",
        "'''\n",
        "def create_baseline_model(input_shape, lstm_units=128):\n",
        "    model = Sequential()\n",
        "    model.add(Bidirectional(LSTM(units=lstm_units, return_sequences=False), input_shape=input_shape))\n",
        "    model.add(Dense(1, activation='sigmoid'))  # Sigmoid for binary classification\n",
        "    return model\n"
      ]
    },
    {
      "cell_type": "code",
      "execution_count": 45,
      "metadata": {
        "id": "OWtAh8ZKqxJK"
      },
      "outputs": [],
      "source": [
        "'''\n",
        "REMEMBER: YOU SHOULD WRAP THE DENSE LAYER WITH TIMEDISTRIBUTED BUT I'M NOT FIGURING OUT HOW TO FIX THE SHAPE PROBLEMS DHN\n",
        "'''\n",
        "\n",
        "def create_model_1(input_shape, lstm_units=128):\n",
        "    model = Sequential()\n",
        "    model.add(Bidirectional(LSTM(units=lstm_units, return_sequences=True), input_shape=input_shape))  # First LSTM layer\n",
        "    model.add(Bidirectional(LSTM(units=lstm_units, return_sequences=False)))  # Second LSTM layer\n",
        "    model.add(Dense(1, activation='sigmoid'))\n",
        "    return model\n"
      ]
    },
    {
      "cell_type": "markdown",
      "metadata": {
        "id": "EFjBgdiRG3wD"
      },
      "source": [
        "# [Task 5 - 1.0 points] Training and Evaluation\n",
        "\n",
        "You are now tasked to train and evaluate the Baseline and Model 1.\n"
      ]
    },
    {
      "cell_type": "markdown",
      "metadata": {
        "id": "TWPK4umGOjtT"
      },
      "source": [
        "\n",
        "### Instructions\n",
        "\n",
        "* Train **all** models on the train set.\n",
        "* Evaluate **all** models on the validation set.\n",
        "* Compute metrics on the validation set.\n",
        "* Pick **at least** three seeds for robust estimation.\n",
        "* Pick the **best** performing model according to the observed validation set performance.\n",
        "* Evaluate your models using macro F1-score."
      ]
    },
    {
      "cell_type": "code",
      "execution_count": 46,
      "metadata": {
        "id": "wSShowXXpMUT"
      },
      "outputs": [],
      "source": [
        "from sklearn.metrics import f1_score\n",
        "from tensorflow.keras.callbacks import Callback, EarlyStopping\n",
        "import numpy as np\n",
        "\n",
        "# Custom Callback to compute F1-score\n",
        "class F1ScoreCallback(Callback):\n",
        "    def __init__(self, val_data):\n",
        "        self.val_data = val_data\n",
        "\n",
        "    def on_epoch_end(self, epoch, logs=None):\n",
        "        val_x, val_y = self.val_data\n",
        "        val_predictions = (self.model.predict(val_x) > 0.5).astype(int)  # Binarize predictions\n",
        "        f1 = f1_score(val_y, val_predictions, average=\"macro\")\n",
        "        print(f\"Epoch {epoch + 1}: Macro F1-Score = {f1:.4f}\")\n",
        "        logs['val_f1'] = f1  # Add F1 to logs for history tracking\n",
        "\n",
        "# Early stopping to avoid overfitting\n",
        "early_stopping = EarlyStopping(monitor='val_loss', patience=10, restore_best_weights=True)\n",
        "\n"
      ]
    },
    {
      "cell_type": "code",
      "execution_count": 47,
      "metadata": {
        "id": "q53Q9CHdr8Sx"
      },
      "outputs": [],
      "source": [
        "input_shape = (sequence_length, X_train.shape[2])  # Shape of each input sample: (sequence_length, embedding_dim)"
      ]
    },
    {
      "cell_type": "markdown",
      "metadata": {
        "id": "ir9nPtDptuVr"
      },
      "source": [
        "#### Training with random seed"
      ]
    },
    {
      "cell_type": "code",
      "execution_count": 48,
      "metadata": {
        "id": "6crRCWn0tlxy"
      },
      "outputs": [],
      "source": [
        "import tensorflow as tf\n",
        "import numpy as np\n",
        "import random\n",
        "\n",
        "def set_seeds(seed):\n",
        "    tf.random.set_seed(seed)\n",
        "    np.random.seed(seed)\n",
        "    random.seed(seed)\n"
      ]
    },
    {
      "cell_type": "code",
      "execution_count": 49,
      "metadata": {
        "id": "0NWn8EjhJNFy"
      },
      "outputs": [],
      "source": [
        "from sklearn.metrics import classification_report"
      ]
    },
    {
      "cell_type": "code",
      "execution_count": 50,
      "metadata": {
        "id": "1hqamc1ztp0E"
      },
      "outputs": [
        {
          "name": "stdout",
          "output_type": "stream",
          "text": [
            "Training with seed 42\n"
          ]
        },
        {
          "name": "stderr",
          "output_type": "stream",
          "text": [
            "C:\\Users\\WIN11\\AppData\\Local\\Packages\\PythonSoftwareFoundation.Python.3.11_qbz5n2kfra8p0\\LocalCache\\local-packages\\Python311\\site-packages\\keras\\src\\layers\\rnn\\bidirectional.py:107: UserWarning: Do not pass an `input_shape`/`input_dim` argument to a layer. When using Sequential models, prefer using an `Input(shape)` object as the first layer in the model instead.\n",
            "  super().__init__(**kwargs)\n"
          ]
        },
        {
          "name": "stdout",
          "output_type": "stream",
          "text": [
            "\u001b[1m5/5\u001b[0m \u001b[32m━━━━━━━━━━━━━━━━━━━━\u001b[0m\u001b[37m\u001b[0m \u001b[1m0s\u001b[0m 39ms/step\n",
            "Epoch 1: Macro F1-Score = 0.7350\n",
            "\u001b[1m5/5\u001b[0m \u001b[32m━━━━━━━━━━━━━━━━━━━━\u001b[0m\u001b[37m\u001b[0m \u001b[1m0s\u001b[0m 12ms/step\n",
            "Epoch 2: Macro F1-Score = 0.7776\n",
            "\u001b[1m5/5\u001b[0m \u001b[32m━━━━━━━━━━━━━━━━━━━━\u001b[0m\u001b[37m\u001b[0m \u001b[1m0s\u001b[0m 8ms/step \n",
            "Epoch 3: Macro F1-Score = 0.7790\n",
            "\u001b[1m5/5\u001b[0m \u001b[32m━━━━━━━━━━━━━━━━━━━━\u001b[0m\u001b[37m\u001b[0m \u001b[1m0s\u001b[0m 13ms/step\n",
            "Epoch 4: Macro F1-Score = 0.7864\n",
            "\u001b[1m5/5\u001b[0m \u001b[32m━━━━━━━━━━━━━━━━━━━━\u001b[0m\u001b[37m\u001b[0m \u001b[1m0s\u001b[0m 12ms/step\n",
            "Epoch 5: Macro F1-Score = 0.8131\n",
            "\u001b[1m5/5\u001b[0m \u001b[32m━━━━━━━━━━━━━━━━━━━━\u001b[0m\u001b[37m\u001b[0m \u001b[1m0s\u001b[0m 7ms/step \n",
            "Epoch 6: Macro F1-Score = 0.7684\n",
            "\u001b[1m5/5\u001b[0m \u001b[32m━━━━━━━━━━━━━━━━━━━━\u001b[0m\u001b[37m\u001b[0m \u001b[1m0s\u001b[0m 8ms/step \n",
            "Epoch 7: Macro F1-Score = 0.7911\n",
            "\u001b[1m5/5\u001b[0m \u001b[32m━━━━━━━━━━━━━━━━━━━━\u001b[0m\u001b[37m\u001b[0m \u001b[1m0s\u001b[0m 8ms/step \n",
            "Epoch 8: Macro F1-Score = 0.8003\n",
            "\u001b[1m5/5\u001b[0m \u001b[32m━━━━━━━━━━━━━━━━━━━━\u001b[0m\u001b[37m\u001b[0m \u001b[1m0s\u001b[0m 13ms/step\n",
            "Epoch 9: Macro F1-Score = 0.8253\n",
            "\u001b[1m5/5\u001b[0m \u001b[32m━━━━━━━━━━━━━━━━━━━━\u001b[0m\u001b[37m\u001b[0m \u001b[1m0s\u001b[0m 6ms/step \n",
            "Epoch 10: Macro F1-Score = 0.8192\n",
            "\u001b[1m5/5\u001b[0m \u001b[32m━━━━━━━━━━━━━━━━━━━━\u001b[0m\u001b[37m\u001b[0m \u001b[1m0s\u001b[0m 9ms/step \n",
            "Seed 42 - Macro F1-Score: 0.8192\n",
            "Training with seed 123\n"
          ]
        },
        {
          "name": "stderr",
          "output_type": "stream",
          "text": [
            "C:\\Users\\WIN11\\AppData\\Local\\Packages\\PythonSoftwareFoundation.Python.3.11_qbz5n2kfra8p0\\LocalCache\\local-packages\\Python311\\site-packages\\keras\\src\\layers\\rnn\\bidirectional.py:107: UserWarning: Do not pass an `input_shape`/`input_dim` argument to a layer. When using Sequential models, prefer using an `Input(shape)` object as the first layer in the model instead.\n",
            "  super().__init__(**kwargs)\n"
          ]
        },
        {
          "name": "stdout",
          "output_type": "stream",
          "text": [
            "\u001b[1m5/5\u001b[0m \u001b[32m━━━━━━━━━━━━━━━━━━━━\u001b[0m\u001b[37m\u001b[0m \u001b[1m0s\u001b[0m 42ms/step\n",
            "Epoch 1: Macro F1-Score = 0.6960\n",
            "\u001b[1m5/5\u001b[0m \u001b[32m━━━━━━━━━━━━━━━━━━━━\u001b[0m\u001b[37m\u001b[0m \u001b[1m0s\u001b[0m 9ms/step \n",
            "Epoch 2: Macro F1-Score = 0.7269\n",
            "\u001b[1m5/5\u001b[0m \u001b[32m━━━━━━━━━━━━━━━━━━━━\u001b[0m\u001b[37m\u001b[0m \u001b[1m0s\u001b[0m 9ms/step \n",
            "Epoch 3: Macro F1-Score = 0.7667\n",
            "\u001b[1m5/5\u001b[0m \u001b[32m━━━━━━━━━━━━━━━━━━━━\u001b[0m\u001b[37m\u001b[0m \u001b[1m0s\u001b[0m 8ms/step \n",
            "Epoch 4: Macro F1-Score = 0.7881\n",
            "\u001b[1m5/5\u001b[0m \u001b[32m━━━━━━━━━━━━━━━━━━━━\u001b[0m\u001b[37m\u001b[0m \u001b[1m0s\u001b[0m 11ms/step\n",
            "Epoch 5: Macro F1-Score = 0.7959\n",
            "\u001b[1m5/5\u001b[0m \u001b[32m━━━━━━━━━━━━━━━━━━━━\u001b[0m\u001b[37m\u001b[0m \u001b[1m0s\u001b[0m 8ms/step \n",
            "Epoch 6: Macro F1-Score = 0.7925\n",
            "\u001b[1m5/5\u001b[0m \u001b[32m━━━━━━━━━━━━━━━━━━━━\u001b[0m\u001b[37m\u001b[0m \u001b[1m0s\u001b[0m 8ms/step \n",
            "Epoch 7: Macro F1-Score = 0.8070\n",
            "\u001b[1m5/5\u001b[0m \u001b[32m━━━━━━━━━━━━━━━━━━━━\u001b[0m\u001b[37m\u001b[0m \u001b[1m0s\u001b[0m 8ms/step \n",
            "Epoch 8: Macro F1-Score = 0.7997\n",
            "\u001b[1m5/5\u001b[0m \u001b[32m━━━━━━━━━━━━━━━━━━━━\u001b[0m\u001b[37m\u001b[0m \u001b[1m0s\u001b[0m 8ms/step \n",
            "Epoch 9: Macro F1-Score = 0.8018\n",
            "\u001b[1m5/5\u001b[0m \u001b[32m━━━━━━━━━━━━━━━━━━━━\u001b[0m\u001b[37m\u001b[0m \u001b[1m0s\u001b[0m 12ms/step\n",
            "Epoch 10: Macro F1-Score = 0.7716\n",
            "\u001b[1m5/5\u001b[0m \u001b[32m━━━━━━━━━━━━━━━━━━━━\u001b[0m\u001b[37m\u001b[0m \u001b[1m0s\u001b[0m 12ms/step\n",
            "Seed 123 - Macro F1-Score: 0.7716\n",
            "Training with seed 789\n"
          ]
        },
        {
          "name": "stderr",
          "output_type": "stream",
          "text": [
            "C:\\Users\\WIN11\\AppData\\Local\\Packages\\PythonSoftwareFoundation.Python.3.11_qbz5n2kfra8p0\\LocalCache\\local-packages\\Python311\\site-packages\\keras\\src\\layers\\rnn\\bidirectional.py:107: UserWarning: Do not pass an `input_shape`/`input_dim` argument to a layer. When using Sequential models, prefer using an `Input(shape)` object as the first layer in the model instead.\n",
            "  super().__init__(**kwargs)\n"
          ]
        },
        {
          "name": "stdout",
          "output_type": "stream",
          "text": [
            "\u001b[1m5/5\u001b[0m \u001b[32m━━━━━━━━━━━━━━━━━━━━\u001b[0m\u001b[37m\u001b[0m \u001b[1m0s\u001b[0m 42ms/step\n",
            "Epoch 1: Macro F1-Score = 0.7255\n",
            "\u001b[1m5/5\u001b[0m \u001b[32m━━━━━━━━━━━━━━━━━━━━\u001b[0m\u001b[37m\u001b[0m \u001b[1m0s\u001b[0m 13ms/step\n",
            "Epoch 2: Macro F1-Score = 0.7431\n",
            "\u001b[1m5/5\u001b[0m \u001b[32m━━━━━━━━━━━━━━━━━━━━\u001b[0m\u001b[37m\u001b[0m \u001b[1m0s\u001b[0m 13ms/step\n",
            "Epoch 3: Macro F1-Score = 0.7806\n",
            "\u001b[1m5/5\u001b[0m \u001b[32m━━━━━━━━━━━━━━━━━━━━\u001b[0m\u001b[37m\u001b[0m \u001b[1m0s\u001b[0m 8ms/step \n",
            "Epoch 4: Macro F1-Score = 0.7649\n",
            "\u001b[1m5/5\u001b[0m \u001b[32m━━━━━━━━━━━━━━━━━━━━\u001b[0m\u001b[37m\u001b[0m \u001b[1m0s\u001b[0m 9ms/step \n",
            "Epoch 5: Macro F1-Score = 0.7985\n",
            "\u001b[1m5/5\u001b[0m \u001b[32m━━━━━━━━━━━━━━━━━━━━\u001b[0m\u001b[37m\u001b[0m \u001b[1m0s\u001b[0m 13ms/step\n",
            "Epoch 6: Macro F1-Score = 0.7761\n",
            "\u001b[1m5/5\u001b[0m \u001b[32m━━━━━━━━━━━━━━━━━━━━\u001b[0m\u001b[37m\u001b[0m \u001b[1m0s\u001b[0m 9ms/step \n",
            "Epoch 7: Macro F1-Score = 0.7896\n",
            "\u001b[1m5/5\u001b[0m \u001b[32m━━━━━━━━━━━━━━━━━━━━\u001b[0m\u001b[37m\u001b[0m \u001b[1m0s\u001b[0m 12ms/step\n",
            "Epoch 8: Macro F1-Score = 0.7769\n",
            "\u001b[1m5/5\u001b[0m \u001b[32m━━━━━━━━━━━━━━━━━━━━\u001b[0m\u001b[37m\u001b[0m \u001b[1m0s\u001b[0m 8ms/step \n",
            "Epoch 9: Macro F1-Score = 0.7597\n",
            "\u001b[1m5/5\u001b[0m \u001b[32m━━━━━━━━━━━━━━━━━━━━\u001b[0m\u001b[37m\u001b[0m \u001b[1m0s\u001b[0m 13ms/step\n",
            "Epoch 10: Macro F1-Score = 0.8058\n",
            "\u001b[1m5/5\u001b[0m \u001b[32m━━━━━━━━━━━━━━━━━━━━\u001b[0m\u001b[37m\u001b[0m \u001b[1m0s\u001b[0m 13ms/step\n",
            "Seed 789 - Macro F1-Score: 0.8058\n"
          ]
        }
      ],
      "source": [
        "seeds = [42, 123, 789]  # Example seeds\n",
        "baseline_f1_scores = []\n",
        "model_1_f1_scores = []\n",
        "\n",
        "for seed in seeds:\n",
        "    print(f\"Training with seed {seed}\")\n",
        "    set_seeds(seed)\n",
        "\n",
        "    # Create and compile the baseline model\n",
        "    baseline_model = create_baseline_model(input_shape=input_shape, lstm_units=128)\n",
        "    baseline_model.compile(optimizer='adam', loss='binary_crossentropy', metrics=['accuracy'])\n",
        "\n",
        "    f1_callback = F1ScoreCallback(val_data=(X_val, y_val))\n",
        "    # Train the model\n",
        "    baseline_model.fit(X_train, y_train, validation_data=(X_val, y_val), epochs=10, batch_size=32, callbacks=[f1_callback], verbose=0)\n",
        "\n",
        "    # Evaluate on validation set\n",
        "    val_predictions = (baseline_model.predict(X_val) > 0.5).astype(int)\n",
        "    macro_f1 = f1_score(y_val, val_predictions, average='macro')\n",
        "    baseline_f1_scores.append(macro_f1)\n",
        "    print(f\"Seed {seed} - Macro F1-Score: {macro_f1:.4f}\")\n",
        "\n",
        "    #print(classification_report(y_val, val_predictions, target_names=['Not Sexist', 'Sexist']))\n"
      ]
    },
    {
      "cell_type": "code",
      "execution_count": 51,
      "metadata": {
        "id": "Jv-HjBByBYVZ"
      },
      "outputs": [
        {
          "name": "stdout",
          "output_type": "stream",
          "text": [
            "Training with seed 42\n"
          ]
        },
        {
          "name": "stderr",
          "output_type": "stream",
          "text": [
            "C:\\Users\\WIN11\\AppData\\Local\\Packages\\PythonSoftwareFoundation.Python.3.11_qbz5n2kfra8p0\\LocalCache\\local-packages\\Python311\\site-packages\\keras\\src\\layers\\rnn\\bidirectional.py:107: UserWarning: Do not pass an `input_shape`/`input_dim` argument to a layer. When using Sequential models, prefer using an `Input(shape)` object as the first layer in the model instead.\n",
            "  super().__init__(**kwargs)\n"
          ]
        },
        {
          "name": "stdout",
          "output_type": "stream",
          "text": [
            "\u001b[1m5/5\u001b[0m \u001b[32m━━━━━━━━━━━━━━━━━━━━\u001b[0m\u001b[37m\u001b[0m \u001b[1m1s\u001b[0m 77ms/step\n",
            "Epoch 1: Macro F1-Score = 0.7372\n",
            "\u001b[1m5/5\u001b[0m \u001b[32m━━━━━━━━━━━━━━━━━━━━\u001b[0m\u001b[37m\u001b[0m \u001b[1m0s\u001b[0m 17ms/step\n",
            "Epoch 2: Macro F1-Score = 0.7761\n",
            "\u001b[1m5/5\u001b[0m \u001b[32m━━━━━━━━━━━━━━━━━━━━\u001b[0m\u001b[37m\u001b[0m \u001b[1m0s\u001b[0m 17ms/step\n",
            "Epoch 3: Macro F1-Score = 0.7911\n",
            "\u001b[1m5/5\u001b[0m \u001b[32m━━━━━━━━━━━━━━━━━━━━\u001b[0m\u001b[37m\u001b[0m \u001b[1m0s\u001b[0m 18ms/step\n",
            "Epoch 4: Macro F1-Score = 0.7896\n",
            "\u001b[1m5/5\u001b[0m \u001b[32m━━━━━━━━━━━━━━━━━━━━\u001b[0m\u001b[37m\u001b[0m \u001b[1m0s\u001b[0m 17ms/step\n",
            "Epoch 5: Macro F1-Score = 0.8180\n",
            "\u001b[1m5/5\u001b[0m \u001b[32m━━━━━━━━━━━━━━━━━━━━\u001b[0m\u001b[37m\u001b[0m \u001b[1m0s\u001b[0m 21ms/step\n",
            "Epoch 6: Macro F1-Score = 0.8119\n",
            "\u001b[1m5/5\u001b[0m \u001b[32m━━━━━━━━━━━━━━━━━━━━\u001b[0m\u001b[37m\u001b[0m \u001b[1m0s\u001b[0m 18ms/step\n",
            "Epoch 7: Macro F1-Score = 0.7756\n",
            "\u001b[1m5/5\u001b[0m \u001b[32m━━━━━━━━━━━━━━━━━━━━\u001b[0m\u001b[37m\u001b[0m \u001b[1m0s\u001b[0m 18ms/step\n",
            "Epoch 8: Macro F1-Score = 0.7858\n",
            "\u001b[1m5/5\u001b[0m \u001b[32m━━━━━━━━━━━━━━━━━━━━\u001b[0m\u001b[37m\u001b[0m \u001b[1m0s\u001b[0m 18ms/step\n",
            "Epoch 9: Macro F1-Score = 0.7776\n",
            "\u001b[1m5/5\u001b[0m \u001b[32m━━━━━━━━━━━━━━━━━━━━\u001b[0m\u001b[37m\u001b[0m \u001b[1m0s\u001b[0m 14ms/step\n",
            "Epoch 10: Macro F1-Score = 0.7641\n",
            "\u001b[1m5/5\u001b[0m \u001b[32m━━━━━━━━━━━━━━━━━━━━\u001b[0m\u001b[37m\u001b[0m \u001b[1m0s\u001b[0m 25ms/step\n",
            "Seed 42 - Macro F1-Score: 0.8058\n",
            "              precision    recall  f1-score   support\n",
            "\n",
            "  Not Sexist       0.79      0.92      0.85        90\n",
            "      Sexist       0.87      0.68      0.76        68\n",
            "\n",
            "    accuracy                           0.82       158\n",
            "   macro avg       0.83      0.80      0.81       158\n",
            "weighted avg       0.82      0.82      0.81       158\n",
            "\n",
            "Training with seed 123\n"
          ]
        },
        {
          "name": "stderr",
          "output_type": "stream",
          "text": [
            "C:\\Users\\WIN11\\AppData\\Local\\Packages\\PythonSoftwareFoundation.Python.3.11_qbz5n2kfra8p0\\LocalCache\\local-packages\\Python311\\site-packages\\keras\\src\\layers\\rnn\\bidirectional.py:107: UserWarning: Do not pass an `input_shape`/`input_dim` argument to a layer. When using Sequential models, prefer using an `Input(shape)` object as the first layer in the model instead.\n",
            "  super().__init__(**kwargs)\n"
          ]
        },
        {
          "name": "stdout",
          "output_type": "stream",
          "text": [
            "\u001b[1m5/5\u001b[0m \u001b[32m━━━━━━━━━━━━━━━━━━━━\u001b[0m\u001b[37m\u001b[0m \u001b[1m1s\u001b[0m 75ms/step\n",
            "Epoch 1: Macro F1-Score = 0.7245\n",
            "\u001b[1m5/5\u001b[0m \u001b[32m━━━━━━━━━━━━━━━━━━━━\u001b[0m\u001b[37m\u001b[0m \u001b[1m0s\u001b[0m 17ms/step\n",
            "Epoch 2: Macro F1-Score = 0.6871\n",
            "\u001b[1m5/5\u001b[0m \u001b[32m━━━━━━━━━━━━━━━━━━━━\u001b[0m\u001b[37m\u001b[0m \u001b[1m0s\u001b[0m 19ms/step\n",
            "Epoch 3: Macro F1-Score = 0.7129\n",
            "\u001b[1m5/5\u001b[0m \u001b[32m━━━━━━━━━━━━━━━━━━━━\u001b[0m\u001b[37m\u001b[0m \u001b[1m0s\u001b[0m 17ms/step\n",
            "Epoch 4: Macro F1-Score = 0.7850\n",
            "\u001b[1m5/5\u001b[0m \u001b[32m━━━━━━━━━━━━━━━━━━━━\u001b[0m\u001b[37m\u001b[0m \u001b[1m0s\u001b[0m 18ms/step\n",
            "Epoch 5: Macro F1-Score = 0.7649\n",
            "\u001b[1m5/5\u001b[0m \u001b[32m━━━━━━━━━━━━━━━━━━━━\u001b[0m\u001b[37m\u001b[0m \u001b[1m0s\u001b[0m 20ms/step\n",
            "Epoch 6: Macro F1-Score = 0.7876\n",
            "\u001b[1m5/5\u001b[0m \u001b[32m━━━━━━━━━━━━━━━━━━━━\u001b[0m\u001b[37m\u001b[0m \u001b[1m0s\u001b[0m 17ms/step\n",
            "Epoch 7: Macro F1-Score = 0.7489\n",
            "\u001b[1m5/5\u001b[0m \u001b[32m━━━━━━━━━━━━━━━━━━━━\u001b[0m\u001b[37m\u001b[0m \u001b[1m0s\u001b[0m 17ms/step\n",
            "Epoch 8: Macro F1-Score = 0.7530\n",
            "\u001b[1m5/5\u001b[0m \u001b[32m━━━━━━━━━━━━━━━━━━━━\u001b[0m\u001b[37m\u001b[0m \u001b[1m0s\u001b[0m 18ms/step\n",
            "Epoch 9: Macro F1-Score = 0.8152\n",
            "\u001b[1m5/5\u001b[0m \u001b[32m━━━━━━━━━━━━━━━━━━━━\u001b[0m\u001b[37m\u001b[0m \u001b[1m0s\u001b[0m 17ms/step\n",
            "Epoch 10: Macro F1-Score = 0.8056\n",
            "\u001b[1m5/5\u001b[0m \u001b[32m━━━━━━━━━━━━━━━━━━━━\u001b[0m\u001b[37m\u001b[0m \u001b[1m0s\u001b[0m 25ms/step\n",
            "Seed 123 - Macro F1-Score: 0.8058\n",
            "              precision    recall  f1-score   support\n",
            "\n",
            "  Not Sexist       0.79      0.92      0.85        90\n",
            "      Sexist       0.87      0.68      0.76        68\n",
            "\n",
            "    accuracy                           0.82       158\n",
            "   macro avg       0.83      0.80      0.81       158\n",
            "weighted avg       0.82      0.82      0.81       158\n",
            "\n",
            "Training with seed 789\n"
          ]
        },
        {
          "name": "stderr",
          "output_type": "stream",
          "text": [
            "C:\\Users\\WIN11\\AppData\\Local\\Packages\\PythonSoftwareFoundation.Python.3.11_qbz5n2kfra8p0\\LocalCache\\local-packages\\Python311\\site-packages\\keras\\src\\layers\\rnn\\bidirectional.py:107: UserWarning: Do not pass an `input_shape`/`input_dim` argument to a layer. When using Sequential models, prefer using an `Input(shape)` object as the first layer in the model instead.\n",
            "  super().__init__(**kwargs)\n"
          ]
        },
        {
          "name": "stdout",
          "output_type": "stream",
          "text": [
            "\u001b[1m5/5\u001b[0m \u001b[32m━━━━━━━━━━━━━━━━━━━━\u001b[0m\u001b[37m\u001b[0m \u001b[1m1s\u001b[0m 79ms/step\n",
            "Epoch 1: Macro F1-Score = 0.7431\n",
            "\u001b[1m5/5\u001b[0m \u001b[32m━━━━━━━━━━━━━━━━━━━━\u001b[0m\u001b[37m\u001b[0m \u001b[1m0s\u001b[0m 21ms/step\n",
            "Epoch 2: Macro F1-Score = 0.8064\n",
            "\u001b[1m5/5\u001b[0m \u001b[32m━━━━━━━━━━━━━━━━━━━━\u001b[0m\u001b[37m\u001b[0m \u001b[1m0s\u001b[0m 20ms/step\n",
            "Epoch 3: Macro F1-Score = 0.8179\n",
            "\u001b[1m5/5\u001b[0m \u001b[32m━━━━━━━━━━━━━━━━━━━━\u001b[0m\u001b[37m\u001b[0m \u001b[1m0s\u001b[0m 18ms/step\n",
            "Epoch 4: Macro F1-Score = 0.8015\n",
            "\u001b[1m5/5\u001b[0m \u001b[32m━━━━━━━━━━━━━━━━━━━━\u001b[0m\u001b[37m\u001b[0m \u001b[1m0s\u001b[0m 18ms/step\n",
            "Epoch 5: Macro F1-Score = 0.8556\n",
            "\u001b[1m5/5\u001b[0m \u001b[32m━━━━━━━━━━━━━━━━━━━━\u001b[0m\u001b[37m\u001b[0m \u001b[1m0s\u001b[0m 13ms/step\n",
            "Epoch 6: Macro F1-Score = 0.7887\n",
            "\u001b[1m5/5\u001b[0m \u001b[32m━━━━━━━━━━━━━━━━━━━━\u001b[0m\u001b[37m\u001b[0m \u001b[1m0s\u001b[0m 21ms/step\n",
            "Epoch 7: Macro F1-Score = 0.8264\n",
            "\u001b[1m5/5\u001b[0m \u001b[32m━━━━━━━━━━━━━━━━━━━━\u001b[0m\u001b[37m\u001b[0m \u001b[1m0s\u001b[0m 17ms/step\n",
            "Epoch 8: Macro F1-Score = 0.8366\n",
            "\u001b[1m5/5\u001b[0m \u001b[32m━━━━━━━━━━━━━━━━━━━━\u001b[0m\u001b[37m\u001b[0m \u001b[1m0s\u001b[0m 20ms/step\n",
            "Epoch 9: Macro F1-Score = 0.8388\n",
            "\u001b[1m5/5\u001b[0m \u001b[32m━━━━━━━━━━━━━━━━━━━━\u001b[0m\u001b[37m\u001b[0m \u001b[1m0s\u001b[0m 19ms/step\n",
            "Epoch 10: Macro F1-Score = 0.7656\n",
            "\u001b[1m5/5\u001b[0m \u001b[32m━━━━━━━━━━━━━━━━━━━━\u001b[0m\u001b[37m\u001b[0m \u001b[1m0s\u001b[0m 26ms/step\n",
            "Seed 789 - Macro F1-Score: 0.8058\n",
            "              precision    recall  f1-score   support\n",
            "\n",
            "  Not Sexist       0.79      0.92      0.85        90\n",
            "      Sexist       0.87      0.68      0.76        68\n",
            "\n",
            "    accuracy                           0.82       158\n",
            "   macro avg       0.83      0.80      0.81       158\n",
            "weighted avg       0.82      0.82      0.81       158\n",
            "\n"
          ]
        }
      ],
      "source": [
        "for seed in seeds:\n",
        "    print(f\"Training with seed {seed}\")\n",
        "    set_seeds(seed)\n",
        "\n",
        "    # Create and compile the baseline model\n",
        "    model_1 = create_model_1(input_shape=input_shape, lstm_units=128)\n",
        "    model_1.compile(optimizer='adam', loss='binary_crossentropy', metrics=['accuracy'])\n",
        "\n",
        "    f1_callback = F1ScoreCallback(val_data=(X_val, y_val))\n",
        "    # Train the model\n",
        "    model_1.fit(X_train, y_train, validation_data=(X_val, y_val), epochs=10, batch_size=32, callbacks = [f1_callback], verbose=0)\n",
        "\n",
        "    # Evaluate on validation set\n",
        "    val_predictions = (baseline_model.predict(X_val) > 0.5).astype(int)\n",
        "    macro_f1 = f1_score(y_val, val_predictions, average='macro')\n",
        "    model_1_f1_scores.append(macro_f1)\n",
        "    print(f\"Seed {seed} - Macro F1-Score: {macro_f1:.4f}\")\n",
        "\n",
        "    print(classification_report(y_val, val_predictions, target_names=['Not Sexist', 'Sexist']))"
      ]
    },
    {
      "cell_type": "markdown",
      "metadata": {
        "id": "eaEfko-KuEWd"
      },
      "source": [
        "#### Pick the best performing model"
      ]
    },
    {
      "cell_type": "code",
      "execution_count": 52,
      "metadata": {
        "id": "DA8X4iioCV99"
      },
      "outputs": [
        {
          "name": "stdout",
          "output_type": "stream",
          "text": [
            "[0.8191989828353465, 0.7715986394557823, 0.805806314897224, 0.805806314897224, 0.805806314897224, 0.805806314897224]\n"
          ]
        }
      ],
      "source": [
        "f1_scores = baseline_f1_scores + model_1_f1_scores\n",
        "print(f1_scores)"
      ]
    },
    {
      "cell_type": "code",
      "execution_count": 53,
      "metadata": {
        "id": "eu3BjGKzCWbh"
      },
      "outputs": [
        {
          "name": "stdout",
          "output_type": "stream",
          "text": [
            "Best Model: Baseline with Best Seed: 42 with Macro F1-Score: 0.8192\n"
          ]
        }
      ],
      "source": [
        "best_seed = seeds[np.argmax(f1_scores)]\n",
        "best_f1_baseline = max(baseline_f1_scores)\n",
        "best_f1_model_1 = max(model_1_f1_scores)\n",
        "best_f1 = max(best_f1_baseline, best_f1_model_1)\n",
        "best_model = \"Baseline\" if best_f1 == best_f1_baseline else \"Model 1\"\n",
        "print(f\"Best Model: {best_model} with Best Seed: {best_seed} with Macro F1-Score: {best_f1:.4f}\")"
      ]
    },
    {
      "cell_type": "markdown",
      "metadata": {
        "id": "JIgpzixJuSBX"
      },
      "source": [
        "#### Evaluate best performing model"
      ]
    },
    {
      "cell_type": "code",
      "execution_count": 54,
      "metadata": {
        "id": "1mvoQW5luUgZ"
      },
      "outputs": [
        {
          "name": "stdout",
          "output_type": "stream",
          "text": [
            "Epoch 1/10\n"
          ]
        },
        {
          "name": "stderr",
          "output_type": "stream",
          "text": [
            "C:\\Users\\WIN11\\AppData\\Local\\Packages\\PythonSoftwareFoundation.Python.3.11_qbz5n2kfra8p0\\LocalCache\\local-packages\\Python311\\site-packages\\keras\\src\\layers\\rnn\\bidirectional.py:107: UserWarning: Do not pass an `input_shape`/`input_dim` argument to a layer. When using Sequential models, prefer using an `Input(shape)` object as the first layer in the model instead.\n",
            "  super().__init__(**kwargs)\n"
          ]
        },
        {
          "name": "stdout",
          "output_type": "stream",
          "text": [
            "\u001b[1m90/90\u001b[0m \u001b[32m━━━━━━━━━━━━━━━━━━━━\u001b[0m\u001b[37m\u001b[0m \u001b[1m3s\u001b[0m 23ms/step - accuracy: 0.6396 - loss: 0.6303 - val_accuracy: 0.7595 - val_loss: 0.5042\n",
            "Epoch 2/10\n",
            "\u001b[1m90/90\u001b[0m \u001b[32m━━━━━━━━━━━━━━━━━━━━\u001b[0m\u001b[37m\u001b[0m \u001b[1m2s\u001b[0m 20ms/step - accuracy: 0.7717 - loss: 0.4970 - val_accuracy: 0.7911 - val_loss: 0.4836\n",
            "Epoch 3/10\n",
            "\u001b[1m90/90\u001b[0m \u001b[32m━━━━━━━━━━━━━━━━━━━━\u001b[0m\u001b[37m\u001b[0m \u001b[1m2s\u001b[0m 21ms/step - accuracy: 0.8102 - loss: 0.4421 - val_accuracy: 0.7911 - val_loss: 0.4746\n",
            "Epoch 4/10\n",
            "\u001b[1m90/90\u001b[0m \u001b[32m━━━━━━━━━━━━━━━━━━━━\u001b[0m\u001b[37m\u001b[0m \u001b[1m2s\u001b[0m 20ms/step - accuracy: 0.8192 - loss: 0.4041 - val_accuracy: 0.7975 - val_loss: 0.4856\n",
            "Epoch 5/10\n",
            "\u001b[1m90/90\u001b[0m \u001b[32m━━━━━━━━━━━━━━━━━━━━\u001b[0m\u001b[37m\u001b[0m \u001b[1m2s\u001b[0m 20ms/step - accuracy: 0.8545 - loss: 0.3614 - val_accuracy: 0.8228 - val_loss: 0.4816\n",
            "Epoch 6/10\n",
            "\u001b[1m90/90\u001b[0m \u001b[32m━━━━━━━━━━━━━━━━━━━━\u001b[0m\u001b[37m\u001b[0m \u001b[1m2s\u001b[0m 20ms/step - accuracy: 0.8389 - loss: 0.3844 - val_accuracy: 0.7722 - val_loss: 0.5173\n",
            "Epoch 7/10\n",
            "\u001b[1m90/90\u001b[0m \u001b[32m━━━━━━━━━━━━━━━━━━━━\u001b[0m\u001b[37m\u001b[0m \u001b[1m2s\u001b[0m 20ms/step - accuracy: 0.8369 - loss: 0.3800 - val_accuracy: 0.8038 - val_loss: 0.4932\n",
            "Epoch 8/10\n",
            "\u001b[1m90/90\u001b[0m \u001b[32m━━━━━━━━━━━━━━━━━━━━\u001b[0m\u001b[37m\u001b[0m \u001b[1m2s\u001b[0m 20ms/step - accuracy: 0.8723 - loss: 0.3146 - val_accuracy: 0.8165 - val_loss: 0.5099\n",
            "Epoch 9/10\n",
            "\u001b[1m90/90\u001b[0m \u001b[32m━━━━━━━━━━━━━━━━━━━━\u001b[0m\u001b[37m\u001b[0m \u001b[1m2s\u001b[0m 20ms/step - accuracy: 0.9039 - loss: 0.2539 - val_accuracy: 0.8354 - val_loss: 0.5361\n",
            "Epoch 10/10\n",
            "\u001b[1m90/90\u001b[0m \u001b[32m━━━━━━━━━━━━━━━━━━━━\u001b[0m\u001b[37m\u001b[0m \u001b[1m2s\u001b[0m 21ms/step - accuracy: 0.9280 - loss: 0.1985 - val_accuracy: 0.8291 - val_loss: 0.5665\n"
          ]
        },
        {
          "data": {
            "text/plain": [
              "<keras.src.callbacks.history.History at 0x1a5141efe90>"
            ]
          },
          "execution_count": 54,
          "metadata": {},
          "output_type": "execute_result"
        }
      ],
      "source": [
        "set_seeds(best_seed)\n",
        "if best_model == 'Baseline':\n",
        "    best_model = create_baseline_model(input_shape=input_shape, lstm_units=128)\n",
        "else:\n",
        "    best_model = create_model_1(input_shape=input_shape, lstm_units=128)\n",
        "\n",
        "best_model.compile(optimizer='adam', loss='binary_crossentropy', metrics=['accuracy'])\n",
        "\n",
        "# Retrain the best model\n",
        "best_model.fit(X_train, y_train, validation_data=(X_val, y_val), epochs=10, batch_size=32)\n"
      ]
    },
    {
      "cell_type": "code",
      "execution_count": 55,
      "metadata": {
        "id": "nanNZQg-SG36"
      },
      "outputs": [
        {
          "name": "stdout",
          "output_type": "stream",
          "text": [
            "\u001b[1m5/5\u001b[0m \u001b[32m━━━━━━━━━━━━━━━━━━━━\u001b[0m\u001b[37m\u001b[0m \u001b[1m0s\u001b[0m 44ms/step\n",
            "Final Model (Seed 42) - Macro F1-Score: 0.8192\n"
          ]
        }
      ],
      "source": [
        "# Final Evaluation\n",
        "final_val_predictions = (best_model.predict(X_val) > 0.5).astype(int)\n",
        "final_macro_f1 = f1_score(y_val, final_val_predictions, average='macro')\n",
        "print(f\"Final Model (Seed {best_seed}) - Macro F1-Score: {final_macro_f1:.4f}\")\n",
        "\n",
        "best_cr = classification_report(y_val, final_val_predictions, target_names=['Not Sexist', 'Sexist'])"
      ]
    },
    {
      "cell_type": "markdown",
      "metadata": {
        "id": "CSy9sPwYHUoD"
      },
      "source": [
        "# [Task 6 - 1.0 points] Transformers\n",
        "\n",
        "In this section, you will use a transformer model specifically trained for hate speech detection, namely [Twitter-roBERTa-base for Hate Speech Detection](https://huggingface.co/cardiffnlp/twitter-roberta-base-hate).\n",
        "\n",
        "\n"
      ]
    },
    {
      "cell_type": "markdown",
      "metadata": {
        "collapsed": false,
        "id": "m59tkUJKThSs"
      },
      "source": [
        "### Relevant Material\n",
        "- Tutorial 3"
      ]
    },
    {
      "cell_type": "markdown",
      "metadata": {
        "collapsed": false,
        "id": "1JLBffAaThSs"
      },
      "source": [
        "### Instructions\n",
        "1. **Load the Tokenizer and Model**\n",
        "\n",
        "2. **Preprocess the Dataset**:\n",
        "   You will need to preprocess your dataset to prepare it for input into the model. Tokenize your text data using the appropriate tokenizer and ensure it is formatted correctly.\n",
        "\n",
        "   **Note**: You have to use the plain text of the dataset and not the version that you tokenized before, as you need to tokenize the cleaned text obtained after the initial cleaning process.\n",
        "\n",
        "3. **Train the Model**:\n",
        "   Use the `Trainer` to train the model on your training data.\n",
        "\n",
        "4. **Evaluate the Model on the Test Set** using F1-macro."
      ]
    },
    {
      "cell_type": "markdown",
      "metadata": {
        "id": "qtvovM1OhweD"
      },
      "source": [
        "6.1 Tokenization"
      ]
    },
    {
      "cell_type": "code",
      "execution_count": 56,
      "metadata": {
        "id": "0McWETfff-Eb"
      },
      "outputs": [
        {
          "name": "stderr",
          "output_type": "stream",
          "text": [
            "C:\\Users\\WIN11\\AppData\\Local\\Packages\\PythonSoftwareFoundation.Python.3.11_qbz5n2kfra8p0\\LocalCache\\local-packages\\Python311\\site-packages\\tqdm\\auto.py:21: TqdmWarning: IProgress not found. Please update jupyter and ipywidgets. See https://ipywidgets.readthedocs.io/en/stable/user_install.html\n",
            "  from .autonotebook import tqdm as notebook_tqdm\n"
          ]
        },
        {
          "name": "stdout",
          "output_type": "stream",
          "text": [
            "WARNING:tensorflow:From C:\\Users\\WIN11\\AppData\\Local\\Packages\\PythonSoftwareFoundation.Python.3.11_qbz5n2kfra8p0\\LocalCache\\local-packages\\Python311\\site-packages\\tf_keras\\src\\losses.py:2976: The name tf.losses.sparse_softmax_cross_entropy is deprecated. Please use tf.compat.v1.losses.sparse_softmax_cross_entropy instead.\n",
            "\n"
          ]
        }
      ],
      "source": [
        "from transformers import AutoTokenizer, AutoModelForSequenceClassification, Trainer, TrainingArguments\n",
        "from datasets import Dataset\n",
        "import numpy as np\n",
        "from sklearn.metrics import f1_score, accuracy_score\n",
        "import evaluate"
      ]
    },
    {
      "cell_type": "code",
      "execution_count": 57,
      "metadata": {},
      "outputs": [],
      "source": [
        "# Model and Tokenizer\n",
        "model_card = 'cardiffnlp/twitter-roberta-base-hate'\n",
        "tokenizer = AutoTokenizer.from_pretrained(model_card)\n"
      ]
    },
    {
      "cell_type": "markdown",
      "metadata": {
        "id": "_8NY4I6Hh1u_"
      },
      "source": [
        "6.2 Model Definition\n"
      ]
    },
    {
      "cell_type": "code",
      "execution_count": 58,
      "metadata": {
        "id": "EhobuhaOh6ML"
      },
      "outputs": [],
      "source": [
        "model = AutoModelForSequenceClassification.from_pretrained(model_card, num_labels=2)"
      ]
    },
    {
      "cell_type": "markdown",
      "metadata": {
        "id": "rCRZhZD9h9Mw"
      },
      "source": [
        "6.3 Preprocess the dataset"
      ]
    },
    {
      "cell_type": "code",
      "execution_count": 59,
      "metadata": {
        "id": "8P6YZ9-hiCji"
      },
      "outputs": [
        {
          "name": "stderr",
          "output_type": "stream",
          "text": [
            "Map: 100%|██████████| 2870/2870 [00:00<00:00, 19233.38 examples/s]\n",
            "Map: 100%|██████████| 158/158 [00:00<00:00, 10147.61 examples/s]\n",
            "Map: 100%|██████████| 286/286 [00:00<00:00, 12856.72 examples/s]\n"
          ]
        }
      ],
      "source": [
        "# Convert DataFrames to Hugging Face Datasets\n",
        "train_dataset = Dataset.from_pandas(training_df[['tweet', 'hard_label_task1']])\n",
        "val_dataset = Dataset.from_pandas(validation_df[['tweet', 'hard_label_task1']])\n",
        "test_dataset = Dataset.from_pandas(test_df[['tweet', 'hard_label_task1']])\n",
        "\n",
        "# Tokenize datasets\n",
        "def tokenize_function(examples):\n",
        "    return tokenizer(examples['tweet'], padding=\"max_length\", truncation=True, max_length=128)\n",
        "\n",
        "tokenized_train = train_dataset.map(tokenize_function, batched=True)\n",
        "tokenized_val = val_dataset.map(tokenize_function, batched=True)\n",
        "tokenized_test = test_dataset.map(tokenize_function, batched=True)"
      ]
    },
    {
      "cell_type": "code",
      "execution_count": 60,
      "metadata": {
        "id": "c-p_msqtiLMG"
      },
      "outputs": [
        {
          "name": "stdout",
          "output_type": "stream",
          "text": [
            "Dataset({\n",
            "    features: ['tweet', 'hard_label_task1', 'id_EXIST', 'input_ids', 'attention_mask'],\n",
            "    num_rows: 2870\n",
            "})\n",
            "Dataset({\n",
            "    features: ['tweet', 'hard_label_task1', 'id_EXIST', 'input_ids', 'attention_mask'],\n",
            "    num_rows: 286\n",
            "})\n",
            "Dataset({\n",
            "    features: ['tweet', 'hard_label_task1', 'id_EXIST', 'input_ids', 'attention_mask'],\n",
            "    num_rows: 158\n",
            "})\n"
          ]
        }
      ],
      "source": [
        "print(tokenized_train)\n",
        "print(tokenized_test)\n",
        "print(tokenized_val)"
      ]
    },
    {
      "cell_type": "code",
      "execution_count": 61,
      "metadata": {
        "id": "FFrSz27QiOUM"
      },
      "outputs": [],
      "source": [
        "# Rename the label column for Trainer compatibility\n",
        "tokenized_train = tokenized_train.rename_column(\"hard_label_task1\", \"labels\")\n",
        "tokenized_val = tokenized_val.rename_column(\"hard_label_task1\", \"labels\")\n",
        "tokenized_test = tokenized_test.rename_column(\"hard_label_task1\", \"labels\")\n",
        "\n",
        "# Format datasets for PyTorch\n",
        "tokenized_train.set_format(\"torch\", columns=[\"input_ids\", \"attention_mask\", \"labels\"])\n",
        "tokenized_val.set_format(\"torch\", columns=[\"input_ids\", \"attention_mask\", \"labels\"])\n",
        "tokenized_test.set_format(\"torch\", columns=[\"input_ids\", \"attention_mask\", \"labels\"])"
      ]
    },
    {
      "cell_type": "markdown",
      "metadata": {
        "id": "RFC5GSADiIO7"
      },
      "source": [
        "6.4 Train the Model"
      ]
    },
    {
      "cell_type": "code",
      "execution_count": 62,
      "metadata": {
        "id": "KiUmRX5gidP-"
      },
      "outputs": [],
      "source": [
        "# Define evaluation metrics\n",
        "def compute_metrics(output_info):\n",
        "    predictions, labels = output_info.predictions, output_info.label_ids\n",
        "    predictions = np.argmax(predictions, axis=-1)  \n",
        "    \n",
        "    f1 = f1_score(y_true=labels, y_pred=predictions, average='macro') \n",
        "    acc = accuracy_score(y_true=labels, y_pred=predictions)\n",
        "    return {'f1': f1, 'accuracy': acc}"
      ]
    },
    {
      "cell_type": "code",
      "execution_count": 63,
      "metadata": {
        "id": "MbB540_yilS1"
      },
      "outputs": [
        {
          "name": "stderr",
          "output_type": "stream",
          "text": [
            "C:\\Users\\WIN11\\AppData\\Local\\Temp\\ipykernel_15332\\2585254714.py:19: FutureWarning: `tokenizer` is deprecated and will be removed in version 5.0.0 for `Trainer.__init__`. Use `processing_class` instead.\n",
            "  trainer = Trainer(\n"
          ]
        }
      ],
      "source": [
        "# Training arguments\n",
        "training_args = TrainingArguments(\n",
        "    output_dir=\"./results\",\n",
        "    eval_strategy=\"epoch\",\n",
        "    save_strategy=\"epoch\",\n",
        "    learning_rate=2e-5,\n",
        "    per_device_train_batch_size=16,\n",
        "    per_device_eval_batch_size=16,\n",
        "    num_train_epochs=3,\n",
        "    weight_decay=0.01,\n",
        "    save_total_limit=1,\n",
        "    load_best_model_at_end=True,\n",
        "    metric_for_best_model=\"f1\",\n",
        "    logging_dir=\"./logs\",\n",
        "    logging_steps=10\n",
        ")\n",
        "\n",
        "# Trainer setup\n",
        "trainer = Trainer(\n",
        "    model=model,\n",
        "    args=training_args,\n",
        "    train_dataset=tokenized_train,\n",
        "    eval_dataset=tokenized_val,\n",
        "    tokenizer=tokenizer,\n",
        "    compute_metrics=compute_metrics\n",
        ")"
      ]
    },
    {
      "cell_type": "code",
      "execution_count": 64,
      "metadata": {
        "id": "xryARtcaio0k"
      },
      "outputs": [
        {
          "name": "stderr",
          "output_type": "stream",
          "text": [
            "  2%|▏         | 10/540 [00:28<15:52,  1.80s/it] "
          ]
        },
        {
          "name": "stdout",
          "output_type": "stream",
          "text": [
            "{'loss': 0.49, 'grad_norm': 12.456476211547852, 'learning_rate': 1.962962962962963e-05, 'epoch': 0.06}\n"
          ]
        },
        {
          "name": "stderr",
          "output_type": "stream",
          "text": [
            "  4%|▎         | 20/540 [00:44<13:23,  1.54s/it]"
          ]
        },
        {
          "name": "stdout",
          "output_type": "stream",
          "text": [
            "{'loss': 0.4965, 'grad_norm': 8.99698543548584, 'learning_rate': 1.925925925925926e-05, 'epoch': 0.11}\n"
          ]
        },
        {
          "name": "stderr",
          "output_type": "stream",
          "text": [
            "  6%|▌         | 30/540 [00:59<13:11,  1.55s/it]"
          ]
        },
        {
          "name": "stdout",
          "output_type": "stream",
          "text": [
            "{'loss': 0.4367, 'grad_norm': 8.20038890838623, 'learning_rate': 1.888888888888889e-05, 'epoch': 0.17}\n"
          ]
        },
        {
          "name": "stderr",
          "output_type": "stream",
          "text": [
            "  7%|▋         | 40/540 [01:15<12:50,  1.54s/it]"
          ]
        },
        {
          "name": "stdout",
          "output_type": "stream",
          "text": [
            "{'loss': 0.4004, 'grad_norm': 9.013848304748535, 'learning_rate': 1.851851851851852e-05, 'epoch': 0.22}\n"
          ]
        },
        {
          "name": "stderr",
          "output_type": "stream",
          "text": [
            "  9%|▉         | 50/540 [01:30<12:34,  1.54s/it]"
          ]
        },
        {
          "name": "stdout",
          "output_type": "stream",
          "text": [
            "{'loss': 0.3546, 'grad_norm': 5.8409552574157715, 'learning_rate': 1.814814814814815e-05, 'epoch': 0.28}\n"
          ]
        },
        {
          "name": "stderr",
          "output_type": "stream",
          "text": [
            " 11%|█         | 60/540 [01:46<12:19,  1.54s/it]"
          ]
        },
        {
          "name": "stdout",
          "output_type": "stream",
          "text": [
            "{'loss': 0.3582, 'grad_norm': 14.881936073303223, 'learning_rate': 1.7777777777777777e-05, 'epoch': 0.33}\n"
          ]
        },
        {
          "name": "stderr",
          "output_type": "stream",
          "text": [
            " 13%|█▎        | 70/540 [02:01<12:05,  1.54s/it]"
          ]
        },
        {
          "name": "stdout",
          "output_type": "stream",
          "text": [
            "{'loss': 0.4086, 'grad_norm': 12.693936347961426, 'learning_rate': 1.740740740740741e-05, 'epoch': 0.39}\n"
          ]
        },
        {
          "name": "stderr",
          "output_type": "stream",
          "text": [
            " 15%|█▍        | 80/540 [02:17<12:00,  1.57s/it]"
          ]
        },
        {
          "name": "stdout",
          "output_type": "stream",
          "text": [
            "{'loss': 0.3982, 'grad_norm': 7.906337738037109, 'learning_rate': 1.7037037037037038e-05, 'epoch': 0.44}\n"
          ]
        },
        {
          "name": "stderr",
          "output_type": "stream",
          "text": [
            " 17%|█▋        | 90/540 [02:32<11:36,  1.55s/it]"
          ]
        },
        {
          "name": "stdout",
          "output_type": "stream",
          "text": [
            "{'loss': 0.3623, 'grad_norm': 8.259791374206543, 'learning_rate': 1.6666666666666667e-05, 'epoch': 0.5}\n"
          ]
        },
        {
          "name": "stderr",
          "output_type": "stream",
          "text": [
            " 19%|█▊        | 100/540 [02:48<11:22,  1.55s/it]"
          ]
        },
        {
          "name": "stdout",
          "output_type": "stream",
          "text": [
            "{'loss': 0.4451, 'grad_norm': 7.563941955566406, 'learning_rate': 1.6296296296296297e-05, 'epoch': 0.56}\n"
          ]
        },
        {
          "name": "stderr",
          "output_type": "stream",
          "text": [
            " 20%|██        | 110/540 [03:03<11:09,  1.56s/it]"
          ]
        },
        {
          "name": "stdout",
          "output_type": "stream",
          "text": [
            "{'loss': 0.3991, 'grad_norm': 4.908424377441406, 'learning_rate': 1.5925925925925926e-05, 'epoch': 0.61}\n"
          ]
        },
        {
          "name": "stderr",
          "output_type": "stream",
          "text": [
            " 22%|██▏       | 120/540 [03:19<10:54,  1.56s/it]"
          ]
        },
        {
          "name": "stdout",
          "output_type": "stream",
          "text": [
            "{'loss': 0.4018, 'grad_norm': 8.518524169921875, 'learning_rate': 1.555555555555556e-05, 'epoch': 0.67}\n"
          ]
        },
        {
          "name": "stderr",
          "output_type": "stream",
          "text": [
            " 24%|██▍       | 130/540 [03:34<10:35,  1.55s/it]"
          ]
        },
        {
          "name": "stdout",
          "output_type": "stream",
          "text": [
            "{'loss': 0.4193, 'grad_norm': 14.791494369506836, 'learning_rate': 1.5185185185185187e-05, 'epoch': 0.72}\n"
          ]
        },
        {
          "name": "stderr",
          "output_type": "stream",
          "text": [
            " 26%|██▌       | 140/540 [03:50<10:23,  1.56s/it]"
          ]
        },
        {
          "name": "stdout",
          "output_type": "stream",
          "text": [
            "{'loss': 0.3637, 'grad_norm': 11.78187084197998, 'learning_rate': 1.4814814814814815e-05, 'epoch': 0.78}\n"
          ]
        },
        {
          "name": "stderr",
          "output_type": "stream",
          "text": [
            " 28%|██▊       | 150/540 [04:06<10:17,  1.58s/it]"
          ]
        },
        {
          "name": "stdout",
          "output_type": "stream",
          "text": [
            "{'loss': 0.3665, 'grad_norm': 7.2517242431640625, 'learning_rate': 1.4444444444444446e-05, 'epoch': 0.83}\n"
          ]
        },
        {
          "name": "stderr",
          "output_type": "stream",
          "text": [
            " 30%|██▉       | 160/540 [04:22<09:55,  1.57s/it]"
          ]
        },
        {
          "name": "stdout",
          "output_type": "stream",
          "text": [
            "{'loss': 0.3497, 'grad_norm': 12.687145233154297, 'learning_rate': 1.4074074074074075e-05, 'epoch': 0.89}\n"
          ]
        },
        {
          "name": "stderr",
          "output_type": "stream",
          "text": [
            " 31%|███▏      | 170/540 [04:37<09:34,  1.55s/it]"
          ]
        },
        {
          "name": "stdout",
          "output_type": "stream",
          "text": [
            "{'loss': 0.4561, 'grad_norm': 11.746819496154785, 'learning_rate': 1.3703703703703706e-05, 'epoch': 0.94}\n"
          ]
        },
        {
          "name": "stderr",
          "output_type": "stream",
          "text": [
            " 33%|███▎      | 180/540 [04:52<08:02,  1.34s/it]"
          ]
        },
        {
          "name": "stdout",
          "output_type": "stream",
          "text": [
            "{'loss': 0.4405, 'grad_norm': 21.91253662109375, 'learning_rate': 1.3333333333333333e-05, 'epoch': 1.0}\n"
          ]
        },
        {
          "name": "stderr",
          "output_type": "stream",
          "text": [
            "                                                 \n",
            " 33%|███▎      | 180/540 [04:56<08:02,  1.34s/it]"
          ]
        },
        {
          "name": "stdout",
          "output_type": "stream",
          "text": [
            "{'eval_loss': 0.3206433653831482, 'eval_f1': 0.8617672790901136, 'eval_accuracy': 0.8670886075949367, 'eval_runtime': 3.9168, 'eval_samples_per_second': 40.339, 'eval_steps_per_second': 2.553, 'epoch': 1.0}\n"
          ]
        },
        {
          "name": "stderr",
          "output_type": "stream",
          "text": [
            " 35%|███▌      | 190/540 [05:16<09:54,  1.70s/it]"
          ]
        },
        {
          "name": "stdout",
          "output_type": "stream",
          "text": [
            "{'loss': 0.3061, 'grad_norm': 6.728715419769287, 'learning_rate': 1.2962962962962964e-05, 'epoch': 1.06}\n"
          ]
        },
        {
          "name": "stderr",
          "output_type": "stream",
          "text": [
            " 37%|███▋      | 200/540 [05:31<08:53,  1.57s/it]"
          ]
        },
        {
          "name": "stdout",
          "output_type": "stream",
          "text": [
            "{'loss': 0.3255, 'grad_norm': 8.545354843139648, 'learning_rate': 1.2592592592592593e-05, 'epoch': 1.11}\n"
          ]
        },
        {
          "name": "stderr",
          "output_type": "stream",
          "text": [
            " 39%|███▉      | 210/540 [05:47<08:31,  1.55s/it]"
          ]
        },
        {
          "name": "stdout",
          "output_type": "stream",
          "text": [
            "{'loss': 0.233, 'grad_norm': 13.446605682373047, 'learning_rate': 1.2222222222222224e-05, 'epoch': 1.17}\n"
          ]
        },
        {
          "name": "stderr",
          "output_type": "stream",
          "text": [
            " 41%|████      | 220/540 [06:02<08:17,  1.55s/it]"
          ]
        },
        {
          "name": "stdout",
          "output_type": "stream",
          "text": [
            "{'loss': 0.2331, 'grad_norm': 1.597847819328308, 'learning_rate': 1.1851851851851852e-05, 'epoch': 1.22}\n"
          ]
        },
        {
          "name": "stderr",
          "output_type": "stream",
          "text": [
            " 43%|████▎     | 230/540 [06:18<08:01,  1.55s/it]"
          ]
        },
        {
          "name": "stdout",
          "output_type": "stream",
          "text": [
            "{'loss': 0.1786, 'grad_norm': 1.8005441427230835, 'learning_rate': 1.1481481481481482e-05, 'epoch': 1.28}\n"
          ]
        },
        {
          "name": "stderr",
          "output_type": "stream",
          "text": [
            " 44%|████▍     | 240/540 [06:34<07:45,  1.55s/it]"
          ]
        },
        {
          "name": "stdout",
          "output_type": "stream",
          "text": [
            "{'loss': 0.3071, 'grad_norm': 12.097139358520508, 'learning_rate': 1.1111111111111113e-05, 'epoch': 1.33}\n"
          ]
        },
        {
          "name": "stderr",
          "output_type": "stream",
          "text": [
            " 46%|████▋     | 250/540 [06:49<07:37,  1.58s/it]"
          ]
        },
        {
          "name": "stdout",
          "output_type": "stream",
          "text": [
            "{'loss': 0.228, 'grad_norm': 10.384810447692871, 'learning_rate': 1.0740740740740742e-05, 'epoch': 1.39}\n"
          ]
        },
        {
          "name": "stderr",
          "output_type": "stream",
          "text": [
            " 48%|████▊     | 260/540 [07:05<07:16,  1.56s/it]"
          ]
        },
        {
          "name": "stdout",
          "output_type": "stream",
          "text": [
            "{'loss': 0.2339, 'grad_norm': 2.9036543369293213, 'learning_rate': 1.037037037037037e-05, 'epoch': 1.44}\n"
          ]
        },
        {
          "name": "stderr",
          "output_type": "stream",
          "text": [
            " 50%|█████     | 270/540 [07:21<07:02,  1.56s/it]"
          ]
        },
        {
          "name": "stdout",
          "output_type": "stream",
          "text": [
            "{'loss': 0.187, 'grad_norm': 12.73487377166748, 'learning_rate': 1e-05, 'epoch': 1.5}\n"
          ]
        },
        {
          "name": "stderr",
          "output_type": "stream",
          "text": [
            " 52%|█████▏    | 280/540 [07:36<06:44,  1.55s/it]"
          ]
        },
        {
          "name": "stdout",
          "output_type": "stream",
          "text": [
            "{'loss': 0.1731, 'grad_norm': 23.254257202148438, 'learning_rate': 9.62962962962963e-06, 'epoch': 1.56}\n"
          ]
        },
        {
          "name": "stderr",
          "output_type": "stream",
          "text": [
            " 54%|█████▎    | 290/540 [07:52<06:29,  1.56s/it]"
          ]
        },
        {
          "name": "stdout",
          "output_type": "stream",
          "text": [
            "{'loss': 0.2078, 'grad_norm': 4.181375026702881, 'learning_rate': 9.25925925925926e-06, 'epoch': 1.61}\n"
          ]
        },
        {
          "name": "stderr",
          "output_type": "stream",
          "text": [
            " 56%|█████▌    | 300/540 [08:07<06:10,  1.55s/it]"
          ]
        },
        {
          "name": "stdout",
          "output_type": "stream",
          "text": [
            "{'loss': 0.4344, 'grad_norm': 13.325477600097656, 'learning_rate': 8.888888888888888e-06, 'epoch': 1.67}\n"
          ]
        },
        {
          "name": "stderr",
          "output_type": "stream",
          "text": [
            " 57%|█████▋    | 310/540 [08:22<05:53,  1.54s/it]"
          ]
        },
        {
          "name": "stdout",
          "output_type": "stream",
          "text": [
            "{'loss': 0.1682, 'grad_norm': 11.66923999786377, 'learning_rate': 8.518518518518519e-06, 'epoch': 1.72}\n"
          ]
        },
        {
          "name": "stderr",
          "output_type": "stream",
          "text": [
            " 59%|█████▉    | 320/540 [08:38<05:39,  1.54s/it]"
          ]
        },
        {
          "name": "stdout",
          "output_type": "stream",
          "text": [
            "{'loss': 0.1943, 'grad_norm': 14.338790893554688, 'learning_rate': 8.148148148148148e-06, 'epoch': 1.78}\n"
          ]
        },
        {
          "name": "stderr",
          "output_type": "stream",
          "text": [
            " 61%|██████    | 330/540 [08:53<05:24,  1.55s/it]"
          ]
        },
        {
          "name": "stdout",
          "output_type": "stream",
          "text": [
            "{'loss': 0.2923, 'grad_norm': 6.884762763977051, 'learning_rate': 7.77777777777778e-06, 'epoch': 1.83}\n"
          ]
        },
        {
          "name": "stderr",
          "output_type": "stream",
          "text": [
            " 63%|██████▎   | 340/540 [09:09<05:17,  1.59s/it]"
          ]
        },
        {
          "name": "stdout",
          "output_type": "stream",
          "text": [
            "{'loss': 0.3255, 'grad_norm': 9.990431785583496, 'learning_rate': 7.4074074074074075e-06, 'epoch': 1.89}\n"
          ]
        },
        {
          "name": "stderr",
          "output_type": "stream",
          "text": [
            " 65%|██████▍   | 350/540 [09:25<04:53,  1.55s/it]"
          ]
        },
        {
          "name": "stdout",
          "output_type": "stream",
          "text": [
            "{'loss': 0.284, 'grad_norm': 14.00877571105957, 'learning_rate': 7.0370370370370375e-06, 'epoch': 1.94}\n"
          ]
        },
        {
          "name": "stderr",
          "output_type": "stream",
          "text": [
            " 67%|██████▋   | 360/540 [09:39<03:57,  1.32s/it]"
          ]
        },
        {
          "name": "stdout",
          "output_type": "stream",
          "text": [
            "{'loss': 0.2553, 'grad_norm': 11.612592697143555, 'learning_rate': 6.666666666666667e-06, 'epoch': 2.0}\n"
          ]
        },
        {
          "name": "stderr",
          "output_type": "stream",
          "text": [
            "                                                 \n",
            " 67%|██████▋   | 360/540 [09:43<03:57,  1.32s/it]"
          ]
        },
        {
          "name": "stdout",
          "output_type": "stream",
          "text": [
            "{'eval_loss': 0.3241322636604309, 'eval_f1': 0.8630905714875181, 'eval_accuracy': 0.8670886075949367, 'eval_runtime': 3.7657, 'eval_samples_per_second': 41.958, 'eval_steps_per_second': 2.656, 'epoch': 2.0}\n"
          ]
        },
        {
          "name": "stderr",
          "output_type": "stream",
          "text": [
            " 69%|██████▊   | 370/540 [10:02<04:37,  1.63s/it]"
          ]
        },
        {
          "name": "stdout",
          "output_type": "stream",
          "text": [
            "{'loss': 0.118, 'grad_norm': 5.444835186004639, 'learning_rate': 6.296296296296297e-06, 'epoch': 2.06}\n"
          ]
        },
        {
          "name": "stderr",
          "output_type": "stream",
          "text": [
            " 70%|███████   | 380/540 [10:18<04:07,  1.55s/it]"
          ]
        },
        {
          "name": "stdout",
          "output_type": "stream",
          "text": [
            "{'loss': 0.1828, 'grad_norm': 17.1771240234375, 'learning_rate': 5.925925925925926e-06, 'epoch': 2.11}\n"
          ]
        },
        {
          "name": "stderr",
          "output_type": "stream",
          "text": [
            " 72%|███████▏  | 390/540 [10:33<03:51,  1.54s/it]"
          ]
        },
        {
          "name": "stdout",
          "output_type": "stream",
          "text": [
            "{'loss': 0.1307, 'grad_norm': 5.268555164337158, 'learning_rate': 5.555555555555557e-06, 'epoch': 2.17}\n"
          ]
        },
        {
          "name": "stderr",
          "output_type": "stream",
          "text": [
            " 74%|███████▍  | 400/540 [10:49<03:35,  1.54s/it]"
          ]
        },
        {
          "name": "stdout",
          "output_type": "stream",
          "text": [
            "{'loss': 0.2094, 'grad_norm': 12.586209297180176, 'learning_rate': 5.185185185185185e-06, 'epoch': 2.22}\n"
          ]
        },
        {
          "name": "stderr",
          "output_type": "stream",
          "text": [
            " 76%|███████▌  | 410/540 [11:04<03:20,  1.54s/it]"
          ]
        },
        {
          "name": "stdout",
          "output_type": "stream",
          "text": [
            "{'loss': 0.1018, 'grad_norm': 11.985681533813477, 'learning_rate': 4.814814814814815e-06, 'epoch': 2.28}\n"
          ]
        },
        {
          "name": "stderr",
          "output_type": "stream",
          "text": [
            " 78%|███████▊  | 420/540 [11:19<03:05,  1.54s/it]"
          ]
        },
        {
          "name": "stdout",
          "output_type": "stream",
          "text": [
            "{'loss': 0.2238, 'grad_norm': 30.513235092163086, 'learning_rate': 4.444444444444444e-06, 'epoch': 2.33}\n"
          ]
        },
        {
          "name": "stderr",
          "output_type": "stream",
          "text": [
            " 80%|███████▉  | 430/540 [11:35<02:49,  1.54s/it]"
          ]
        },
        {
          "name": "stdout",
          "output_type": "stream",
          "text": [
            "{'loss': 0.1392, 'grad_norm': 57.21003341674805, 'learning_rate': 4.074074074074074e-06, 'epoch': 2.39}\n"
          ]
        },
        {
          "name": "stderr",
          "output_type": "stream",
          "text": [
            " 81%|████████▏ | 440/540 [11:50<02:34,  1.55s/it]"
          ]
        },
        {
          "name": "stdout",
          "output_type": "stream",
          "text": [
            "{'loss': 0.1745, 'grad_norm': 17.964122772216797, 'learning_rate': 3.7037037037037037e-06, 'epoch': 2.44}\n"
          ]
        },
        {
          "name": "stderr",
          "output_type": "stream",
          "text": [
            " 83%|████████▎ | 450/540 [12:06<02:20,  1.56s/it]"
          ]
        },
        {
          "name": "stdout",
          "output_type": "stream",
          "text": [
            "{'loss': 0.1808, 'grad_norm': 27.978553771972656, 'learning_rate': 3.3333333333333333e-06, 'epoch': 2.5}\n"
          ]
        },
        {
          "name": "stderr",
          "output_type": "stream",
          "text": [
            " 85%|████████▌ | 460/540 [12:21<02:03,  1.55s/it]"
          ]
        },
        {
          "name": "stdout",
          "output_type": "stream",
          "text": [
            "{'loss': 0.1219, 'grad_norm': 7.007600784301758, 'learning_rate': 2.962962962962963e-06, 'epoch': 2.56}\n"
          ]
        },
        {
          "name": "stderr",
          "output_type": "stream",
          "text": [
            " 87%|████████▋ | 470/540 [12:37<01:47,  1.54s/it]"
          ]
        },
        {
          "name": "stdout",
          "output_type": "stream",
          "text": [
            "{'loss': 0.1778, 'grad_norm': 11.6115140914917, 'learning_rate': 2.5925925925925925e-06, 'epoch': 2.61}\n"
          ]
        },
        {
          "name": "stderr",
          "output_type": "stream",
          "text": [
            " 89%|████████▉ | 480/540 [12:53<01:33,  1.56s/it]"
          ]
        },
        {
          "name": "stdout",
          "output_type": "stream",
          "text": [
            "{'loss': 0.105, 'grad_norm': 2.12923002243042, 'learning_rate': 2.222222222222222e-06, 'epoch': 2.67}\n"
          ]
        },
        {
          "name": "stderr",
          "output_type": "stream",
          "text": [
            " 91%|█████████ | 490/540 [13:08<01:17,  1.54s/it]"
          ]
        },
        {
          "name": "stdout",
          "output_type": "stream",
          "text": [
            "{'loss': 0.1874, 'grad_norm': 5.670341968536377, 'learning_rate': 1.8518518518518519e-06, 'epoch': 2.72}\n"
          ]
        },
        {
          "name": "stderr",
          "output_type": "stream",
          "text": [
            " 93%|█████████▎| 500/540 [13:23<01:01,  1.54s/it]"
          ]
        },
        {
          "name": "stdout",
          "output_type": "stream",
          "text": [
            "{'loss': 0.2115, 'grad_norm': 6.901687145233154, 'learning_rate': 1.4814814814814815e-06, 'epoch': 2.78}\n"
          ]
        },
        {
          "name": "stderr",
          "output_type": "stream",
          "text": [
            " 94%|█████████▍| 510/540 [13:39<00:46,  1.54s/it]"
          ]
        },
        {
          "name": "stdout",
          "output_type": "stream",
          "text": [
            "{'loss': 0.1088, 'grad_norm': 15.399652481079102, 'learning_rate': 1.111111111111111e-06, 'epoch': 2.83}\n"
          ]
        },
        {
          "name": "stderr",
          "output_type": "stream",
          "text": [
            " 96%|█████████▋| 520/540 [13:54<00:30,  1.54s/it]"
          ]
        },
        {
          "name": "stdout",
          "output_type": "stream",
          "text": [
            "{'loss': 0.1805, 'grad_norm': 2.6565890312194824, 'learning_rate': 7.407407407407407e-07, 'epoch': 2.89}\n"
          ]
        },
        {
          "name": "stderr",
          "output_type": "stream",
          "text": [
            " 98%|█████████▊| 530/540 [14:10<00:15,  1.55s/it]"
          ]
        },
        {
          "name": "stdout",
          "output_type": "stream",
          "text": [
            "{'loss': 0.1768, 'grad_norm': 18.63205337524414, 'learning_rate': 3.7037037037037036e-07, 'epoch': 2.94}\n"
          ]
        },
        {
          "name": "stderr",
          "output_type": "stream",
          "text": [
            "100%|██████████| 540/540 [14:24<00:00,  1.32s/it]"
          ]
        },
        {
          "name": "stdout",
          "output_type": "stream",
          "text": [
            "{'loss': 0.0703, 'grad_norm': 10.994009017944336, 'learning_rate': 0.0, 'epoch': 3.0}\n"
          ]
        },
        {
          "name": "stderr",
          "output_type": "stream",
          "text": [
            "                                                 \n",
            "100%|██████████| 540/540 [14:32<00:00,  1.32s/it]"
          ]
        },
        {
          "name": "stdout",
          "output_type": "stream",
          "text": [
            "{'eval_loss': 0.4401385188102722, 'eval_f1': 0.8727696545878364, 'eval_accuracy': 0.879746835443038, 'eval_runtime': 3.9912, 'eval_samples_per_second': 39.587, 'eval_steps_per_second': 2.505, 'epoch': 3.0}\n"
          ]
        },
        {
          "name": "stderr",
          "output_type": "stream",
          "text": [
            "100%|██████████| 540/540 [14:36<00:00,  1.62s/it]"
          ]
        },
        {
          "name": "stdout",
          "output_type": "stream",
          "text": [
            "{'train_runtime': 876.7356, 'train_samples_per_second': 9.821, 'train_steps_per_second': 0.616, 'train_loss': 0.27251249684227835, 'epoch': 3.0}\n"
          ]
        },
        {
          "name": "stderr",
          "output_type": "stream",
          "text": [
            "\n"
          ]
        },
        {
          "data": {
            "text/plain": [
              "TrainOutput(global_step=540, training_loss=0.27251249684227835, metrics={'train_runtime': 876.7356, 'train_samples_per_second': 9.821, 'train_steps_per_second': 0.616, 'total_flos': 566346546662400.0, 'train_loss': 0.27251249684227835, 'epoch': 3.0})"
            ]
          },
          "execution_count": 64,
          "metadata": {},
          "output_type": "execute_result"
        }
      ],
      "source": [
        "# Train the model\n",
        "trainer.train()"
      ]
    },
    {
      "cell_type": "code",
      "execution_count": 76,
      "metadata": {},
      "outputs": [
        {
          "name": "stderr",
          "output_type": "stream",
          "text": [
            "100%|██████████| 10/10 [00:03<00:00,  2.98it/s]"
          ]
        },
        {
          "name": "stdout",
          "output_type": "stream",
          "text": [
            "F1 Score on Validation Set: 0.8728\n"
          ]
        },
        {
          "name": "stderr",
          "output_type": "stream",
          "text": [
            "\n"
          ]
        }
      ],
      "source": [
        "\n",
        "eval_results = trainer.evaluate(tokenized_val)\n",
        "\n",
        "# Extract the F1 score from the results\n",
        "f1_score_val = eval_results['eval_f1']  \n",
        "\n",
        "# Print the F1 score\n",
        "print(f\"F1 Score on Validation Set: {f1_score_val:.4f}\")"
      ]
    },
    {
      "cell_type": "markdown",
      "metadata": {
        "id": "o6VjkPI6itfz"
      },
      "source": [
        "6.5 Evaluate the model"
      ]
    },
    {
      "cell_type": "code",
      "execution_count": 65,
      "metadata": {
        "id": "J46vhiQAirxP"
      },
      "outputs": [
        {
          "name": "stderr",
          "output_type": "stream",
          "text": [
            "100%|██████████| 18/18 [00:06<00:00,  2.74it/s]"
          ]
        },
        {
          "name": "stdout",
          "output_type": "stream",
          "text": [
            "Test Results:\n",
            "{'eval_loss': 0.4742465913295746, 'eval_f1': 0.8263595474989778, 'eval_accuracy': 0.8286713286713286, 'eval_runtime': 6.8624, 'eval_samples_per_second': 41.676, 'eval_steps_per_second': 2.623, 'epoch': 3.0}\n"
          ]
        },
        {
          "name": "stderr",
          "output_type": "stream",
          "text": [
            "\n"
          ]
        }
      ],
      "source": [
        "# Evaluate on the test set\n",
        "test_results = trainer.evaluate(eval_dataset=tokenized_test)\n",
        "\n",
        "print(\"Test Results:\")\n",
        "print(test_results)"
      ]
    },
    {
      "cell_type": "markdown",
      "metadata": {
        "id": "3gtiG2mAL3HM"
      },
      "source": [
        "# [Task 7 - 0.5 points] Error Analysis\n",
        "\n",
        "### Instructions\n",
        "\n",
        "After evaluating the model, perform a brief error analysis:\n",
        "\n",
        " - Review the results and identify common errors.\n",
        "\n",
        " - Summarize your findings regarding the errors and their impact on performance (e.g. but not limited to Out-of-Vocabulary (OOV) words, data imbalance, and performance differences between the custom model and the transformer...)\n",
        " - Suggest possible solutions to address the identified errors.\n",
        "\n"
      ]
    },
    {
      "cell_type": "code",
      "execution_count": 71,
      "metadata": {
        "id": "i_9uVGUcRWKd"
      },
      "outputs": [],
      "source": [
        "#steps for error analysis\n",
        "from sklearn.metrics import classification_report\n",
        "from sklearn.metrics import confusion_matrix\n",
        "from sklearn.metrics import confusion_matrix, ConfusionMatrixDisplay\n",
        "import matplotlib.pyplot as plt"
      ]
    },
    {
      "cell_type": "code",
      "execution_count": 77,
      "metadata": {
        "id": "qrNPEb6FRcC-"
      },
      "outputs": [
        {
          "name": "stdout",
          "output_type": "stream",
          "text": [
            "\n",
            "Summary of Results:\n",
            "Baseline Model - F1-Scores across seeds: [0.8191989828353465, 0.7715986394557823, 0.805806314897224]\n",
            "Model 1 - F1-Scores across seeds: [0.805806314897224, 0.805806314897224, 0.805806314897224]\n",
            "Baseline Model - Avg Macro F1-Score across seeds: 0.7989\n",
            "Model 1 - Avg Macro F1-Score across seeds: 0.8058\n",
            "Transformers - F1-Score: 0.8728\n"
          ]
        }
      ],
      "source": [
        "# Summarize Results\n",
        "print(\"\\nSummary of Results:\")\n",
        "print(\"Baseline Model - F1-Scores across seeds:\", baseline_f1_scores)\n",
        "print(\"Model 1 - F1-Scores across seeds:\", model_1_f1_scores)\n",
        "print(f\"Baseline Model - Avg Macro F1-Score across seeds: {np.mean(baseline_f1_scores):.4f}\")\n",
        "print(f\"Model 1 - Avg Macro F1-Score across seeds: {np.mean(model_1_f1_scores):.4f}\")\n",
        "print(f\"Transformers - F1-Score: {f1_score_val:.4f}\")\n",
        "\n"
      ]
    },
    {
      "cell_type": "markdown",
      "metadata": {
        "id": "pcIfdqswRgXE"
      },
      "source": [
        "The noticeable thing here is that Model 1 is much more stable across seeds, and therefore the model is not affected by randomness. This means that the model is extremely robust."
      ]
    },
    {
      "cell_type": "code",
      "execution_count": 68,
      "metadata": {
        "id": "8ZBKimDYRfc-"
      },
      "outputs": [
        {
          "name": "stdout",
          "output_type": "stream",
          "text": [
            "              precision    recall  f1-score   support\n",
            "\n",
            "  Not Sexist       0.80      0.93      0.86        90\n",
            "      Sexist       0.89      0.69      0.78        68\n",
            "\n",
            "    accuracy                           0.83       158\n",
            "   macro avg       0.84      0.81      0.82       158\n",
            "weighted avg       0.84      0.83      0.83       158\n",
            "\n"
          ]
        }
      ],
      "source": [
        "print(best_cr)"
      ]
    },
    {
      "cell_type": "code",
      "execution_count": 69,
      "metadata": {
        "id": "5BdSTgPkSJfy"
      },
      "outputs": [
        {
          "data": {
            "image/png": "[encoded data removed]",
            "text/plain": [
              "<Figure size 640x480 with 2 Axes>"
            ]
          },
          "metadata": {},
          "output_type": "display_data"
        }
      ],
      "source": [
        "from sklearn.metrics import confusion_matrix, ConfusionMatrixDisplay\n",
        "import matplotlib.pyplot as plt\n",
        "\n",
        "# Assuming y_val (true labels) and final_val_predictions (predicted labels) are defined\n",
        "cm = confusion_matrix(y_val, final_val_predictions)\n",
        "\n",
        "# Create a ConfusionMatrixDisplay object\n",
        "disp = ConfusionMatrixDisplay(confusion_matrix=cm, display_labels=['Not Sexist', 'Sexist'])  # Update labels as per your dataset\n",
        "\n",
        "# Plot the confusion matrix\n",
        "disp.plot(cmap=\"Blues\")  # Choose a colormap you prefer, e.g., \"Blues\"\n",
        "plt.title(\"Confusion Matrix\")\n",
        "plt.show()\n"
      ]
    },
    {
      "cell_type": "markdown",
      "metadata": {
        "id": "U8LOJXv2TaLx"
      },
      "source": [
        "We see that in general it seems more difficult for the model to recognize sexist tweets, as there tends to be more mistakes in that department."
      ]
    },
    {
      "cell_type": "code",
      "execution_count": 70,
      "metadata": {
        "id": "wY5HiuWFSNgS"
      },
      "outputs": [
        {
          "name": "stdout",
          "output_type": "stream",
          "text": [
            "UNK Token Statistics by Model Prediction:\n",
            "            total_tweets  total_unk  avg_unk_per_tweet  avg_unk_percentage\n",
            "Not Sexist           105        341           3.247619            0.122583\n",
            "Sexist                53        152           2.867925            0.093405\n"
          ]
        }
      ],
      "source": [
        "# Function to count `[UNK]` tokens\n",
        "def count_unk_tokens(tweet, vocabulary):\n",
        "    return sum(1 for token in tweet.split() if token.lower() not in vocabulary)\n",
        "\n",
        "# Add `[UNK]` counts to the validation set\n",
        "validation_df['unk_count'] = validation_df['tweet'].apply(lambda tweet: count_unk_tokens(tweet, vocabulary))\n",
        "validation_df['unk_percentage'] = validation_df['unk_count'] / validation_df['tweet'].apply(lambda tweet: len(tweet.split()))\n",
        "\n",
        "# Add model predictions\n",
        "validation_df['predicted_label'] = final_val_predictions\n",
        "\n",
        "# Group by prediction and calculate `[UNK]` statistics\n",
        "unk_by_prediction = validation_df.groupby('predicted_label').agg(\n",
        "    total_tweets=('tweet', 'count'),\n",
        "    total_unk=('unk_count', 'sum'),\n",
        "    avg_unk_per_tweet=('unk_count', 'mean'),\n",
        "    avg_unk_percentage=('unk_percentage', 'mean')\n",
        ")\n",
        "\n",
        "# Map numeric labels to class names\n",
        "unk_by_prediction.index = ['Not Sexist', 'Sexist']\n",
        "\n",
        "# Print results\n",
        "print(\"UNK Token Statistics by Model Prediction:\")\n",
        "print(unk_by_prediction)"
      ]
    },
    {
      "cell_type": "markdown",
      "metadata": {
        "id": "Y0wZHWUsTDmd"
      },
      "source": [
        "This code underlines the impact of the [UNK] label in the validation set."
      ]
    },
    {
      "cell_type": "markdown",
      "metadata": {
        "id": "v-0PZDTyTr_t"
      },
      "source": [
        "Furtermore, we noticed that the model would benefit from data augmentation, which cannot be done in this case as it would be too complicated and not accurate, but in general having more data, artificial or real would be good."
      ]
    },
    {
      "cell_type": "markdown",
      "metadata": {},
      "source": [
        "### Confusion matrix for the transformers\n"
      ]
    },
    {
      "cell_type": "code",
      "execution_count": 72,
      "metadata": {},
      "outputs": [
        {
          "name": "stderr",
          "output_type": "stream",
          "text": [
            "100%|██████████| 18/18 [00:06<00:00,  2.79it/s]\n"
          ]
        }
      ],
      "source": [
        "predictions_output = trainer.predict(tokenized_test)\n",
        "predictions = np.argmax(predictions_output.predictions, axis=1)\n",
        "true_labels = predictions_output.label_ids"
      ]
    },
    {
      "cell_type": "code",
      "execution_count": 74,
      "metadata": {},
      "outputs": [
        {
          "data": {
            "image/png": "[encoded data removed]",
            "text/plain": [
              "<Figure size 640x480 with 2 Axes>"
            ]
          },
          "metadata": {},
          "output_type": "display_data"
        }
      ],
      "source": [
        "# Confusion Matrix\n",
        "cm = confusion_matrix(true_labels, predictions)\n",
        "disp = ConfusionMatrixDisplay(confusion_matrix=cm, display_labels=['Not Sexist', 'Sexist'])\n",
        "disp.plot(cmap=plt.cm.Blues)\n",
        "plt.title(\"Confusion Matrix\")\n",
        "plt.show()"
      ]
    },
    {
      "cell_type": "markdown",
      "metadata": {},
      "source": [
        "- Overall, the model achieves a good balance between true positives and true negatives\n",
        "- False positives: 25 \"Not Sexist\" samples were incorrectly classified as \"Sexist\". The model may be slightly over-sensitive to detecting \"Sexist\" language, possibly due to certain keywords \n",
        "- False negatives: 24 \"Sexist\" samples were missed and classified as \"Not Sexist\". This might suggest again that the model struggles to identify subtle or implicit forms of sexist language"
      ]
    },
    {
      "cell_type": "markdown",
      "metadata": {
        "id": "P42XYjb6K3k5"
      },
      "source": [
        "# [Task 8 - 0.5 points] Report\n",
        "\n",
        "Wrap up your experiment in a short report (up to 2 pages)."
      ]
    },
    {
      "cell_type": "markdown",
      "metadata": {
        "id": "N9oXSaW1K5S7"
      },
      "source": [
        "### Instructions\n",
        "\n",
        "* Use the NLP course report template.\n",
        "* Summarize each task in the report following the provided template."
      ]
    },
    {
      "cell_type": "markdown",
      "metadata": {
        "id": "MHw2L6PlLDyE"
      },
      "source": [
        "### Recommendations\n",
        "\n",
        "The report is not a copy-paste of graphs, tables, and command outputs.\n",
        "\n",
        "* Summarize classification performance in Table format.\n",
        "* **Do not** report command outputs or screenshots.\n",
        "* Report learning curves in Figure format.\n",
        "* The error analysis section should summarize your findings.\n"
      ]
    },
    {
      "cell_type": "markdown",
      "metadata": {
        "id": "bMUqh1utLflM"
      },
      "source": [
        "# Submission\n",
        "\n",
        "* **Submit** your report in PDF format.\n",
        "* **Submit** your python notebook.\n",
        "* Make sure your notebook is **well organized**, with no temporary code, commented sections, tests, etc...\n",
        "* You can upload **model weights** in a cloud repository and report the link in the report."
      ]
    },
    {
      "cell_type": "markdown",
      "metadata": {
        "id": "ypagJed7LheY"
      },
      "source": [
        "# FAQ\n",
        "\n",
        "Please check this frequently asked questions before contacting us"
      ]
    },
    {
      "cell_type": "markdown",
      "metadata": {
        "id": "bgtFwKXMLjww"
      },
      "source": [
        "### Execution Order\n",
        "\n",
        "You are **free** to address tasks in any order (if multiple orderings are available)."
      ]
    },
    {
      "cell_type": "markdown",
      "metadata": {
        "id": "_BjMk5e_M4n7"
      },
      "source": [
        "### Trainable Embeddings\n",
        "\n",
        "You are **free** to define a trainable or non-trainable Embedding layer to load the GloVe embeddings."
      ]
    },
    {
      "cell_type": "markdown",
      "metadata": {
        "id": "e8TVgpYlM6s5"
      },
      "source": [
        "### Model architecture\n",
        "\n",
        "You **should not** change the architecture of a model (i.e., its layers).\n",
        "However, you are **free** to play with their hyper-parameters.\n"
      ]
    },
    {
      "cell_type": "markdown",
      "metadata": {
        "id": "Ia6IapI1M_A7"
      },
      "source": [
        "### Neural Libraries\n",
        "\n",
        "You are **free** to use any library of your choice to implement the networks (e.g., Keras, Tensorflow, PyTorch, JAX, etc...)"
      ]
    },
    {
      "cell_type": "markdown",
      "metadata": {
        "id": "bWDaW8DyNBu5"
      },
      "source": [
        "### Keras TimeDistributed Dense layer\n",
        "\n",
        "If you are using Keras, we recommend wrapping the final Dense layer with `TimeDistributed`."
      ]
    },
    {
      "cell_type": "markdown",
      "metadata": {
        "id": "R1WcrpemNEQm"
      },
      "source": [
        "### Robust Evaluation\n",
        "\n",
        "Each model is trained with at least 3 random seeds.\n",
        "\n",
        "Task 4 requires you to compute the average performance over the 3 seeds and its corresponding standard deviation."
      ]
    },
    {
      "cell_type": "markdown",
      "metadata": {
        "id": "_mVe5dqzNI_u"
      },
      "source": [
        "### Model Selection for Analysis\n",
        "\n",
        "To carry out the error analysis you are **free** to either\n",
        "\n",
        "* Pick examples or perform comparisons with an individual seed run model (e.g., Baseline seed 1337)\n",
        "* Perform ensembling via, for instance, majority voting to obtain a single model."
      ]
    },
    {
      "cell_type": "markdown",
      "metadata": {
        "id": "L8a4pDKSNKzI"
      },
      "source": [
        "### Error Analysis\n",
        "\n",
        "Some topics for discussion include:\n",
        "   * Precision/Recall curves.\n",
        "   * Confusion matrices.\n",
        "   * Specific misclassified samples."
      ]
    },
    {
      "cell_type": "markdown",
      "metadata": {
        "collapsed": false,
        "id": "OJm14UZkThSt"
      },
      "source": [
        "### Bonus Points\n",
        "Bonus points are arbitrarily assigned based on significant contributions such as:\n",
        "- Outstanding error analysis\n",
        "- Masterclass code organization\n",
        "- Suitable extensions\n",
        "Note that bonus points are only assigned if all task points are attributed (i.e., 6/6).\n",
        "\n",
        "**Possible Extensions/Explorations for Bonus Points:**\n",
        "- **Try other preprocessing strategies**: e.g., but not limited to, explore techniques tailored specifically for tweets or  methods that are common in social media text.\n",
        "- **Experiment with other custom architectures or models from HuggingFace**\n",
        "- **Explore Spanish tweets**: e.g., but not limited to, leverage multilingual models to process Spanish tweets and assess their performance compared to monolingual models.\n",
        "\n"
      ]
    },
    {
      "cell_type": "markdown",
      "metadata": {
        "id": "8xmMKE7vLu-y"
      },
      "source": [
        "\n",
        "\n",
        "\n",
        "\n",
        "# The End"
      ]
    }
  ],
  "metadata": {
    "accelerator": "GPU",
    "colab": {
      "gpuType": "T4",
      "provenance": []
    },
    "kernelspec": {
      "display_name": "Python 3",
      "name": "python3"
    },
    "language_info": {
      "codemirror_mode": {
        "name": "ipython",
        "version": 3
      },
      "file_extension": ".py",
      "mimetype": "text/x-python",
      "name": "python",
      "nbconvert_exporter": "python",
      "pygments_lexer": "ipython3",
      "version": "3.11.9"
    }
  },
  "nbformat": 4,
  "nbformat_minor": 0
}
